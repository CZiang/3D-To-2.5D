{
 "cells": [
  {
   "cell_type": "code",
   "execution_count": 1,
   "id": "342bbbb5",
   "metadata": {},
   "outputs": [],
   "source": [
    "import matplotlib.pyplot as plt\n",
    "from t4gpd.io.CirReader import CirReader\n",
    "from t4gpd.pyvista.ToUnstructuredGrid import ToUnstructuredGrid\n",
    "from shapely.geometry import Polygon\n",
    "from geopandas import GeoDataFrame\n",
    "import numpy as np\n",
    "import pandas as pd\n",
    "import geopandas\n",
    "from math import *\n",
    "from numpy.random import randint\n",
    "from shapely.geometry import LineString,Point\n",
    "from t4gpd.commons.GeomLib import GeomLib\n",
    "from t4gpd.demos.GeoDataFrameDemos import GeoDataFrameDemos\n",
    "from t4gpd.morph.geoProcesses.FootprintExtruder import FootprintExtruder\n",
    "from t4gpd.morph.geoProcesses.STGeoProcess import STGeoProcess\n",
    "from t4gpd.morph.STPointsDensifier2 import STPointsDensifier2\n",
    "from t4gpd.pyvista.ToUnstructuredGrid import ToUnstructuredGrid\n"
   ]
  },
  {
   "cell_type": "code",
   "execution_count": 2,
   "id": "f797dfde",
   "metadata": {},
   "outputs": [],
   "source": [
    "#gdf = GeoDataFrameDemos.districtRoyaleInNantesBuildings()\n",
    "gdf = CirReader(\"C:/Users/zcui/Desktop/programming/Re_ Rnion bilan GLO dans le SIG/scene_masque.cir\").run()"
   ]
  },
  {
   "cell_type": "code",
   "execution_count": 5,
   "id": "b786b115",
   "metadata": {},
   "outputs": [],
   "source": [
    "def VectorAngle(vector1,vector2):#calculate the angle between two vectors\n",
    "    unit_vector1 = vector1/np.linalg.norm(vector1)\n",
    "    unit_vector2 = vector2/np.linalg.norm(vector2)\n",
    "    dot_vector = np.dot(unit_vector1,unit_vector2)\n",
    "    angle = np.arccos(dot_vector)\n",
    "    return angle"
   ]
  },
  {
   "cell_type": "code",
   "execution_count": 6,
   "id": "474f1eba",
   "metadata": {},
   "outputs": [],
   "source": [
    "def SunbeamVector(altitude_angle,azimuth_angle):#get the sunbeam vector depending on the altitude and azimuth angle\n",
    "    vector_sun_x = sin(azimuth_angle)*cos(altitude_angle)\n",
    "    vector_sun_y = cos(azimuth_angle)*cos(altitude_angle)\n",
    "    vector_sun_z = sin(altitude_angle)\n",
    "    vector_sun = np.array([vector_sun_x,vector_sun_y,vector_sun_z])\n",
    "    return vector_sun"
   ]
  },
  {
   "cell_type": "code",
   "execution_count": 7,
   "id": "6456bcd2",
   "metadata": {},
   "outputs": [],
   "source": [
    "basemap_x=[]\n",
    "basemap_y=[]\n",
    "basemap_z=[]\n",
    "sidewall_x=[]\n",
    "sidewall_y=[]\n",
    "sidewall_z=[]\n",
    "for i in range(len(gdf)):\n",
    "    f = gdf.geometry[i]\n",
    "    fig = Polygon(f)\n",
    "    x, y, z=zip(*fig.exterior.coords)\n",
    "    #if sum(z)==0:\n",
    "    \n",
    "    if np.std(z)==0:\n",
    "        basemap_x.append(x)\n",
    "        basemap_y.append(y)\n",
    "        basemap_z.append(z)\n",
    "    else:\n",
    "        sidewall_x.append(x)\n",
    "        sidewall_y.append(y)\n",
    "        sidewall_z.append(z)"
   ]
  },
  {
   "cell_type": "code",
   "execution_count": 8,
   "id": "22ae30c8",
   "metadata": {},
   "outputs": [],
   "source": [
    "elevation = []\n",
    "for i in range(len(basemap_z)):\n",
    "    elevation.append(np.mean(basemap_z[i]))\n",
    "df = GeoDataFrame({'HAUTEUR':elevation},crs='epsg:2154')\n",
    "df['gid'] = df.index+1"
   ]
  },
  {
   "cell_type": "code",
   "execution_count": 9,
   "id": "8e25ebe4",
   "metadata": {},
   "outputs": [],
   "source": [
    "#lable\n",
    "lable = []\n",
    "for i in range(len(df)):\n",
    "    if df.HAUTEUR[i]==0:\n",
    "        lable.append(\"Ground\")\n",
    "    else:\n",
    "        lable.append(\"Building\")\n",
    "df['Lable'] = lable"
   ]
  },
  {
   "cell_type": "code",
   "execution_count": 151,
   "id": "45805cd9",
   "metadata": {},
   "outputs": [],
   "source": [
    "#geometry\n",
    "geometry =[]\n",
    "for i in range(len(df)):\n",
    "    p = Polygon(list(zip(basemap_x[i],basemap_y[i],basemap_z[i])))\n",
    "    p2 = Polygon(list(zip(basemap_x[i],basemap_y[i])))\n",
    "    geometry.append(p)\n",
    "df['geometry'] = geometry\n",
    "\n",
    "_difference = df.geometry[0]#create ground with holes\n",
    "for i in range(1,len(df)):\n",
    "    _difference = _difference.difference(df.geometry[i])\n",
    "df.at[0,'geometry']=_difference"
   ]
  },
  {
   "cell_type": "code",
   "execution_count": 152,
   "id": "9ef34b4e",
   "metadata": {},
   "outputs": [],
   "source": [
    "#floor\n",
    "floor = []\n",
    "for i in range(len(df)):\n",
    "    n=0\n",
    "    if df.Lable[i] == 'Ground':\n",
    "        floor.append(0)\n",
    "    else:\n",
    "        for j in range(len(sidewall_x)):\n",
    "            q = Polygon(list(zip(sidewall_x[j],sidewall_y[j])))\n",
    "            if df.geometry[i].contains(q):\n",
    "                n = n+1\n",
    "        nmb = len(basemap_x[i])-1\n",
    "        floor.append(n/nmb)\n",
    "df['floor'] = floor"
   ]
  },
  {
   "cell_type": "code",
   "execution_count": 153,
   "id": "c7aab386",
   "metadata": {},
   "outputs": [],
   "source": [
    "from t4gpd.morph.geoProcesses.STGeoProcess import STGeoProcess\n",
    "from t4gpd.morph.geoProcesses.SkyViewFactor import SkyViewFactor\n",
    "from t4gpd.morph.STPointsDensifier2 import STPointsDensifier2"
   ]
  },
  {
   "cell_type": "code",
   "execution_count": 246,
   "id": "cd9d1cb1",
   "metadata": {},
   "outputs": [],
   "source": [
    "#sensors on the buildings\n",
    "df2 = GeoDataFrame.copy(df)\n",
    "df2.geometry = df.geometry.translate(355000,6689000)#I transfer the coordinate myself with constant value\n",
    "\n",
    "df_buildings = GeoDataFrame.copy(df2)#Here I create a copy value of df for puting sensors\n",
    "df_buildings.index -= 1\n",
    "df_buildings.drop(df_buildings.index[df_buildings['Lable'] == 'Ground'], inplace = True)\n",
    "sensors = STPointsDensifier2(df_buildings, curvAbsc=[0.25,0.5,0.75], pathidFieldname=None).run()\n",
    "sensors.floor = sensors.floor.astype(int)"
   ]
  },
  {
   "cell_type": "code",
   "execution_count": 247,
   "id": "6a514aef",
   "metadata": {},
   "outputs": [],
   "source": [
    "#create sensors in each floor level, input value 'sensors',output value 'sensors2'\n",
    "from t4gpd.commons.GeomLib import GeomLib\\\n",
    "\n",
    "rows = []\n",
    "for _,row in sensors.iterrows():\n",
    "    for nfloor in range(row.floor):\n",
    "        _row = row.copy()\n",
    "        _row_z = nfloor*3.0+1.5\n",
    "        _row.HAUTEUR = _row_z\n",
    "        _row.floor = nfloor\n",
    "        _row.geometry = GeomLib.forceZCoordinateToZ0(_row.geometry,_row_z)\n",
    "        rows.append(_row)\n",
    "sensors2 = GeoDataFrame(rows,crs=sensors.crs)\n",
    "sensors2.reset_index(inplace=True,drop=True)"
   ]
  },
  {
   "cell_type": "code",
   "execution_count": 250,
   "id": "ffcea91f",
   "metadata": {},
   "outputs": [
    {
     "data": {
      "image/png": "[encoded data removed]",
      "text/plain": [
       "<Figure size 892.08x654.192 with 1 Axes>"
      ]
     },
     "metadata": {
      "needs_background": "light"
     },
     "output_type": "display_data"
    }
   ],
   "source": [
    "#plot top view(basemap with sensors)\n",
    "fig, basemap = plt.subplots(figsize=(1.5 * 8.26, 1.1 * 8.26))\n",
    "basemap.set_title(f'{len(sensors2)} sensors', size=26)\n",
    "df2.plot(ax=basemap, color='lightgrey', edgecolor='dimgrey', linewidth=0.5)\n",
    "sensors2.plot(ax=basemap, color='black')\n",
    "df2.apply(lambda x: basemap.annotate(text=x.gid, xy=x.geometry.centroid.coords[0],color='red', size=9, ha='center'), axis=1)\n",
    "#basemap.axis('off')\n",
    "plt.show()"
   ]
  },
  {
   "cell_type": "code",
   "execution_count": 159,
   "id": "a36da84c",
   "metadata": {},
   "outputs": [],
   "source": [
    "#direct and diffuse irradiance of each sensor(using Perez method)\n",
    "from t4gpd.energy.Perez import Perez\n",
    "from pysolar.solar import *\n",
    "from datetime import *\n",
    "from t4gpd.commons.AngleLib import AngleLib\n",
    "from t4gpd.commons.DatetimeLib import DatetimeLib"
   ]
  },
  {
   "cell_type": "code",
   "execution_count": 135,
   "id": "ed6bf827",
   "metadata": {},
   "outputs": [
    {
     "ename": "NameError",
     "evalue": "name 'Direct' is not defined",
     "output_type": "error",
     "traceback": [
      "\u001b[1;31m---------------------------------------------------------------------------\u001b[0m",
      "\u001b[1;31mNameError\u001b[0m                                 Traceback (most recent call last)",
      "Input \u001b[1;32mIn [135]\u001b[0m, in \u001b[0;36m<cell line: 3>\u001b[1;34m()\u001b[0m\n\u001b[0;32m      1\u001b[0m \u001b[38;5;66;03m#g_ir = sensors3.direct+diffuse#global horizontal radiation\u001b[39;00m\n\u001b[0;32m      2\u001b[0m \u001b[38;5;28;01mimport\u001b[39;00m \u001b[38;5;21;01mmath\u001b[39;00m\n\u001b[1;32m----> 3\u001b[0m \u001b[38;5;28;01mfor\u001b[39;00m i \u001b[38;5;129;01min\u001b[39;00m \u001b[38;5;28mrange\u001b[39m(\u001b[38;5;28mlen\u001b[39m(\u001b[43mDirect\u001b[49m)): \u001b[38;5;66;03m#set direct and diffuse value bigger than 0\u001b[39;00m\n\u001b[0;32m      4\u001b[0m     \u001b[38;5;28;01mif\u001b[39;00m Direct[i]\u001b[38;5;241m<\u001b[39m\u001b[38;5;241m0\u001b[39m:\n\u001b[0;32m      5\u001b[0m         Direct[i]\u001b[38;5;241m=\u001b[39m\u001b[38;5;241m0\u001b[39m\n",
      "\u001b[1;31mNameError\u001b[0m: name 'Direct' is not defined"
     ]
    }
   ],
   "source": [
    "#g_ir = sensors3.direct+diffuse#global horizontal radiation\n",
    "import math\n",
    "for i in range(len(Direct)): #set direct and diffuse value bigger than 0\n",
    "    if Direct[i]<0:\n",
    "        Direct[i]=0\n",
    "    if Diffuse[i]<0:\n",
    "        Diffuse[i]=0\n",
    "Ave_Dir = sum(Direct)/len(Direct)\n",
    "Ave_Dif = sum(Diffuse)/len(Diffuse)\n",
    "Ave_Alt = AngleLib.toRadians(sum(Alt_angle)/len(Alt_angle))\n",
    "Glo = Ave_Dif+sensors3.sun_ratio*Ave_Dir*math.cos(Ave_Alt)\n",
    "sensors3['GlobalRadiation'] = Glo"
   ]
  },
  {
   "cell_type": "code",
   "execution_count": 160,
   "id": "3c267f2c",
   "metadata": {},
   "outputs": [
    {
     "name": "stdout",
     "output_type": "stream",
     "text": [
      "SVF calculation method: Bernard et al. (2018), nRays = 64, maxRayLen = 100.0\n",
      "     HAUTEUR  gid     Lable                                 geometry  floor  \\\n",
      "0        1.5    2  Building   POINT Z (355070.000 6689060.000 1.500)      0   \n",
      "1        4.5    2  Building   POINT Z (355070.000 6689060.000 4.500)      1   \n",
      "2        7.5    2  Building   POINT Z (355070.000 6689060.000 7.500)      2   \n",
      "3       10.5    2  Building  POINT Z (355070.000 6689060.000 10.500)      3   \n",
      "4       13.5    2  Building  POINT Z (355070.000 6689060.000 13.500)      4   \n",
      "..       ...  ...       ...                                      ...    ...   \n",
      "355     10.5   10  Building  POINT Z (355045.000 6689040.000 10.500)      3   \n",
      "356     13.5   10  Building  POINT Z (355045.000 6689040.000 13.500)      4   \n",
      "357     16.5   10  Building  POINT Z (355045.000 6689040.000 16.500)      5   \n",
      "358     19.5   10  Building  POINT Z (355045.000 6689040.000 19.500)      6   \n",
      "359     22.5   10  Building  POINT Z (355045.000 6689040.000 22.500)      7   \n",
      "\n",
      "                                        geometry2D node_id motion_dir  \\\n",
      "0    POLYGON ((70 50, 70 70, 50 70, 50 50, 70 50))   0#0#0    0.0#1.0   \n",
      "1    POLYGON ((70 50, 70 70, 50 70, 50 50, 70 50))   0#0#0    0.0#1.0   \n",
      "2    POLYGON ((70 50, 70 70, 50 70, 50 50, 70 50))   0#0#0    0.0#1.0   \n",
      "3    POLYGON ((70 50, 70 70, 50 70, 50 50, 70 50))   0#0#0    0.0#1.0   \n",
      "4    POLYGON ((70 50, 70 70, 50 70, 50 50, 70 50))   0#0#0    0.0#1.0   \n",
      "..                                             ...     ...        ...   \n",
      "355  POLYGON ((35 40, 35 20, 55 20, 55 40, 35 40))   8#0#3   -1.0#0.0   \n",
      "356  POLYGON ((35 40, 35 20, 55 20, 55 40, 35 40))   8#0#3   -1.0#0.0   \n",
      "357  POLYGON ((35 40, 35 20, 55 20, 55 40, 35 40))   8#0#3   -1.0#0.0   \n",
      "358  POLYGON ((35 40, 35 20, 55 20, 55 40, 35 40))   8#0#3   -1.0#0.0   \n",
      "359  POLYGON ((35 40, 35 20, 55 20, 55 40, 35 40))   8#0#3   -1.0#0.0   \n",
      "\n",
      "          svf  \n",
      "0    0.116787  \n",
      "1    0.116787  \n",
      "2    0.116787  \n",
      "3    0.116787  \n",
      "4    0.116787  \n",
      "..        ...  \n",
      "355  0.126692  \n",
      "356  0.141121  \n",
      "357  0.146524  \n",
      "358  0.172390  \n",
      "359  0.172390  \n",
      "\n",
      "[360 rows x 9 columns]\n"
     ]
    }
   ],
   "source": [
    "#svf calculation\n",
    "from t4gpd.morph.geoProcesses.SkyViewFactor import SkyViewFactor\n",
    "\n",
    "op2 = SkyViewFactor(df_buildings,nRays=64,maxRayLen=100,\n",
    "                  elevationFieldname= 'HAUTEUR',method=2018,background=True)\n",
    "sensors4 = STGeoProcess(op2,sensors2).run()\n",
    "print(sensors4)"
   ]
  },
  {
   "cell_type": "code",
   "execution_count": 161,
   "id": "0a6765c2",
   "metadata": {
    "scrolled": true
   },
   "outputs": [],
   "source": [
    "#plot sensors and buildings\n",
    "buildings = df_buildings\n",
    "\n",
    "roads = GeoDataFrame([\n",
    "    {'gid': 1, 'geometry': LineString([[-30, -10], [30, -10]])},\n",
    "    {'gid': 2, 'geometry': LineString([[-30, 10], [30, 10]])},\n",
    "    {'gid': 3, 'geometry': LineString([[-20, -20], [-20, 20]])},\n",
    "    {'gid': 4, 'geometry': LineString([[0, -20], [0, 20]])},\n",
    "    {'gid': 5, 'geometry': LineString([[20, -20], [20, 20]])}\n",
    "    ])\n",
    "\n",
    "op = FootprintExtruder(buildings, 'HAUTEUR', forceZCoordToZero=True)\n",
    "buildingsIn3d = STGeoProcess(op, buildings).run()\n",
    "\n",
    "scene1 = ToUnstructuredGrid([buildingsIn3d,sensors4], 'svf').run()"
   ]
  },
  {
   "cell_type": "code",
   "execution_count": 162,
   "id": "9255e4da",
   "metadata": {},
   "outputs": [
    {
     "data": {
      "application/vnd.jupyter.widget-view+json": {
       "model_id": "e66bb00a823444b1b817b830b3d836e7",
       "version_major": 2,
       "version_minor": 0
      },
      "text/plain": [
       "ViewInteractiveWidget(height=768, layout=Layout(height='auto', width='100%'), width=1024)"
      ]
     },
     "metadata": {},
     "output_type": "display_data"
    }
   ],
   "source": [
    "scene1.plot(scalars='svf', cmap='gist_earth', show_edges=False,\n",
    "\tshow_scalar_bar=True, point_size=10.0, render_points_as_spheres=True)\n",
    "#scene2.plot(scalars='floor', cmap='gist_earth', show_edges=False,\n",
    "#\tshow_scalar_bar=True, point_size=5.0, render_points_as_spheres=True)"
   ]
  },
  {
   "cell_type": "code",
   "execution_count": 163,
   "id": "80abd8f0",
   "metadata": {},
   "outputs": [],
   "source": [
    "def SurfaceNormal(self): #input is the buildingsIn3d.geometry[i],than choose the polygon of one facet\n",
    "    coord = self.exterior.coords\n",
    "    facet_p0=np.array(coord[0])\n",
    "    facet_p1=np.array(coord[1])\n",
    "    facet_p2=np.array(coord[2])\n",
    "    vec1 = facet_p1 - facet_p0\n",
    "    vec2 = facet_p2 - facet_p1\n",
    "    a = vec1[1]*vec2[2]-vec1[2]*vec2[1]\n",
    "    b = vec1[2]*vec2[0]-vec1[0]*vec2[2]\n",
    "    c = vec1[0]*vec2[1]-vec1[1]*vec2[0]\n",
    "    normal = np.array([a,b,c])\n",
    "    return normal"
   ]
  },
  {
   "cell_type": "code",
   "execution_count": 233,
   "id": "281b8798",
   "metadata": {},
   "outputs": [],
   "source": [
    "def Sunlit(sunbeam,point,buildings):\n",
    "    sun = sunbeam+point\n",
    "    for j in range(len(buildings)):\n",
    "        surface = buildings.geometry[j]\n",
    "        sunline = LineString([(sun[0],sun[1]),(point1[0],point1[1])])\n",
    "        if Point(point).intersects(surface):\n",
    "            for i in range(2,len(surface)):\n",
    "                n = SurfaceNormal(surface[i])\n",
    "                con0 = np.dot(sunbeam,n)\n",
    "                if Point(point).intersects(surface[i]):\n",
    "                    if con0<0:\n",
    "                        return False\n",
    "                    else:\n",
    "                        continue\n",
    "        elif sunline.intersects(surface):\n",
    "            for i in range(2,len(surface)):\n",
    "                n = SurfaceNormal(surface[i])\n",
    "                coords = surface[i].exterior.coords\n",
    "                vec = np.array(coords[1])-point\n",
    "                con1 = np.dot(sunbeam,n)\n",
    "                con2 = np.dot(vec,n)\n",
    "                ratio = con2/con1\n",
    "                high_point = coords[2]\n",
    "                if con2>0:\n",
    "                    continue\n",
    "                else:\n",
    "                    in_point = point+ratio*sunbeam\n",
    "                    if Point(in_point).intersects(surface[i]) and in_point[2]<high_point[2]:\n",
    "                        return False\n",
    "                    else:\n",
    "                        continue\n",
    "        else:\n",
    "            continue\n",
    "    return True          "
   ]
  },
  {
   "cell_type": "code",
   "execution_count": 258,
   "id": "d8829bdc",
   "metadata": {},
   "outputs": [],
   "source": [
    "#value sun_hits means during the period how many times sun hit shine on the sensors\n",
    "d =[]\n",
    "latitude = 47.16\n",
    "longitude = -1.60\n",
    "date = datetime(2020,3,21,15,10,tzinfo=timezone.utc)\n",
    "altitude_angle = AngleLib.toRadians(get_altitude(latitude,longitude,date))\n",
    "azimuth_angle = AngleLib.toRadians(get_azimuth(latitude,longitude,date))\n",
    "#sunbeam = SunbeamVector(altitude_angle,azimuth_angle)*100\n",
    "sunbeam = np.array([-200,-200,200])\n",
    "for i in range(len(sensors2)):\n",
    "    point1 = np.array([sensors2.geometry[i].x,sensors2.geometry[i].y,sensors2.geometry[i].z])\n",
    "    ext = Sunlit(sunbeam,point1,buildingsIn3d)\n",
    "    d.append(ext)\n",
    "sensors2['Sunhit'] = d"
   ]
  },
  {
   "cell_type": "code",
   "execution_count": 259,
   "id": "e457c393",
   "metadata": {},
   "outputs": [
    {
     "data": {
      "application/vnd.jupyter.widget-view+json": {
       "model_id": "8cc9acbb0fa949249aaae371c9647b2c",
       "version_major": 2,
       "version_minor": 0
      },
      "text/plain": [
       "ViewInteractiveWidget(height=768, layout=Layout(height='auto', width='100%'), width=1024)"
      ]
     },
     "metadata": {},
     "output_type": "display_data"
    }
   ],
   "source": [
    "scene4 = ToUnstructuredGrid([buildingsIn3d,sensors2], 'Sunhit').run()\n",
    "scene4.plot(scalars='Sunhit', cmap='gist_earth', show_edges=False,\n",
    "\tshow_scalar_bar=True, point_size=10.0, render_points_as_spheres=True)"
   ]
  },
  {
   "cell_type": "code",
   "execution_count": null,
   "id": "08a10f49",
   "metadata": {},
   "outputs": [],
   "source": []
  }
 ],
 "metadata": {
  "kernelspec": {
   "display_name": "Python 3 (ipykernel)",
   "language": "python",
   "name": "python3"
  },
  "language_info": {
   "codemirror_mode": {
    "name": "ipython",
    "version": 3
   },
   "file_extension": ".py",
   "mimetype": "text/x-python",
   "name": "python",
   "nbconvert_exporter": "python",
   "pygments_lexer": "ipython3",
   "version": "3.10.4"
  }
 },
 "nbformat": 4,
 "nbformat_minor": 5
}
