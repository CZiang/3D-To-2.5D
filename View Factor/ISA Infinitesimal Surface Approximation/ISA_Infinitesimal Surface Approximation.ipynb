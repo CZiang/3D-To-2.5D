{
 "cells": [
  {
   "cell_type": "code",
   "execution_count": 1,
   "id": "82398fde",
   "metadata": {},
   "outputs": [],
   "source": [
    "import matplotlib.pyplot as plt\n",
    "from t4gpd.io.CirReader import CirReader\n",
    "from t4gpd.pyvista.ToUnstructuredGrid import ToUnstructuredGrid\n",
    "from shapely.geometry import Polygon\n",
    "from geopandas import GeoDataFrame\n",
    "import numpy as np\n",
    "import pandas as pd\n",
    "import geopandas\n",
    "from math import *\n",
    "from numpy.random import randint\n",
    "from shapely.geometry import LineString,Point\n",
    "from t4gpd.commons.GeomLib import GeomLib\n",
    "from t4gpd.demos.GeoDataFrameDemos import GeoDataFrameDemos\n",
    "from t4gpd.morph.geoProcesses.FootprintExtruder import FootprintExtruder\n",
    "from t4gpd.morph.geoProcesses.STGeoProcess import STGeoProcess\n",
    "from t4gpd.morph.STPointsDensifier2 import STPointsDensifier2\n",
    "from t4gpd.pyvista.ToUnstructuredGrid import ToUnstructuredGrid\n",
    "import random"
   ]
  },
  {
   "cell_type": "code",
   "execution_count": 2,
   "id": "e22ceddd",
   "metadata": {},
   "outputs": [],
   "source": [
    "def SurfaceNormal(self): #input is the buildingsIn3d.geometry[i],than choose the polygon of one facet\n",
    "    coord = self.exterior.coords\n",
    "    facet_p0=np.array(coord[0])\n",
    "    facet_p1=np.array(coord[1])\n",
    "    facet_p2=np.array(coord[2])\n",
    "    vec1 = facet_p1 - facet_p0\n",
    "    vec2 = facet_p2 - facet_p1\n",
    "    a = vec1[1]*vec2[2]-vec1[2]*vec2[1]\n",
    "    b = vec1[2]*vec2[0]-vec1[0]*vec2[2]\n",
    "    c = vec1[0]*vec2[1]-vec1[1]*vec2[0]\n",
    "    normal = np.array([a,b,c])\n",
    "    mod = module(normal)\n",
    "    n  = normal/mod\n",
    "    return n"
   ]
  },
  {
   "cell_type": "code",
   "execution_count": 3,
   "id": "be8fe940",
   "metadata": {},
   "outputs": [],
   "source": [
    "def module(vector):\n",
    "    return np.sqrt(np.dot(np.array(vector),np.array(vector)))"
   ]
  },
  {
   "cell_type": "code",
   "execution_count": 4,
   "id": "e3cd1235",
   "metadata": {},
   "outputs": [],
   "source": [
    "def centroid(self): #rectangle centroid\n",
    "    coord = self.exterior.coords\n",
    "    face_p0=np.array(coord[0])\n",
    "    face_p2=np.array(coord[2])\n",
    "    face_ce=(face_p0+face_p2)/2\n",
    "    return Point(face_ce)"
   ]
  },
  {
   "cell_type": "code",
   "execution_count": 5,
   "id": "b915f5d6",
   "metadata": {},
   "outputs": [],
   "source": [
    "def distance3d(point1,point2):\n",
    "    d = sqrt((point1.x-point2.x)**2 + (point1.y-point2.y)**2 + (point1.z-point2.z)**2)\n",
    "    return d"
   ]
  },
  {
   "cell_type": "code",
   "execution_count": 6,
   "id": "ea81bd8d",
   "metadata": {},
   "outputs": [],
   "source": [
    "def isa(face1,face2):#view factor from 1 to 2\n",
    "    n1=SurfaceNormal(face1.geometry)\n",
    "    n2=SurfaceNormal(face2.geometry)\n",
    "    a2=area3d(face2.geometry)\n",
    "    vec_R=np.array([face1.CentroidPoint.x-face2.CentroidPoint.x,face1.CentroidPoint.y-face2.CentroidPoint.y,face1.CentroidPoint.z-face2.CentroidPoint.z])\n",
    "    vf=-a2*np.dot(n1,vec_R)*np.dot(n2,vec_R)/(pi*module(vec_R)**4)\n",
    "    return vf"
   ]
  },
  {
   "cell_type": "code",
   "execution_count": 7,
   "id": "8e0e8907",
   "metadata": {},
   "outputs": [],
   "source": [
    "#grid surface3d into meshes of size n*m\n",
    "def grid3d(self,n,m):#n rows, m columns\n",
    "    coord = self.exterior.coords\n",
    "    p0=np.array(coord[0])\n",
    "    p1=np.array(coord[1])\n",
    "    p2=np.array(coord[2])\n",
    "    p3=np.array(coord[3])\n",
    "    vec1 = (p1-p0)/m\n",
    "    vec2 = (p2-p1)/n\n",
    "    poly=[]\n",
    "    cen_p=[]\n",
    "    sur_d=[]\n",
    "    for i in range(n):\n",
    "        for j in range(m):\n",
    "            p0_t=Point(p0+j*vec1+i*vec2)\n",
    "            p1_t=Point(p0+(j+1)*vec1+i*vec2)\n",
    "            p2_t=Point(p0+(j+1)*vec1+(i+1)*vec2)\n",
    "            p3_t=Point(p0+j*vec1+(i+1)*vec2)\n",
    "            face_t = Polygon([p0_t,p1_t,p2_t,p3_t,p0_t])\n",
    "            poly.append(face_t)\n",
    "            cen_p.append(centroid(face_t))\n",
    "            sur_d.append(Surface_diameter(face_t))\n",
    "    self_grid=GeoDataFrame({'geometry': poly},crs='epsg:2154')\n",
    "    self_grid['CentroidPoint']=cen_p\n",
    "    self_grid['diameter']=sur_d\n",
    "    return self_grid"
   ]
  },
  {
   "cell_type": "code",
   "execution_count": 8,
   "id": "b908c6c0",
   "metadata": {},
   "outputs": [],
   "source": [
    "#get area from 3d polygon\n",
    "def area3d(self):\n",
    "    coord = self.exterior.coords\n",
    "    d1 = distance3d(Point(coord[0]),Point(coord[1]))\n",
    "    d2 = distance3d(Point(coord[1]),Point(coord[2]))\n",
    "    return d1*d2"
   ]
  },
  {
   "cell_type": "code",
   "execution_count": 9,
   "id": "0dee399a",
   "metadata": {},
   "outputs": [],
   "source": [
    "def Surface_diameter(surface):\n",
    "    coord = surface.exterior.coords\n",
    "    d = distance3d(Point(coord[0]),Point(coord[2]))\n",
    "    return d"
   ]
  },
  {
   "cell_type": "code",
   "execution_count": 10,
   "id": "cb2c84fe",
   "metadata": {},
   "outputs": [],
   "source": [
    "def ParallelVF(a,b):#a=width/distance,b=height/distance\n",
    "    f = 2/(pi*a*b)*(log(((1+a**2)*(1+b**2)/(1+a**2+b**2))**0.5)+(a*(1+b**2)**0.5)*atan(a/(1+b**2)**0.5)+(b*(1+a**2)**0.5)*atan(b/(1+a**2)**0.5)-a*atan(a)-b*atan(b))\n",
    "    return f"
   ]
  },
  {
   "cell_type": "code",
   "execution_count": 11,
   "id": "3ea76f03",
   "metadata": {},
   "outputs": [],
   "source": [
    "def VerticalVF(a,b):#a = y/w , b = x/w\n",
    "    f = 1/(pi*b)*(b*atan(1/b)+a*atan(1/a)-((a**2+b**2)**0.5)*atan(1/((a**2+a**2)**0.5))+0.25*log((1+b**2)*(1+a**2)/(1+b**2+a**2)*((b**2*(1+b**2+a**2)/((1+b**2)*(b**2+a**2)))**(b**2))*(a**2*(1+a**2+b**2)/((1+a**2)*(a**2+b**2)))**(a**2)))\n",
    "    return f"
   ]
  },
  {
   "cell_type": "code",
   "execution_count": 12,
   "id": "193fff53",
   "metadata": {},
   "outputs": [],
   "source": [
    "def CreateFaces(x,y,method): #x=w/d, y=h/d\n",
    "    k = y/x\n",
    "    polygon1 = []\n",
    "    polygon2 = []\n",
    "    coords_3d_1 = np.array([[10,0,0], [0,0,0], [0,0,10*k], [10,0,10*k], [10,0,0]])\n",
    "    if method == 'parallel':\n",
    "        coords_3d_2 = np.array([[0,10/x,0], [10,10/x,0], [10,10/x,10*k], [0,10/x,10*k], [0,10/x,0]])\n",
    "    elif method == 'vertical':\n",
    "        coords_3d_2 = np.array([[0,0,0], [10,0,0], [10,10/x,0], [0,10/x,0], [0,0,0]])\n",
    "    else:\n",
    "        return 'Please select your method \"parallel\" or \"vertical\"?'\n",
    "    polygon1.append(Polygon(coords_3d_1))\n",
    "    polygon2.append(Polygon(coords_3d_2))\n",
    "    f1 = GeoDataFrame({'geometry':polygon1},crs='epsg:2154')\n",
    "    f2 = GeoDataFrame({'geometry':polygon2},crs='epsg:2154')\n",
    "    \n",
    "    f1['area'] = area3d(f1.geometry.iloc[0])\n",
    "    f2['area'] = area3d(f2.geometry.iloc[0])\n",
    "    \n",
    "    f1['diameter'] = Surface_diameter(f1.geometry.iloc[0])\n",
    "    f2['diameter'] = Surface_diameter(f2.geometry.iloc[0])\n",
    "    \n",
    "    f1['CentroidPoint'] = centroid(f1.geometry.iloc[0])\n",
    "    f2['CentroidPoint'] = centroid(f2.geometry.iloc[0])\n",
    "    return f1,f2"
   ]
  },
  {
   "cell_type": "markdown",
   "id": "056c5e99",
   "metadata": {},
   "source": [
    "# Parallel faces\n",
    "Use Subdivide() function"
   ]
  },
  {
   "cell_type": "code",
   "execution_count": 13,
   "id": "31b8a915",
   "metadata": {},
   "outputs": [],
   "source": [
    "#Subdivide function\n",
    "def isFiveTimeRuleOk(f1,f2):\n",
    "    return distance3d(f1.CentroidPoint,f2.CentroidPoint) >= 5*f1.diameter\n",
    "\n",
    "def Subdivide(f1,f2): #f1 is the emitting surface, f2 is the target surface\n",
    "    if isFiveTimeRuleOk(f1,f2):\n",
    "        return [f1]\n",
    "    else:\n",
    "        result = []\n",
    "        f_grid = grid3d(f1.geometry,2,2)\n",
    "        for i in range(len(f_grid)):\n",
    "            if isFiveTimeRuleOk(f_grid.iloc[i],f2):\n",
    "                result.append(f_grid.iloc[i])\n",
    "            else:\n",
    "                result += Subdivide(f_grid.iloc[i],f2)\n",
    "        return result"
   ]
  },
  {
   "cell_type": "code",
   "execution_count": 14,
   "id": "b4b5e4b0",
   "metadata": {},
   "outputs": [],
   "source": [
    "import timeit\n",
    "L1 = [1.5,1.4,1.3,1.2,1.1,1,0.9,0.8,0.6,0.5,0.4,0.3,0.2,0.1]\n",
    "error1 = []\n",
    "time1 = []\n",
    "for j in range(len(L1)):\n",
    "    start = timeit.default_timer()\n",
    "    f1,f2 = CreateFaces(L1[j],L1[j],'parallel')\n",
    "    d = GeoDataFrame(Subdivide(f1.iloc[0],f2.iloc[0]))\n",
    "    c = GeoDataFrame(Subdivide(f2.iloc[0],f1.iloc[0]))\n",
    "    vftest = 0\n",
    "    for i in range(len(d)):\n",
    "        face_0 = d.iloc[i]\n",
    "        vf2_isa = [isa(face_0,face_1) for face_1 in c.iloc]\n",
    "        vftest = vftest + sum(vf2_isa)/len(d)\n",
    "    stop = timeit.default_timer()\n",
    "    error1.append((vftest-ParallelVF(L1[j],L1[j]))/ParallelVF(L1[j],L1[j])*100)\n",
    "    time1.append(stop-start)"
   ]
  },
  {
   "cell_type": "code",
   "execution_count": 15,
   "id": "aede2be4",
   "metadata": {},
   "outputs": [
    {
     "data": {
      "text/plain": [
       "[Text(0.5, 0, 'H/W'), Text(0, 0.5, 'time')]"
      ]
     },
     "execution_count": 15,
     "metadata": {},
     "output_type": "execute_result"
    },
    {
     "data": {
      "image/png": "[encoded data removed]",
      "text/plain": [
       "<Figure size 432x288 with 2 Axes>"
      ]
     },
     "metadata": {
      "needs_background": "light"
     },
     "output_type": "display_data"
    }
   ],
   "source": [
    "fig,axs = plt.subplots(2)\n",
    "fig.suptitle('Parallel condition - Subdivide()')\n",
    "axs[0].plot(L1,error1,'tab:red',label = 'error%')\n",
    "axs[1].plot(L1,time1,label = 'time')\n",
    "axs[0].set(xlabel='H/W',ylabel='error%')\n",
    "axs[1].set(xlabel='H/W',ylabel='time')"
   ]
  },
  {
   "cell_type": "markdown",
   "id": "5c2b8ef4",
   "metadata": {},
   "source": [
    "Use Subdivide2() function"
   ]
  },
  {
   "cell_type": "code",
   "execution_count": 16,
   "id": "e5eb5b0c",
   "metadata": {},
   "outputs": [],
   "source": [
    "#Subdivide function 2\n",
    "def Subdivide2(f1,f2): #f1 is the emitting surface, f2 is the target surface\n",
    "    if isFiveTimeRuleOk(f1,f2):\n",
    "        return [f1]\n",
    "    else:\n",
    "        d = distance3d(f1.CentroidPoint,f2.CentroidPoint)/5\n",
    "        coord1 = f1.geometry.exterior.coords\n",
    "        w1 = distance3d(Point(coord1[0]),Point(coord1[1]))\n",
    "        h1 = distance3d(Point(coord1[1]),Point(coord1[2]))\n",
    "        \n",
    "        n1 = int(h1/d)+1\n",
    "        m1 = int(w1/d)+1\n",
    "        \n",
    "        return grid3d(f1.geometry,n1,m1)"
   ]
  },
  {
   "cell_type": "code",
   "execution_count": 17,
   "id": "a6dfa6d7",
   "metadata": {},
   "outputs": [],
   "source": [
    "L2 = [1.5,1.4,1.3,1.2,1.1,1,0.9,0.8,0.6,0.5,0.4,0.3,0.2,0.1]\n",
    "error2 = []\n",
    "time2 = []\n",
    "for j in range(len(L2)):\n",
    "    start = timeit.default_timer()\n",
    "    f1,f2 = CreateFaces(L2[j],L2[j],'parallel')\n",
    "    d = GeoDataFrame(Subdivide2(f1.iloc[0],f2.iloc[0]))\n",
    "    c = GeoDataFrame(Subdivide2(f2.iloc[0],f1.iloc[0]))\n",
    "    vftest = 0\n",
    "    for i in range(len(d)):\n",
    "        face_0 = d.iloc[i]\n",
    "        vf2_isa = [isa(face_0,face_1) for face_1 in c.iloc]\n",
    "        vftest = vftest + sum(vf2_isa)/len(d)\n",
    "    stop = timeit.default_timer()\n",
    "    error2.append((vftest-ParallelVF(L2[j],L2[j]))/ParallelVF(L2[j],L2[j])*100)\n",
    "    time2.append(stop-start)"
   ]
  },
  {
   "cell_type": "code",
   "execution_count": 18,
   "id": "c955382b",
   "metadata": {},
   "outputs": [
    {
     "data": {
      "text/plain": [
       "[Text(0.5, 0, 'H/W'), Text(0, 0.5, 'time')]"
      ]
     },
     "execution_count": 18,
     "metadata": {},
     "output_type": "execute_result"
    },
    {
     "data": {
      "image/png": "[encoded data removed]",
      "text/plain": [
       "<Figure size 432x288 with 2 Axes>"
      ]
     },
     "metadata": {
      "needs_background": "light"
     },
     "output_type": "display_data"
    }
   ],
   "source": [
    "fig,axs = plt.subplots(2)\n",
    "fig.suptitle('Parallel condition - Subdivide2()')\n",
    "axs[0].plot(L1,error2,'tab:red',label = 'error%')\n",
    "axs[1].plot(L1,time2,label = 'time')\n",
    "axs[0].set(xlabel='H/W',ylabel='error%')\n",
    "axs[1].set(xlabel='H/W',ylabel='time')"
   ]
  },
  {
   "cell_type": "markdown",
   "id": "3b7e0f13",
   "metadata": {},
   "source": [
    "# Vertical Condition\n",
    "devide horizontal faces into grids"
   ]
  },
  {
   "cell_type": "code",
   "execution_count": 19,
   "id": "8da59dae",
   "metadata": {},
   "outputs": [],
   "source": [
    "f3,f4 = CreateFaces(1,1,'vertical')\n",
    "L2 = [1,2,3,4,5]\n",
    "viewfactor = []\n",
    "time3=[]\n",
    "for i in L2:\n",
    "    start = timeit.default_timer()\n",
    "    grid = grid3d(f4.geometry.squeeze(),i,i)\n",
    "    vf = []\n",
    "    for j in range(len(grid)):\n",
    "        f4_grid = grid.iloc[j]\n",
    "        list_sub = Subdivide(f3.iloc[0],f4_grid)\n",
    "        testgeo = GeoDataFrame(list_sub)\n",
    "        area = [area3d(item) for item in testgeo.geometry]\n",
    "        testgeo['area']=area\n",
    "        vf_isa = [isa(tg,f4_grid)*tg.area/100 for tg in testgeo.iloc]\n",
    "        vf.append(sum(vf_isa))\n",
    "    viewfactor.append(sum(vf))\n",
    "    stop = timeit.default_timer()\n",
    "    time3.append(stop-start)"
   ]
  },
  {
   "cell_type": "code",
   "execution_count": 20,
   "id": "21fd00f0",
   "metadata": {},
   "outputs": [],
   "source": [
    "error3 = [abs(VerticalVF(1,1)-vf)/VerticalVF(1,1) for vf in viewfactor]"
   ]
  },
  {
   "cell_type": "code",
   "execution_count": 21,
   "id": "59c01b74",
   "metadata": {},
   "outputs": [
    {
     "data": {
      "text/plain": [
       "[Text(0.5, 0, 'Grid number(x*x)'), Text(0, 0.5, 'time')]"
      ]
     },
     "execution_count": 21,
     "metadata": {},
     "output_type": "execute_result"
    },
    {
     "data": {
      "image/png": "[encoded data removed]",
      "text/plain": [
       "<Figure size 432x288 with 2 Axes>"
      ]
     },
     "metadata": {
      "needs_background": "light"
     },
     "output_type": "display_data"
    }
   ],
   "source": [
    "fig,axs = plt.subplots(2)\n",
    "fig.suptitle('Vertical condition - Subdivide2()')\n",
    "axs[0].plot(L2,error3,'tab:red',label = 'error%')\n",
    "axs[1].plot(L2,time3,label = 'time')\n",
    "axs[0].set(xlabel='Grid number(x*x)',ylabel='error%')\n",
    "axs[1].set(xlabel='Grid number(x*x)',ylabel='time')"
   ]
  }
 ],
 "metadata": {
  "kernelspec": {
   "display_name": "Python 3 (ipykernel)",
   "language": "python",
   "name": "python3"
  },
  "language_info": {
   "codemirror_mode": {
    "name": "ipython",
    "version": 3
   },
   "file_extension": ".py",
   "mimetype": "text/x-python",
   "name": "python",
   "nbconvert_exporter": "python",
   "pygments_lexer": "ipython3",
   "version": "3.10.4"
  }
 },
 "nbformat": 4,
 "nbformat_minor": 5
}
