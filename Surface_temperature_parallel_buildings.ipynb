{
 "cells": [
  {
   "cell_type": "code",
   "execution_count": 1,
   "id": "bca272e1",
   "metadata": {},
   "outputs": [],
   "source": [
    "import matplotlib.pyplot as plt\n",
    "from t4gpd.io.CirReader import CirReader\n",
    "from t4gpd.pyvista.ToUnstructuredGrid import ToUnstructuredGrid\n",
    "from shapely.geometry import Polygon\n",
    "from geopandas import GeoDataFrame\n",
    "import numpy as np\n",
    "import pandas as pd\n",
    "import geopandas\n",
    "from math import *\n",
    "from numpy.random import randint\n",
    "from shapely.geometry import LineString,Point\n",
    "from t4gpd.commons.GeomLib import GeomLib\n",
    "from t4gpd.demos.GeoDataFrameDemos import GeoDataFrameDemos\n",
    "from t4gpd.morph.geoProcesses.FootprintExtruder import FootprintExtruder\n",
    "from t4gpd.morph.geoProcesses.STGeoProcess import STGeoProcess\n",
    "from t4gpd.morph.STPointsDensifier2 import STPointsDensifier2\n",
    "from t4gpd.pyvista.ToUnstructuredGrid import ToUnstructuredGrid\n",
    "import random\n",
    "from shapely.ops import unary_union"
   ]
  },
  {
   "cell_type": "code",
   "execution_count": 2,
   "id": "5b5ac90c",
   "metadata": {},
   "outputs": [
    {
     "data": {
      "image/png": "[encoded data removed]",
      "text/plain": [
       "<Figure size 1040.76x713.664 with 1 Axes>"
      ]
     },
     "metadata": {
      "needs_background": "light"
     },
     "output_type": "display_data"
    }
   ],
   "source": [
    "import matplotlib.pyplot as plt, pyvista\n",
    "\n",
    "from geopandas import GeoDataFrame\n",
    "from numpy.random import randint\n",
    "from shapely.geometry import Point,Polygon\n",
    "from t4gpd.commons.RayCasting3Lib import RayCasting3Lib\n",
    "from t4gpd.demos.GeoDataFrameDemos import GeoDataFrameDemos\n",
    "from t4gpd.morph.STGrid import STGrid\n",
    "\n",
    "#~ ======================================================================\n",
    "buildings = GeoDataFrameDemos.regularGridOfPlots(1, 2, dw=10)\n",
    "hauteur = [20 for item in range(len(buildings))]\n",
    "buildings['HAUTEUR'] = hauteur\n",
    "\n",
    "dx = 2\n",
    "grid = STGrid(buildings, dx, dy=None, indoor=False, intoPoint=False, encode=False).run()\n",
    "grid.gid=grid.index\n",
    "#ptA = Point([0,5,0])\n",
    "#ptB = Point([22,20])\n",
    "#points = GeoDataFrame([{'geometry': ptA, 'label': 'A'}, {'geometry': ptB, 'label': 'B'}])\n",
    "\n",
    "#covisible, ray = RayCasting3Lib.areCovisibleIn3D(ptA, ptB, buildings, 'HAUTEUR')\n",
    "#ray = GeoDataFrame([{'geometry': ray}])\n",
    "\n",
    "fig, basemap = plt.subplots(figsize=(1.75 * 8.26, 1.2 * 8.26))\n",
    "buildings.plot(ax=basemap, color='black')\n",
    "grid.boundary.plot(ax=basemap, color='blue', linewidth=0.1)\n",
    "#if covisible:\n",
    "#\tpoints.plot(ax=basemap, color='green')\n",
    "#\tray.plot(ax=basemap, color='green')\n",
    "#else:\n",
    "#\tpoints.plot(ax=basemap, color='red')\n",
    "#\tray.plot(ax=basemap, color='red')\n",
    "plt.show()\n",
    "plt.close(fig)"
   ]
  },
  {
   "cell_type": "code",
   "execution_count": 3,
   "id": "5aaed496",
   "metadata": {},
   "outputs": [],
   "source": [
    "def distance3d(point1,point2):\n",
    "    d = sqrt((point1.x-point2.x)**2 + (point1.y-point2.y)**2 + (point1.z-point2.z)**2)\n",
    "    return d"
   ]
  },
  {
   "cell_type": "code",
   "execution_count": 4,
   "id": "b75cabab",
   "metadata": {},
   "outputs": [],
   "source": [
    "def centroid(self): #rectangle centroid\n",
    "    coord = self.exterior.coords\n",
    "    face_p0=np.array(coord[0])\n",
    "    face_p2=np.array(coord[2])\n",
    "    face_ce=(face_p0+face_p2)/2\n",
    "    return Point(face_ce)"
   ]
  },
  {
   "cell_type": "code",
   "execution_count": 5,
   "id": "48bd34db",
   "metadata": {},
   "outputs": [],
   "source": [
    "#transfer buildings and ground grid into 3d coordinates\n",
    "op = FootprintExtruder(buildings, 'HAUTEUR', forceZCoordToZero=True)\n",
    "buildingsIn3d = STGeoProcess(op, buildings).run()\n",
    "\n",
    "def GroundGridIn3d(grid_geo):\n",
    "    gridin3d = GeomLib.forceZCoordinateToZ0(grid_geo,z0=0)\n",
    "    return gridin3d\n",
    "grid_geo = [GroundGridIn3d(item) for item in grid.geometry]\n",
    "GridIn3d = GeoDataFrame.copy(grid)\n",
    "GridIn3d.geometry=grid_geo\n",
    "\n",
    "sidewall=[]\n",
    "gid=[]\n",
    "fid=[]\n",
    "for i in range(len(buildings)):\n",
    "    base_face = GeomLib.forceZCoordinateToZ0(buildings.geometry[i],z0=0)\n",
    "    roof_face = GeomLib.forceZCoordinateToZ0(buildings.geometry[i],z0=buildings.HAUTEUR[i])\n",
    "    coordIn3d_base = base_face.exterior.coords\n",
    "    coordIn3d_roof = roof_face.exterior.coords\n",
    "    for j in range(4):\n",
    "        sidewall.append(Polygon([coordIn3d_base[j+1],coordIn3d_base[j],coordIn3d_roof[j],coordIn3d_roof[j+1],coordIn3d_base[j+1]]))\n",
    "        fid.append(j)\n",
    "        gid.append(buildings.gid[i])\n",
    "SidewallsIn3d = GeoDataFrame({'geometry':sidewall},crs='epsg:2154')\n",
    "SidewallsIn3d['gid']=gid\n",
    "SidewallsIn3d['fid']=fid"
   ]
  },
  {
   "cell_type": "code",
   "execution_count": 6,
   "id": "cda28f0b",
   "metadata": {},
   "outputs": [],
   "source": [
    "#save centroid points of each surface\n",
    "grid_cen = [centroid(face_g) for face_g in GridIn3d.geometry]\n",
    "GridIn3d['CentroidPoint']=grid_cen\n",
    "face_cen = [centroid(face_s) for face_s in SidewallsIn3d.geometry]\n",
    "SidewallsIn3d['CentroidPoint']=face_cen"
   ]
  },
  {
   "cell_type": "code",
   "execution_count": 7,
   "id": "37db863b",
   "metadata": {},
   "outputs": [],
   "source": [
    "#get diameter of the surface\n",
    "def Surface_diameter(surface):\n",
    "    coord = surface.exterior.coords\n",
    "    d = distance3d(Point(coord[0]),Point(coord[2]))\n",
    "    return d\n",
    "diameter = [Surface_diameter(face_s) for face_s in SidewallsIn3d.geometry]\n",
    "SidewallsIn3d['diameter'] = diameter"
   ]
  },
  {
   "cell_type": "code",
   "execution_count": 8,
   "id": "d3bb9c34",
   "metadata": {},
   "outputs": [],
   "source": [
    "cov_grid=[]\n",
    "cov_gid=[]\n",
    "ran = 30\n",
    "ptA = Point([-10,0,10])\n",
    "bound = ptA.buffer(ran)\n",
    "for i in range(len(GridIn3d)):\n",
    "    covisible, ray = RayCasting3Lib.areCovisibleIn3D(ptA, GridIn3d.CentroidPoint[i], buildings, 'HAUTEUR')\n",
    "    if covisible and GridIn3d.CentroidPoint[i].within(bound):\n",
    "        cov_grid.append(GridIn3d.geometry[i])\n",
    "        cov_gid.append(GridIn3d.gid[i])\n",
    "CovisibleGrid = GeoDataFrame({'geometry': cov_grid},crs='epsg:2154')\n",
    "covi_grid_cen = [centroid(face_c) for face_c in CovisibleGrid.geometry]\n",
    "CovisibleGrid['CentroidPoint']=covi_grid_cen\n",
    "CovisibleGrid['gid']=cov_gid"
   ]
  },
  {
   "cell_type": "code",
   "execution_count": 9,
   "id": "125a4d3e",
   "metadata": {},
   "outputs": [
    {
     "data": {
      "image/png": "[encoded data removed]",
      "text/plain": [
       "<Figure size 1040.76x713.664 with 1 Axes>"
      ]
     },
     "metadata": {
      "needs_background": "light"
     },
     "output_type": "display_data"
    }
   ],
   "source": [
    "fig, basemap = plt.subplots(figsize=(1.75 * 8.26, 1.2 * 8.26))\n",
    "buildings.plot(ax=basemap,color='lightgrey', edgecolor='dimgrey', linewidth=0.5)\n",
    "grid.boundary.plot(ax=basemap, color='blue', linewidth=0.1)\n",
    "CovisibleGrid.plot(ax=basemap, color='red')\n",
    "buildings.apply(lambda x: basemap.annotate(\n",
    "\t\t\ttext=x.gid, xy=x.geometry.centroid.coords[0],\n",
    "\t\t\t#~ text=x.HAUTEUR, xy=x.geometry.centroid.coords[0],\n",
    "\t\t\tcolor='red', size=9, ha='center'), axis=1)\n",
    "buildings.apply(lambda x: basemap.annotate(\n",
    "\t\t\ttext=x.gid, xy=x.geometry.centroid.coords[0],\n",
    "\t\t\t#~ text=x.HAUTEUR, xy=x.geometry.centroid.coords[0],\n",
    "\t\t\tcolor='red', size=9, ha='center'), axis=1)\n",
    "plt.show()\n",
    "plt.close(fig)"
   ]
  },
  {
   "cell_type": "code",
   "execution_count": 10,
   "id": "cf0efe3a",
   "metadata": {},
   "outputs": [],
   "source": [
    "def SurfaceNormal(self): #input is the buildingsIn3d.geometry[i],than choose the polygon of one facet\n",
    "    coord = self.exterior.coords\n",
    "    facet_p0=np.array(coord[0])\n",
    "    facet_p1=np.array(coord[1])\n",
    "    facet_p2=np.array(coord[2])\n",
    "    vec1 = facet_p1 - facet_p0\n",
    "    vec2 = facet_p2 - facet_p1\n",
    "    a = vec1[1]*vec2[2]-vec1[2]*vec2[1]\n",
    "    b = vec1[2]*vec2[0]-vec1[0]*vec2[2]\n",
    "    c = vec1[0]*vec2[1]-vec1[1]*vec2[0]\n",
    "    normal = np.array([a,b,c])\n",
    "    mod = module(normal)\n",
    "    n  = normal/mod\n",
    "    return n"
   ]
  },
  {
   "cell_type": "code",
   "execution_count": 11,
   "id": "b3a50984",
   "metadata": {},
   "outputs": [],
   "source": [
    "def module(vector):\n",
    "    return np.sqrt(np.dot(np.array(vector),np.array(vector)))"
   ]
  },
  {
   "cell_type": "code",
   "execution_count": 12,
   "id": "95dbf4c9",
   "metadata": {},
   "outputs": [],
   "source": [
    "def isa(face1,face2):#view factor from 1 to 2\n",
    "    n1=SurfaceNormal(face1.geometry)\n",
    "    n2=SurfaceNormal(face2.geometry)\n",
    "    a2=area3d(face2.geometry)\n",
    "    vec_R=np.array([face1.CentroidPoint.x-face2.CentroidPoint.x,face1.CentroidPoint.y-face2.CentroidPoint.y,face1.CentroidPoint.z-face2.CentroidPoint.z])\n",
    "    vf=-a2*np.dot(n1,vec_R)*np.dot(n2,vec_R)/(pi*module(vec_R)**4)\n",
    "    return vf"
   ]
  },
  {
   "cell_type": "code",
   "execution_count": 13,
   "id": "f9154ff4",
   "metadata": {},
   "outputs": [],
   "source": [
    "#grid surface3d into meshes of size n*m\n",
    "def grid3d(self,n,m):#n rows, m columns\n",
    "    coord = self.exterior.coords\n",
    "    p0=np.array(coord[0])\n",
    "    p1=np.array(coord[1])\n",
    "    p2=np.array(coord[2])\n",
    "    p3=np.array(coord[3])\n",
    "    vec1 = (p1-p0)/m\n",
    "    vec2 = (p2-p1)/n\n",
    "    poly=[]\n",
    "    cen_p=[]\n",
    "    sur_d=[]\n",
    "    for i in range(n):\n",
    "        for j in range(m):\n",
    "            p0_t=Point(p0+j*vec1+i*vec2)\n",
    "            p1_t=Point(p0+(j+1)*vec1+i*vec2)\n",
    "            p2_t=Point(p0+(j+1)*vec1+(i+1)*vec2)\n",
    "            p3_t=Point(p0+j*vec1+(i+1)*vec2)\n",
    "            face_t = Polygon([p0_t,p1_t,p2_t,p3_t,p0_t])\n",
    "            poly.append(face_t)\n",
    "            cen_p.append(centroid(face_t))\n",
    "            sur_d.append(Surface_diameter(face_t))\n",
    "    self_grid=GeoDataFrame({'geometry': poly},crs='epsg:2154')\n",
    "    self_grid['CentroidPoint']=cen_p\n",
    "    self_grid['diameter']=sur_d\n",
    "    return self_grid"
   ]
  },
  {
   "cell_type": "code",
   "execution_count": 14,
   "id": "551ec405",
   "metadata": {},
   "outputs": [],
   "source": [
    "#Subdivide function\n",
    "def isFiveTimeRuleOk(f1,f2):\n",
    "    return distance3d(f1.CentroidPoint,f2.CentroidPoint) >= 5*f1.diameter\n",
    "\n",
    "def Subdivide(f1,f2): #f1 is the emitting surface, f2 is the target surface\n",
    "    if isFiveTimeRuleOk(f1,f2):\n",
    "        return [f1]\n",
    "    else:\n",
    "        result = []\n",
    "        f_grid = grid3d(f1.geometry,2,2)\n",
    "        for i in range(len(f_grid)):\n",
    "            if isFiveTimeRuleOk(f_grid.iloc[i],f2):\n",
    "                result.append(f_grid.iloc[i])\n",
    "            else:\n",
    "                result += Subdivide(f_grid.iloc[i],f2)\n",
    "        return result"
   ]
  },
  {
   "cell_type": "code",
   "execution_count": 15,
   "id": "8286858c",
   "metadata": {},
   "outputs": [],
   "source": [
    "#get area from 3d polygon\n",
    "def area3d(self):\n",
    "    coord = self.exterior.coords\n",
    "    d1 = distance3d(Point(coord[0]),Point(coord[1]))\n",
    "    d2 = distance3d(Point(coord[1]),Point(coord[2]))\n",
    "    return d1*d2"
   ]
  },
  {
   "cell_type": "code",
   "execution_count": 16,
   "id": "b673b081",
   "metadata": {},
   "outputs": [],
   "source": [
    "#select one wall as our study surface\n",
    "testwall = GeoDataFrame.copy(SidewallsIn3d.loc[(SidewallsIn3d.gid==0) & (SidewallsIn3d.fid==0)])\n",
    "testwall = testwall.reset_index(drop=True)\n",
    "testwall2 = GeoDataFrame.copy(SidewallsIn3d.loc[(SidewallsIn3d.gid==1) & (SidewallsIn3d.fid==2)])\n",
    "testwall2 = testwall2.reset_index(drop=True)"
   ]
  },
  {
   "cell_type": "code",
   "execution_count": 17,
   "id": "1c5ed3e6",
   "metadata": {},
   "outputs": [],
   "source": [
    "#Create DataFrame to save viewfactor\n",
    "namelist=[]\n",
    "for i in range(len(SidewallsIn3d)):\n",
    "    gid_name = SidewallsIn3d.loc[i,'gid']\n",
    "    fid_name = SidewallsIn3d.loc[i,'fid']\n",
    "    namelist.append(\"Sidewallsgid{gid_name}fid{fid_name}\".format(gid_name=gid_name,fid_name=fid_name))\n",
    "for j in range(len(GridIn3d)):\n",
    "    gid_name2 = GridIn3d.loc[j,'gid']\n",
    "    namelist.append(\"Gridgid{gid_name2}\".format(gid_name2=gid_name2))\n",
    "    \n",
    "ViewFactorFrame = pd.DataFrame(np.zeros((len(SidewallsIn3d)+len(GridIn3d),len(SidewallsIn3d)+len(GridIn3d))))\n",
    "ViewFactorFrame.columns = namelist\n",
    "ViewFactorFrame.index = namelist"
   ]
  },
  {
   "cell_type": "code",
   "execution_count": 18,
   "id": "74c88523",
   "metadata": {},
   "outputs": [
    {
     "name": "stdout",
     "output_type": "stream",
     "text": [
      "CPU times: total: 1min 24s\n",
      "Wall time: 1min 24s\n"
     ]
    }
   ],
   "source": [
    "%%time\n",
    "#frome surface gid=0,fid=0\n",
    "constant = area3d(testwall.iloc[0].geometry)\n",
    "viewfactor=[]\n",
    "for i in range(len(CovisibleGrid)):\n",
    "    list_sub = Subdivide(testwall.iloc[0],CovisibleGrid.iloc[i])\n",
    "    testgeo = GeoDataFrame(list_sub)\n",
    "    testgeo.reset_index(drop=True,inplace=True)\n",
    "    area = [area3d(item) for item in testgeo.geometry]\n",
    "    testgeo['area']= area\n",
    "    vf_isa=[]\n",
    "    for j in range(len(testgeo)):\n",
    "        vf_isa.append(isa(testgeo.iloc[j],CovisibleGrid.iloc[i])*testgeo.diameter[j]**2/(2*constant))\n",
    "    viewfactor.append(sum(vf_isa))\n",
    "CovisibleGrid['vf_isa']=viewfactor"
   ]
  },
  {
   "cell_type": "code",
   "execution_count": 19,
   "id": "486a62f8",
   "metadata": {},
   "outputs": [
    {
     "name": "stdout",
     "output_type": "stream",
     "text": [
      "CPU times: total: 1min 24s\n",
      "Wall time: 1min 24s\n"
     ]
    }
   ],
   "source": [
    "%%time\n",
    "#frome surface gid=0,fid=0\n",
    "constant = area3d(testwall.iloc[0].geometry)\n",
    "viewfactor=[]\n",
    "for i in range(len(CovisibleGrid)):\n",
    "    list_sub = Subdivide(testwall.iloc[0],CovisibleGrid.iloc[i])\n",
    "    testgeo = GeoDataFrame(list_sub)\n",
    "    testgeo.reset_index(drop=True,inplace=True)\n",
    "    area = [area3d(item) for item in testgeo.geometry]\n",
    "    testgeo['area']= area\n",
    "    vf_isa=[]\n",
    "    for j in range(len(testgeo)):\n",
    "        vf_isa.append(isa(testgeo.iloc[j],CovisibleGrid.iloc[i])*testgeo.diameter[j]**2/(2*constant))\n",
    "    ViewFactorFrame.loc['Sidewallsgid{a}fid{b}'.format(a=0,b=0),'Gridgid{c}'.format(c=i)]=sum(vf_isa)\n",
    "    ViewFactorFrame.loc['Gridgid{c}'.format(c=i),'Sidewallsgid{a}fid{b}'.format(a=0,b=0)]=sum(vf_isa)*constant/area3d(CovisibleGrid.iloc[i].geometry)\n",
    "#CovisibleGrid['vf_isa']=viewfactor"
   ]
  },
  {
   "cell_type": "code",
   "execution_count": 20,
   "id": "e5093c7f",
   "metadata": {
    "scrolled": true
   },
   "outputs": [
    {
     "name": "stdout",
     "output_type": "stream",
     "text": [
      "CPU times: total: 1min 24s\n",
      "Wall time: 1min 24s\n"
     ]
    }
   ],
   "source": [
    "%%time\n",
    "#frome surface gid=0,fid=0\n",
    "constant = area3d(testwall2.iloc[0].geometry)\n",
    "viewfactor=[]\n",
    "for i in range(len(CovisibleGrid)):\n",
    "    list_sub = Subdivide(testwall2.iloc[0],CovisibleGrid.iloc[i])\n",
    "    testgeo = GeoDataFrame(list_sub)\n",
    "    testgeo.reset_index(drop=True,inplace=True)\n",
    "    area = [area3d(item) for item in testgeo.geometry]\n",
    "    testgeo['area']= area\n",
    "    vf_isa=[]\n",
    "    for j in range(len(testgeo)):\n",
    "        vf_isa.append(isa(testgeo.iloc[j],CovisibleGrid.iloc[i])*testgeo.diameter[j]**2/(2*constant))\n",
    "    ViewFactorFrame.loc['Sidewallsgid{a}fid{b}'.format(a=1,b=2),'Gridgid{c}'.format(c=i)]=sum(vf_isa)\n",
    "    ViewFactorFrame.loc['Gridgid{c}'.format(c=i),'Sidewallsgid{a}fid{b}'.format(a=1,b=2)]=sum(vf_isa)*constant/area3d(CovisibleGrid.iloc[i].geometry)\n",
    "    viewfactor.append(sum(vf_isa))\n",
    "CovisibleGrid['vf_isa_2']=viewfactor"
   ]
  },
  {
   "cell_type": "code",
   "execution_count": 21,
   "id": "1a557fd8",
   "metadata": {},
   "outputs": [],
   "source": [
    "ViewFactorFrame.loc['Sidewallsgid{a}fid{b}'.format(a=1,b=2),'Sidewallsgid{a}fid{b}'.format(a=0,b=0)]=0.1998\n",
    "ViewFactorFrame.loc['Sidewallsgid{a}fid{b}'.format(a=0,b=0),'Sidewallsgid{a}fid{b}'.format(a=1,b=2)]=0.1998"
   ]
  },
  {
   "cell_type": "code",
   "execution_count": 23,
   "id": "ee13c9f2",
   "metadata": {
    "scrolled": true
   },
   "outputs": [
    {
     "data": {
      "application/vnd.jupyter.widget-view+json": {
       "model_id": "97d4c68d30e7488b956d9c8780a54752",
       "version_major": 2,
       "version_minor": 0
      },
      "text/plain": [
       "ViewInteractiveWidget(height=768, layout=Layout(height='auto', width='100%'), width=1024)"
      ]
     },
     "metadata": {},
     "output_type": "display_data"
    }
   ],
   "source": [
    "scene1 = ToUnstructuredGrid([CovisibleGrid,buildingsIn3d],'vf_isa_2').run()\n",
    "scene1.plot(scalars='vf_isa_2',cmap='gist_earth',show_edges=True,\n",
    "\tshow_scalar_bar=True, point_size=5.0, render_points_as_spheres=True)"
   ]
  },
  {
   "cell_type": "markdown",
   "id": "2f80e8d3",
   "metadata": {},
   "source": [
    "# Shortwave Radiation"
   ]
  },
  {
   "cell_type": "code",
   "execution_count": 24,
   "id": "e473cc97",
   "metadata": {},
   "outputs": [],
   "source": [
    "#direct and diffuse irradiance of each sensor(using Perez method)\n",
    "from t4gpd.energy.Perez import Perez\n",
    "from pysolar.solar import *\n",
    "from datetime import *\n",
    "from t4gpd.commons.AngleLib import AngleLib\n",
    "from t4gpd.commons.DatetimeLib import DatetimeLib"
   ]
  },
  {
   "cell_type": "code",
   "execution_count": 25,
   "id": "58d1a0b7",
   "metadata": {},
   "outputs": [],
   "source": [
    "def SunbeamVector(altitude_angle,azimuth_angle):#get the sunbeam vector depending on the altitude and azimuth angle\n",
    "    vector_sun_x = sin(azimuth_angle)*cos(altitude_angle)\n",
    "    vector_sun_y = cos(azimuth_angle)*cos(altitude_angle)\n",
    "    vector_sun_z = sin(altitude_angle)\n",
    "    vector_sun = np.array([vector_sun_x,vector_sun_y,vector_sun_z])\n",
    "    return vector_sun"
   ]
  },
  {
   "cell_type": "code",
   "execution_count": 26,
   "id": "f629344a",
   "metadata": {},
   "outputs": [],
   "source": [
    "def STEvenPoints(face,n,m): #row=n, column=m\n",
    "    p = face.exterior.coords\n",
    "    vec1 = np.array(p[2])-np.array(p[1])\n",
    "    vec2 = np.array(p[1])-np.array(p[0])\n",
    "    L1 = vec1/n\n",
    "    L2 = vec2/m\n",
    "    s = []\n",
    "    normal = []\n",
    "    for i in range(1,n+1):\n",
    "        for j in range(1,m+1):\n",
    "            point_1 = np.array(p[0])+L2*(j-1)+L1*(i-1)\n",
    "            point_2 = np.array(p[0])+L2*j+L1*i\n",
    "            point_c = Point((point_1+point_2)/2)\n",
    "            s.append(point_c)\n",
    "            normal.append(SurfaceNormal(face))\n",
    "    p_geodata = GeoDataFrame({'geometry':s},crs='epsg:2154')\n",
    "    p_geodata['NormalVector'] = normal\n",
    "    return p_geodata"
   ]
  },
  {
   "cell_type": "code",
   "execution_count": 27,
   "id": "e31eff69",
   "metadata": {},
   "outputs": [],
   "source": [
    "def Sunlit2(sunbeam,point,buildings,normal):\n",
    "    if np.dot(sunbeam,normal)<0:\n",
    "        return False\n",
    "    else:\n",
    "        p = np.array([point.x,point.y,point.z])\n",
    "        sun = sunbeam*100+p\n",
    "        covisible, ray = RayCasting3Lib.areCovisibleIn3D(point, Point(sun), buildings, 'HAUTEUR')\n",
    "        return covisible"
   ]
  },
  {
   "cell_type": "code",
   "execution_count": 28,
   "id": "ae03cd64",
   "metadata": {},
   "outputs": [],
   "source": [
    "#create sensors on study surfaces\n",
    "sensors0 = STEvenPoints(testwall.geometry[0],10,10)\n",
    "sensors1 = STEvenPoints(testwall2.geometry[0],10,10)\n",
    "sensors_grid = GeoDataFrame({'geometry':GridIn3d.CentroidPoint},crs='epsg:2154')\n",
    "normal_grid = [np.array([0,0,1]) for item in range(len(sensors_grid))]\n",
    "sensors_grid['NormalVector'] = normal_grid"
   ]
  },
  {
   "cell_type": "code",
   "execution_count": 100,
   "id": "6cc18817",
   "metadata": {},
   "outputs": [],
   "source": [
    "#Write a function of shortwave radiation,surface with n*m sensors\n",
    "def Shortwave(surface,n,m,latitude,longitude,date,buildings,delta,epsilon,albedo):\n",
    "    surface = surface.reset_index(drop=True)\n",
    "    sensors = STEvenPoints(surface.geometry[0],n,m)\n",
    "    altitude_angle = AngleLib.toRadians(get_altitude(latitude,longitude,date))\n",
    "    azimuth_angle = AngleLib.toRadians(get_azimuth(latitude,longitude,date))\n",
    "    sunbeam = SunbeamVector(altitude_angle,azimuth_angle)\n",
    "    sunhit = [Sunlit2(sunbeam,sensors.geometry[i],buildings,sensors.NormalVector[i]) for i in range(len(sensors))]\n",
    "    sensors['Sunhit'] = sunhit\n",
    "    \n",
    "    days = date.timetuple().tm_yday\n",
    "    Dir = Perez.directSolarIrradiance(altitude_angle,days,delta,epsilon)\n",
    "    Dif = Perez.diffuseSolarIrradiance(altitude_angle,days,delta)\n",
    "    \n",
    "    Dir1=[]#direct solar radiation\n",
    "    area_surface = area3d(surface.geometry[0])\n",
    "    area_grid = area_surface/(n*m)\n",
    "    for i in range(len(sensors)):\n",
    "        if sensors.Sunhit[i]==True:\n",
    "            Dir1.append(Dir*abs(cosVectorAngle(sunbeam,sensors.NormalVector[i]))*area_grid/area_surface)#depends on size of cells\n",
    "    DirectSolarRadiation = sum(Dir1)\n",
    "    \n",
    "    from t4gpd.morph.geoProcesses.SkyViewFactor import SkyViewFactor\n",
    "    from t4gpd.morph.geoProcesses.STGeoProcess import STGeoProcess\n",
    "    op = SkyViewFactor(buildings,nRays=64,maxRayLen=100,elevationFieldname='HAUTEUR',method=2018,background=True)\n",
    "    sensors = STGeoProcess(op,sensors).run()\n",
    "    \n",
    "    Dif1=[]#diffuse solar radiation\n",
    "    for j in range(len(sensors)):\n",
    "        Dif1.append(Dif*sensors.svf[j]*area_grid/area_surface)\n",
    "    DiffuseSolarRadiation= sum(Dif1)\n",
    "    \n",
    "    ShortwaveRadiation = (DiffuseSolarRadiation+DirectSolarRadiation)*albedo\n",
    "    return ShortwaveRadiation"
   ]
  },
  {
   "cell_type": "code",
   "execution_count": 105,
   "id": "862318a0",
   "metadata": {},
   "outputs": [],
   "source": [
    "latitude = 47.16\n",
    "longitude = -1.60\n",
    "date = datetime(2020,6,21,9,10,tzinfo=timezone.utc)\n",
    "altitude_angle = AngleLib.toRadians(get_altitude(latitude,longitude,date))\n",
    "azimuth_angle = AngleLib.toRadians(get_azimuth(latitude,longitude,date))\n",
    "sunbeam = SunbeamVector(altitude_angle,azimuth_angle)"
   ]
  },
  {
   "cell_type": "code",
   "execution_count": 106,
   "id": "5dc8cdcb",
   "metadata": {},
   "outputs": [],
   "source": [
    "#save sunhits\n",
    "sunhit_0 = [Sunlit2(sunbeam,sensors0.geometry[i],buildings,sensors0.NormalVector[i]) for i in range(len(sensors0))]\n",
    "sensors0['Sunhit'] = sunhit_0\n",
    "sunhit_1 = [Sunlit2(sunbeam,sensors1.geometry[j],buildings,sensors1.NormalVector[j]) for j in range(len(sensors1))]\n",
    "sensors1['Sunhit'] = sunhit_1\n",
    "sunhit_grid = [Sunlit2(sunbeam,sensors_grid.geometry[t],buildings,sensors_grid.NormalVector[t]) for t in range(len(sensors_grid))]\n",
    "sensors_grid['Sunhit'] = sunhit_grid"
   ]
  },
  {
   "cell_type": "code",
   "execution_count": 107,
   "id": "3c066ca1",
   "metadata": {},
   "outputs": [],
   "source": [
    "# get direct and diffuse solar irradiance, return W/m^2?\n",
    "from t4gpd.energy.Perez import Perez\n",
    "days = date.timetuple().tm_yday\n",
    "delta = 0.12 #sky's brightness (Perez et al.,1993)\n",
    "epsilon = 6.3 #sky's clearness (Perez et al.,1993)\n",
    "Dir = Perez.directSolarIrradiance(altitude_angle,days,delta,epsilon)\n",
    "Dif = Perez.diffuseSolarIrradiance(altitude_angle,days,delta)"
   ]
  },
  {
   "cell_type": "code",
   "execution_count": 108,
   "id": "327cdb83",
   "metadata": {},
   "outputs": [],
   "source": [
    "def cosVectorAngle(vector1,vector2):#calculate the angle between two vectors\n",
    "    unit_vector1 = vector1/np.linalg.norm(vector1)\n",
    "    unit_vector2 = vector2/np.linalg.norm(vector2)\n",
    "    dot_vector = np.dot(unit_vector1,unit_vector2)\n",
    "    return dot_vector"
   ]
  },
  {
   "cell_type": "code",
   "execution_count": 109,
   "id": "b5a3a99e",
   "metadata": {},
   "outputs": [],
   "source": [
    "#Calculate Direct accpeted by surfaces, here unit of DirectSolarR is W/m2\n",
    "Dir0=[]\n",
    "Dir1=[]\n",
    "Dir_grid=[]\n",
    "for i in range(len(sensors0)):\n",
    "    if sensors0.Sunhit[i]==True:\n",
    "        Dir0.append(Dir*abs(cosVectorAngle(sunbeam,sensors0.NormalVector[i]))*4)\n",
    "testwall['DirectSolarRadiation'] = sum(Dir0)/area3d(testwall.geometry[0])\n",
    "for j in range(len(sensors1)):\n",
    "    if sensors1.Sunhit[j]==True:\n",
    "        Dir1.append(Dir*abs(cosVectorAngle(sunbeam,sensors1.NormalVector[j]))*4)\n",
    "testwall2['DirectSolarRadiation'] = sum(Dir1)/area3d(testwall2.geometry[0])\n",
    "for g in range(len(sensors_grid)):\n",
    "    if sensors_grid.Sunhit[g]==True:\n",
    "        Dir_grid.append(Dir*abs(cosVectorAngle(sunbeam,sensors_grid.NormalVector[g])))\n",
    "    else:\n",
    "        Dir_grid.append(0)\n",
    "GridIn3d['DirectSolarRadiation'] = Dir_grid"
   ]
  },
  {
   "cell_type": "code",
   "execution_count": 68,
   "id": "ab528437",
   "metadata": {},
   "outputs": [
    {
     "name": "stdout",
     "output_type": "stream",
     "text": [
      "SVF calculation method: Bernard et al. (2018), nRays = 64, maxRayLen = 100.0\n"
     ]
    }
   ],
   "source": [
    "#Calculate SVF of each sensors\n",
    "from t4gpd.morph.geoProcesses.SkyViewFactor import SkyViewFactor\n",
    "from t4gpd.morph.geoProcesses.STGeoProcess import STGeoProcess\n",
    "op = SkyViewFactor(buildings,nRays=64,maxRayLen=100,\n",
    "                  elevationFieldname='HAUTEUR',method=2018,background=True)\n",
    "sensors0 = STGeoProcess(op,sensors0).run()\n",
    "sensors1 = STGeoProcess(op,sensors1).run()\n",
    "sensors_grid = STGeoProcess(op,sensors_grid).run()"
   ]
  },
  {
   "cell_type": "code",
   "execution_count": 110,
   "id": "5ff60e5b",
   "metadata": {},
   "outputs": [],
   "source": [
    "#Calculate Diffuse accpeted by surfaces\n",
    "Dif0=[]\n",
    "Dif1=[]\n",
    "Dif_grid=[]\n",
    "for i in range(len(sensors0)):\n",
    "    Dif0.append(Dif*sensors0.svf[i]*4)\n",
    "testwall['DiffuseSolarRadiation'] = sum(Dif0)/area3d(testwall.geometry[0])\n",
    "for j in range(len(sensors1)):\n",
    "    Dif1.append(Dif*sensors1.svf[j]*4)\n",
    "testwall2['DiffuseSolarRadiation'] = sum(Dif1)/area3d(testwall2.geometry[0])\n",
    "for g in range(len(sensors_grid)):\n",
    "    Dif_grid.append(Dif*sensors_grid.svf[g])\n",
    "GridIn3d['DiffuseSolarRadiation'] = Dif_grid"
   ]
  },
  {
   "cell_type": "code",
   "execution_count": 111,
   "id": "577457b2",
   "metadata": {},
   "outputs": [],
   "source": [
    "#Short-wave radiation,here without considering the reflected radiation\n",
    "al_b = 0.6 #whit painted buildings\n",
    "al_g = 0.1 #albedo of asphalt\n",
    "testwall['ShortwaveRadiation'] = (testwall.DiffuseSolarRadiation[0]+testwall.DirectSolarRadiation[0])*al_b\n",
    "testwall2['ShortwaveRadiation'] = (testwall2.DiffuseSolarRadiation[0]+testwall2.DirectSolarRadiation[0])*al_b\n",
    "shortwave_grid = [(GridIn3d.DiffuseSolarRadiation[x]+GridIn3d.DirectSolarRadiation[x])*al_g for x in range(len(GridIn3d))]\n",
    "GridIn3d['ShortwaveRadiation'] = shortwave_grid"
   ]
  },
  {
   "cell_type": "code",
   "execution_count": 130,
   "id": "b806094b",
   "metadata": {},
   "outputs": [
    {
     "data": {
      "application/vnd.jupyter.widget-view+json": {
       "model_id": "69c67119af0c4213afaefeb85fdce1c0",
       "version_major": 2,
       "version_minor": 0
      },
      "text/plain": [
       "ViewInteractiveWidget(height=768, layout=Layout(height='auto', width='100%'), width=1024)"
      ]
     },
     "metadata": {},
     "output_type": "display_data"
    }
   ],
   "source": [
    "scene3 = ToUnstructuredGrid([testwall,testwall2,GridIn3d,sensors0,sensors1,sensors_grid],'ShortwaveRadiation').run()\n",
    "scene3.plot(scalars='ShortwaveRadiation',cmap='gist_earth',show_edges=False,\n",
    "\tshow_scalar_bar=True, point_size=5.0, render_points_as_spheres=True)"
   ]
  },
  {
   "cell_type": "code",
   "execution_count": 225,
   "id": "e64e45b7",
   "metadata": {},
   "outputs": [
    {
     "data": {
      "text/html": [
       "<div>\n",
       "<style scoped>\n",
       "    .dataframe tbody tr th:only-of-type {\n",
       "        vertical-align: middle;\n",
       "    }\n",
       "\n",
       "    .dataframe tbody tr th {\n",
       "        vertical-align: top;\n",
       "    }\n",
       "\n",
       "    .dataframe thead th {\n",
       "        text-align: right;\n",
       "    }\n",
       "</style>\n",
       "<table border=\"1\" class=\"dataframe\">\n",
       "  <thead>\n",
       "    <tr style=\"text-align: right;\">\n",
       "      <th></th>\n",
       "      <th>geometry</th>\n",
       "      <th>gid</th>\n",
       "      <th>fid</th>\n",
       "      <th>CentroidPoint</th>\n",
       "      <th>diameter</th>\n",
       "      <th>DirectSolarRadiation</th>\n",
       "      <th>DiffuseSolarRadiation</th>\n",
       "      <th>ShortwaveRadiation</th>\n",
       "      <th>T0</th>\n",
       "      <th>LongwaveRadiation</th>\n",
       "      <th>AtmosphereLongwaveRadiation</th>\n",
       "      <th>EmittingLongwaveRadiation</th>\n",
       "      <th>HeatCapacity</th>\n",
       "      <th>MassPerUnitArea</th>\n",
       "    </tr>\n",
       "  </thead>\n",
       "  <tbody>\n",
       "    <tr>\n",
       "      <th>0</th>\n",
       "      <td>POLYGON Z ((-10.000 -10.000 0.000, -10.000 10....</td>\n",
       "      <td>0</td>\n",
       "      <td>0</td>\n",
       "      <td>POINT Z (-10 0 10)</td>\n",
       "      <td>28.284271</td>\n",
       "      <td>585.446751</td>\n",
       "      <td>48.534048</td>\n",
       "      <td>380.388479</td>\n",
       "      <td>15</td>\n",
       "      <td>54.07199</td>\n",
       "      <td>161.008421</td>\n",
       "      <td>58.633904</td>\n",
       "      <td>880</td>\n",
       "      <td>2400</td>\n",
       "    </tr>\n",
       "  </tbody>\n",
       "</table>\n",
       "</div>"
      ],
      "text/plain": [
       "                                            geometry  gid  fid  \\\n",
       "0  POLYGON Z ((-10.000 -10.000 0.000, -10.000 10....    0    0   \n",
       "\n",
       "        CentroidPoint   diameter  DirectSolarRadiation  DiffuseSolarRadiation  \\\n",
       "0  POINT Z (-10 0 10)  28.284271            585.446751              48.534048   \n",
       "\n",
       "   ShortwaveRadiation  T0  LongwaveRadiation  AtmosphereLongwaveRadiation  \\\n",
       "0          380.388479  15           54.07199                   161.008421   \n",
       "\n",
       "   EmittingLongwaveRadiation  HeatCapacity  MassPerUnitArea  \n",
       "0                  58.633904           880             2400  "
      ]
     },
     "execution_count": 225,
     "metadata": {},
     "output_type": "execute_result"
    }
   ],
   "source": [
    "testwall"
   ]
  },
  {
   "cell_type": "markdown",
   "id": "abf114c2",
   "metadata": {},
   "source": [
    "# Longwave Radiation"
   ]
  },
  {
   "cell_type": "code",
   "execution_count": 44,
   "id": "5323a8b4",
   "metadata": {},
   "outputs": [],
   "source": [
    "#rh is the relativve humidity(%),ta is the air temperature\n",
    "def VaporPressure(ta,rh):\n",
    "    vp = rh*6.1121*exp((18.678-ta/234.4)*ta/(257.14+ta))\n",
    "    return vp"
   ]
  },
  {
   "cell_type": "code",
   "execution_count": 122,
   "id": "6ed3142b",
   "metadata": {},
   "outputs": [],
   "source": [
    "#Atmosphere longwave radiation,we set N(degree of cloudiness)=8,all air temperature unite is ℃,rh is the relativve humidity(%),\n",
    "def AtmoLongRadiation(ta,N,rh):\n",
    "    p = VaporPressure(ta,rh)\n",
    "    #ta is the air temperature; N is the degree of cloudiness; p is the vapor pressure(hPa)\n",
    "    con = 5.67e-8#Stefan-Boltzmann constant\n",
    "    LR = con*(ta+273.15)**4*(0.82-0.25*10**(-0.0945*p))*(1+0.21*(N/8)**2.5)\n",
    "    return LR"
   ]
  },
  {
   "cell_type": "markdown",
   "id": "f1078824",
   "metadata": {},
   "source": [
    "# Convection"
   ]
  },
  {
   "cell_type": "markdown",
   "id": "1be9afc8",
   "metadata": {},
   "source": [
    "Convection depends on the wind speed. Since we cannot simulate the wind speed under the city canopy, we shall give a constant value.The convection coefficient h is estimated as h = 4uair + 4. Wind speed is according to the weather data at each time step."
   ]
  },
  {
   "cell_type": "code",
   "execution_count": 50,
   "id": "ad9c505d",
   "metadata": {},
   "outputs": [],
   "source": [
    "def CovectionCoefficient(uair):\n",
    "    return 4*uair+4"
   ]
  },
  {
   "cell_type": "code",
   "execution_count": 64,
   "id": "888fca46",
   "metadata": {},
   "outputs": [],
   "source": [
    "#air temperature,wind speed,surface temperature\n",
    "def Convection(ta,uair,ts):\n",
    "    h = CovectionCoefficient(uair)\n",
    "    qv = h*(ta-ts)\n",
    "    return qv"
   ]
  },
  {
   "cell_type": "markdown",
   "id": "53cd9f05",
   "metadata": {},
   "source": [
    "# Conductive Heat Transmission"
   ]
  },
  {
   "cell_type": "markdown",
   "id": "fb794de9",
   "metadata": {},
   "source": [
    "In our case we will ignore this section"
   ]
  },
  {
   "cell_type": "markdown",
   "id": "8d668d47",
   "metadata": {},
   "source": [
    "# Heat Balance Equation"
   ]
  },
  {
   "cell_type": "markdown",
   "id": "3ec2b9f8",
   "metadata": {},
   "source": [
    "In this section, we will focus on the variation of surface temperature. We shall derive these values through heat balance equation.\n",
    "Qt+Qm+Qr+Qv+Ql=0"
   ]
  },
  {
   "cell_type": "code",
   "execution_count": 212,
   "id": "67310b12",
   "metadata": {},
   "outputs": [],
   "source": [
    "#First we set our initial value\n",
    "t_va = 0.1 #temperature variation threhold\n",
    "ta = 20 #air temperature\n",
    "uair = 6 #wind speed\n",
    "rh = 0.4 #relative humidity\n",
    "con = 5.67e-8 #Stefan-Boltzmann constant\n",
    "N = 8 #cloudiness\n",
    "testwall['T0']=15\n",
    "testwall['HeatCapacity']=880#Ordinary Concrete J/kg.K\n",
    "testwall['MassPerUnitArea']=2400\n",
    "testwall2['T0']=18\n",
    "testwall2['HeatCapacity']=880\n",
    "testwall2['MassPerUnitArea']=2400\n",
    "grid_t0 = [10 for i in range(len(GridIn3d))]\n",
    "grid_hc = [840 for i in range(len(GridIn3d))]\n",
    "grid_mass = [2243 for i in range(len(GridIn3d))]\n",
    "GridIn3d['T0']=grid_t0\n",
    "GridIn3d['HeatCapacity']=grid_hc\n",
    "GridIn3d['MassPerUnitArea']=grid_mass"
   ]
  },
  {
   "cell_type": "code",
   "execution_count": 164,
   "id": "59a97a65",
   "metadata": {},
   "outputs": [],
   "source": [
    "#calculate the longwave radiation without considering other emitting surface\n",
    "emi_b = 0.3 #emissivity of building\n",
    "emi_g = 0.7 #emissivity of ground\n",
    "AtmoLong0=[] #atmosphere long wave radiation\n",
    "AtmoLong1=[]\n",
    "AtmoLong_grid=[]\n",
    "emitLong_grid=[]\n",
    "Long_grid=[]\n",
    "\n",
    "for i in range(len(sensors0)):\n",
    "    a0=AtmoLongRadiation(ta,N,rh)*sensors0.svf[i]\n",
    "    AtmoLong0.append(a0)\n",
    "e0=0.5*emi_b*con*(testwall.T0[0]+273.15)**4\n",
    "testwall['AtmosphereLongwaveRadiation']=np.mean(AtmoLong0)\n",
    "testwall['EmittingLongwaveRadiation']=e0\n",
    "testwall['LongwaveRadiation'] = np.mean(AtmoLong0)*(1-emi_b)-e0\n",
    "\n",
    "for j in range(len(sensors1)):\n",
    "    a1=AtmoLongRadiation(ta,N,rh)*sensors1.svf[j]\n",
    "    AtmoLong1.append(a1)\n",
    "e1=0.5*emi_b*con*(testwall2.T0[0]+273.15)**4\n",
    "testwall2['AtmosphereLongwaveRadiation']=np.mean(AtmoLong1)\n",
    "testwall2['EmittingLongwaveRadiation']=e1\n",
    "testwall2['LongwaveRadiation'] = np.mean(AtmoLong1)*(1-emi_b)-e1\n",
    "\n",
    "for g in range(len(sensors_grid)):\n",
    "    a_grid=AtmoLongRadiation(ta,N,rh)*sensors_grid.svf[g]\n",
    "    e_grid=0.5*emi_g*con*(GridIn3d.T0[g]+273.15)**4\n",
    "    AtmoLong_grid.append(a_grid)\n",
    "    emitLong_grid.append(e_grid)\n",
    "    Long_grid.append(a_grid*(1-emi_g)-e_grid)\n",
    "GridIn3d['AtmosphereLongwaveRadiation']=AtmoLong_grid\n",
    "GridIn3d['EmittingLongwaveRadiation']=emitLong_grid\n",
    "GridIn3d['LongwaveRadiation'] = Long_grid"
   ]
  },
  {
   "cell_type": "code",
   "execution_count": 154,
   "id": "98c28001",
   "metadata": {
    "collapsed": true
   },
   "outputs": [
    {
     "data": {
      "application/vnd.jupyter.widget-view+json": {
       "model_id": "5dfa8ae7c0df44819089d4a74e37d64c",
       "version_major": 2,
       "version_minor": 0
      },
      "text/plain": [
       "ViewInteractiveWidget(height=768, layout=Layout(height='auto', width='100%'), width=1024)"
      ]
     },
     "metadata": {},
     "output_type": "display_data"
    }
   ],
   "source": [
    "scene4 = ToUnstructuredGrid([testwall,testwall2,GridIn3d,sensors0,sensors1,sensors_grid],'LongwaveRadiation').run()\n",
    "scene4.plot(scalars='LongwaveRadiation',cmap='gist_earth',show_edges=False,\n",
    "\tshow_scalar_bar=True, point_size=5.0, render_points_as_spheres=True)"
   ]
  },
  {
   "cell_type": "code",
   "execution_count": 245,
   "id": "8ee2688d",
   "metadata": {},
   "outputs": [],
   "source": [
    "#here we don't consider the reflected radiation\n",
    "def delta_temperature(surface,ta,uair):\n",
    "    thickness=0.1\n",
    "    density = 2076\n",
    "    h=surface.HeatCapacity\n",
    "    m=surface.MassPerUnitArea\n",
    "    Qr=surface.ShortwaveRadiation[0]\n",
    "    Qv=Convection(ta,uair,surface.T0[0])\n",
    "    Ql=surface.LongwaveRadiation[0]\n",
    "    Qe=SurfaceLongwave(surface,ViewFactorFrame)\n",
    "    delta_t = (Qr+Qv+Ql+Qe)/(thickness*density*h)\n",
    "    return Qe"
   ]
  },
  {
   "cell_type": "code",
   "execution_count": 242,
   "id": "0d725d6d",
   "metadata": {},
   "outputs": [],
   "source": [
    "#we assume calculate testwall, gid=0,fid=0\n",
    "def SurfaceLongwave(surface,ViewFactorFrame):\n",
    "    longwave=[]\n",
    "    for i in range(len(GridIn3d)):\n",
    "        vf_i = ViewFactorFrame.loc['Gridgid{c}'.format(c=i),'Sidewallsgid{gidtest}fid{fidtest}'.format(gidtest=0,fidtest=0)]\n",
    "        longwave.append(GridIn3d.EmittingLongwaveRadiation[i]*(1-emi_b)*vf_i)\n",
    "    longwave.append(testwall2.EmittingLongwaveRadiation[0]*(1-emi_b)*0.1998)\n",
    "    return sum(longwave)"
   ]
  },
  {
   "cell_type": "code",
   "execution_count": 246,
   "id": "261fce3a",
   "metadata": {},
   "outputs": [
    {
     "data": {
      "text/plain": [
       "1795.8288847721094"
      ]
     },
     "execution_count": 246,
     "metadata": {},
     "output_type": "execute_result"
    }
   ],
   "source": [
    "delta_temperature(testwall,ta,uair)"
   ]
  },
  {
   "cell_type": "code",
   "execution_count": 104,
   "id": "80dc94dd",
   "metadata": {
    "collapsed": true
   },
   "outputs": [
    {
     "name": "stdout",
     "output_type": "stream",
     "text": [
      "SVF calculation method: Bernard et al. (2018), nRays = 64, maxRayLen = 100.0\n",
      "SVF calculation method: Bernard et al. (2018), nRays = 64, maxRayLen = 100.0\n",
      "SVF calculation method: Bernard et al. (2018), nRays = 64, maxRayLen = 100.0\n",
      "SVF calculation method: Bernard et al. (2018), nRays = 64, maxRayLen = 100.0\n",
      "SVF calculation method: Bernard et al. (2018), nRays = 64, maxRayLen = 100.0\n",
      "SVF calculation method: Bernard et al. (2018), nRays = 64, maxRayLen = 100.0\n",
      "SVF calculation method: Bernard et al. (2018), nRays = 64, maxRayLen = 100.0\n",
      "SVF calculation method: Bernard et al. (2018), nRays = 64, maxRayLen = 100.0\n",
      "SVF calculation method: Bernard et al. (2018), nRays = 64, maxRayLen = 100.0\n",
      "SVF calculation method: Bernard et al. (2018), nRays = 64, maxRayLen = 100.0\n",
      "SVF calculation method: Bernard et al. (2018), nRays = 64, maxRayLen = 100.0\n",
      "SVF calculation method: Bernard et al. (2018), nRays = 64, maxRayLen = 100.0\n",
      "SVF calculation method: Bernard et al. (2018), nRays = 64, maxRayLen = 100.0\n",
      "SVF calculation method: Bernard et al. (2018), nRays = 64, maxRayLen = 100.0\n",
      "SVF calculation method: Bernard et al. (2018), nRays = 64, maxRayLen = 100.0\n",
      "SVF calculation method: Bernard et al. (2018), nRays = 64, maxRayLen = 100.0\n",
      "SVF calculation method: Bernard et al. (2018), nRays = 64, maxRayLen = 100.0\n",
      "SVF calculation method: Bernard et al. (2018), nRays = 64, maxRayLen = 100.0\n",
      "SVF calculation method: Bernard et al. (2018), nRays = 64, maxRayLen = 100.0\n",
      "SVF calculation method: Bernard et al. (2018), nRays = 64, maxRayLen = 100.0\n",
      "SVF calculation method: Bernard et al. (2018), nRays = 64, maxRayLen = 100.0\n",
      "SVF calculation method: Bernard et al. (2018), nRays = 64, maxRayLen = 100.0\n",
      "SVF calculation method: Bernard et al. (2018), nRays = 64, maxRayLen = 100.0\n",
      "SVF calculation method: Bernard et al. (2018), nRays = 64, maxRayLen = 100.0\n",
      "SVF calculation method: Bernard et al. (2018), nRays = 64, maxRayLen = 100.0\n",
      "SVF calculation method: Bernard et al. (2018), nRays = 64, maxRayLen = 100.0\n",
      "SVF calculation method: Bernard et al. (2018), nRays = 64, maxRayLen = 100.0\n",
      "SVF calculation method: Bernard et al. (2018), nRays = 64, maxRayLen = 100.0\n",
      "SVF calculation method: Bernard et al. (2018), nRays = 64, maxRayLen = 100.0\n",
      "SVF calculation method: Bernard et al. (2018), nRays = 64, maxRayLen = 100.0\n",
      "SVF calculation method: Bernard et al. (2018), nRays = 64, maxRayLen = 100.0\n",
      "SVF calculation method: Bernard et al. (2018), nRays = 64, maxRayLen = 100.0\n",
      "SVF calculation method: Bernard et al. (2018), nRays = 64, maxRayLen = 100.0\n",
      "SVF calculation method: Bernard et al. (2018), nRays = 64, maxRayLen = 100.0\n",
      "SVF calculation method: Bernard et al. (2018), nRays = 64, maxRayLen = 100.0\n",
      "SVF calculation method: Bernard et al. (2018), nRays = 64, maxRayLen = 100.0\n",
      "SVF calculation method: Bernard et al. (2018), nRays = 64, maxRayLen = 100.0\n",
      "SVF calculation method: Bernard et al. (2018), nRays = 64, maxRayLen = 100.0\n",
      "SVF calculation method: Bernard et al. (2018), nRays = 64, maxRayLen = 100.0\n",
      "SVF calculation method: Bernard et al. (2018), nRays = 64, maxRayLen = 100.0\n",
      "SVF calculation method: Bernard et al. (2018), nRays = 64, maxRayLen = 100.0\n",
      "SVF calculation method: Bernard et al. (2018), nRays = 64, maxRayLen = 100.0\n",
      "SVF calculation method: Bernard et al. (2018), nRays = 64, maxRayLen = 100.0\n",
      "SVF calculation method: Bernard et al. (2018), nRays = 64, maxRayLen = 100.0\n",
      "SVF calculation method: Bernard et al. (2018), nRays = 64, maxRayLen = 100.0\n",
      "SVF calculation method: Bernard et al. (2018), nRays = 64, maxRayLen = 100.0\n",
      "SVF calculation method: Bernard et al. (2018), nRays = 64, maxRayLen = 100.0\n",
      "SVF calculation method: Bernard et al. (2018), nRays = 64, maxRayLen = 100.0\n",
      "SVF calculation method: Bernard et al. (2018), nRays = 64, maxRayLen = 100.0\n",
      "SVF calculation method: Bernard et al. (2018), nRays = 64, maxRayLen = 100.0\n",
      "SVF calculation method: Bernard et al. (2018), nRays = 64, maxRayLen = 100.0\n",
      "SVF calculation method: Bernard et al. (2018), nRays = 64, maxRayLen = 100.0\n",
      "SVF calculation method: Bernard et al. (2018), nRays = 64, maxRayLen = 100.0\n",
      "SVF calculation method: Bernard et al. (2018), nRays = 64, maxRayLen = 100.0\n",
      "SVF calculation method: Bernard et al. (2018), nRays = 64, maxRayLen = 100.0\n",
      "SVF calculation method: Bernard et al. (2018), nRays = 64, maxRayLen = 100.0\n",
      "SVF calculation method: Bernard et al. (2018), nRays = 64, maxRayLen = 100.0\n",
      "SVF calculation method: Bernard et al. (2018), nRays = 64, maxRayLen = 100.0\n",
      "SVF calculation method: Bernard et al. (2018), nRays = 64, maxRayLen = 100.0\n",
      "SVF calculation method: Bernard et al. (2018), nRays = 64, maxRayLen = 100.0\n",
      "SVF calculation method: Bernard et al. (2018), nRays = 64, maxRayLen = 100.0\n",
      "SVF calculation method: Bernard et al. (2018), nRays = 64, maxRayLen = 100.0\n",
      "SVF calculation method: Bernard et al. (2018), nRays = 64, maxRayLen = 100.0\n",
      "SVF calculation method: Bernard et al. (2018), nRays = 64, maxRayLen = 100.0\n",
      "SVF calculation method: Bernard et al. (2018), nRays = 64, maxRayLen = 100.0\n",
      "SVF calculation method: Bernard et al. (2018), nRays = 64, maxRayLen = 100.0\n",
      "SVF calculation method: Bernard et al. (2018), nRays = 64, maxRayLen = 100.0\n",
      "SVF calculation method: Bernard et al. (2018), nRays = 64, maxRayLen = 100.0\n",
      "SVF calculation method: Bernard et al. (2018), nRays = 64, maxRayLen = 100.0\n",
      "SVF calculation method: Bernard et al. (2018), nRays = 64, maxRayLen = 100.0\n",
      "SVF calculation method: Bernard et al. (2018), nRays = 64, maxRayLen = 100.0\n",
      "SVF calculation method: Bernard et al. (2018), nRays = 64, maxRayLen = 100.0\n",
      "SVF calculation method: Bernard et al. (2018), nRays = 64, maxRayLen = 100.0\n",
      "SVF calculation method: Bernard et al. (2018), nRays = 64, maxRayLen = 100.0\n",
      "SVF calculation method: Bernard et al. (2018), nRays = 64, maxRayLen = 100.0\n",
      "SVF calculation method: Bernard et al. (2018), nRays = 64, maxRayLen = 100.0\n",
      "SVF calculation method: Bernard et al. (2018), nRays = 64, maxRayLen = 100.0\n",
      "SVF calculation method: Bernard et al. (2018), nRays = 64, maxRayLen = 100.0\n",
      "SVF calculation method: Bernard et al. (2018), nRays = 64, maxRayLen = 100.0\n",
      "SVF calculation method: Bernard et al. (2018), nRays = 64, maxRayLen = 100.0\n",
      "SVF calculation method: Bernard et al. (2018), nRays = 64, maxRayLen = 100.0\n",
      "SVF calculation method: Bernard et al. (2018), nRays = 64, maxRayLen = 100.0\n",
      "SVF calculation method: Bernard et al. (2018), nRays = 64, maxRayLen = 100.0\n",
      "SVF calculation method: Bernard et al. (2018), nRays = 64, maxRayLen = 100.0\n",
      "SVF calculation method: Bernard et al. (2018), nRays = 64, maxRayLen = 100.0\n",
      "SVF calculation method: Bernard et al. (2018), nRays = 64, maxRayLen = 100.0\n",
      "SVF calculation method: Bernard et al. (2018), nRays = 64, maxRayLen = 100.0\n",
      "SVF calculation method: Bernard et al. (2018), nRays = 64, maxRayLen = 100.0\n",
      "SVF calculation method: Bernard et al. (2018), nRays = 64, maxRayLen = 100.0\n",
      "SVF calculation method: Bernard et al. (2018), nRays = 64, maxRayLen = 100.0\n",
      "SVF calculation method: Bernard et al. (2018), nRays = 64, maxRayLen = 100.0\n",
      "SVF calculation method: Bernard et al. (2018), nRays = 64, maxRayLen = 100.0\n",
      "SVF calculation method: Bernard et al. (2018), nRays = 64, maxRayLen = 100.0\n",
      "SVF calculation method: Bernard et al. (2018), nRays = 64, maxRayLen = 100.0\n",
      "SVF calculation method: Bernard et al. (2018), nRays = 64, maxRayLen = 100.0\n",
      "SVF calculation method: Bernard et al. (2018), nRays = 64, maxRayLen = 100.0\n",
      "SVF calculation method: Bernard et al. (2018), nRays = 64, maxRayLen = 100.0\n",
      "SVF calculation method: Bernard et al. (2018), nRays = 64, maxRayLen = 100.0\n",
      "SVF calculation method: Bernard et al. (2018), nRays = 64, maxRayLen = 100.0\n",
      "SVF calculation method: Bernard et al. (2018), nRays = 64, maxRayLen = 100.0\n",
      "CPU times: total: 4.02 s\n",
      "Wall time: 4.01 s\n"
     ]
    }
   ],
   "source": [
    "%%time\n",
    "Short_Grid=[]\n",
    "for i in range(len(GridIn3d)):\n",
    "    grid_i = GeoDataFrame.copy(GridIn3d.loc[(GridIn3d.index==i)])\n",
    "    Short_Grid.append(Shortwave(grid_i,1,1,47.16,-1.6,date,buildings,delta,epsilon,al_g))"
   ]
  },
  {
   "cell_type": "code",
   "execution_count": 230,
   "id": "eea7af0c",
   "metadata": {},
   "outputs": [
    {
     "data": {
      "text/plain": [
       "0.1998"
      ]
     },
     "execution_count": 230,
     "metadata": {},
     "output_type": "execute_result"
    }
   ],
   "source": [
    "#ViewFactorFrame.loc['Sidewallsgid0fid0','Sidewallsgid1fid2']\n",
    "ViewFactorFrame.loc['Sidewallsgid{gidtest}fid{fidtest}'.format(gidtest=0,fidtest=0),'Sidewallsgid1fid2']"
   ]
  },
  {
   "cell_type": "code",
   "execution_count": 233,
   "id": "e39cdd80",
   "metadata": {},
   "outputs": [
    {
     "data": {
      "text/html": [
       "<div>\n",
       "<style scoped>\n",
       "    .dataframe tbody tr th:only-of-type {\n",
       "        vertical-align: middle;\n",
       "    }\n",
       "\n",
       "    .dataframe tbody tr th {\n",
       "        vertical-align: top;\n",
       "    }\n",
       "\n",
       "    .dataframe thead th {\n",
       "        text-align: right;\n",
       "    }\n",
       "</style>\n",
       "<table border=\"1\" class=\"dataframe\">\n",
       "  <thead>\n",
       "    <tr style=\"text-align: right;\">\n",
       "      <th></th>\n",
       "      <th>geometry</th>\n",
       "      <th>gid</th>\n",
       "      <th>fid</th>\n",
       "      <th>CentroidPoint</th>\n",
       "      <th>diameter</th>\n",
       "      <th>DirectSolarRadiation</th>\n",
       "      <th>DiffuseSolarRadiation</th>\n",
       "      <th>ShortwaveRadiation</th>\n",
       "      <th>T0</th>\n",
       "      <th>LongwaveRadiation</th>\n",
       "      <th>AtmosphereLongwaveRadiation</th>\n",
       "      <th>EmittingLongwaveRadiation</th>\n",
       "      <th>HeatCapacity</th>\n",
       "      <th>MassPerUnitArea</th>\n",
       "    </tr>\n",
       "  </thead>\n",
       "  <tbody>\n",
       "    <tr>\n",
       "      <th>0</th>\n",
       "      <td>POLYGON Z ((-10.000 -10.000 0.000, -10.000 10....</td>\n",
       "      <td>0</td>\n",
       "      <td>0</td>\n",
       "      <td>POINT Z (-10 0 10)</td>\n",
       "      <td>28.284271</td>\n",
       "      <td>585.446751</td>\n",
       "      <td>48.534048</td>\n",
       "      <td>380.388479</td>\n",
       "      <td>15</td>\n",
       "      <td>54.07199</td>\n",
       "      <td>161.008421</td>\n",
       "      <td>58.633904</td>\n",
       "      <td>880</td>\n",
       "      <td>2400</td>\n",
       "    </tr>\n",
       "  </tbody>\n",
       "</table>\n",
       "</div>"
      ],
      "text/plain": [
       "                                            geometry  gid  fid  \\\n",
       "0  POLYGON Z ((-10.000 -10.000 0.000, -10.000 10....    0    0   \n",
       "\n",
       "        CentroidPoint   diameter  DirectSolarRadiation  DiffuseSolarRadiation  \\\n",
       "0  POINT Z (-10 0 10)  28.284271            585.446751              48.534048   \n",
       "\n",
       "   ShortwaveRadiation  T0  LongwaveRadiation  AtmosphereLongwaveRadiation  \\\n",
       "0          380.388479  15           54.07199                   161.008421   \n",
       "\n",
       "   EmittingLongwaveRadiation  HeatCapacity  MassPerUnitArea  \n",
       "0                  58.633904           880             2400  "
      ]
     },
     "execution_count": 233,
     "metadata": {},
     "output_type": "execute_result"
    }
   ],
   "source": [
    "testwall"
   ]
  },
  {
   "cell_type": "code",
   "execution_count": null,
   "id": "4b0382e6",
   "metadata": {},
   "outputs": [],
   "source": []
  }
 ],
 "metadata": {
  "kernelspec": {
   "display_name": "Python 3 (ipykernel)",
   "language": "python",
   "name": "python3"
  },
  "language_info": {
   "codemirror_mode": {
    "name": "ipython",
    "version": 3
   },
   "file_extension": ".py",
   "mimetype": "text/x-python",
   "name": "python",
   "nbconvert_exporter": "python",
   "pygments_lexer": "ipython3",
   "version": "3.10.4"
  }
 },
 "nbformat": 4,
 "nbformat_minor": 5
}
