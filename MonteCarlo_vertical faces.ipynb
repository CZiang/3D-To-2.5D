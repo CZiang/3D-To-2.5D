{
 "cells": [
  {
   "cell_type": "code",
   "execution_count": 1,
   "id": "f6b7ab50",
   "metadata": {},
   "outputs": [],
   "source": [
    "import matplotlib.pyplot as plt\n",
    "from t4gpd.io.CirReader import CirReader\n",
    "from t4gpd.pyvista.ToUnstructuredGrid import ToUnstructuredGrid\n",
    "from shapely.geometry import Polygon\n",
    "from geopandas import GeoDataFrame\n",
    "import numpy as np\n",
    "import pandas as pd\n",
    "import geopandas\n",
    "from math import *\n",
    "from numpy.random import randint\n",
    "from shapely.geometry import LineString,Point\n",
    "from t4gpd.commons.GeomLib import GeomLib\n",
    "from t4gpd.demos.GeoDataFrameDemos import GeoDataFrameDemos\n",
    "from t4gpd.morph.geoProcesses.FootprintExtruder import FootprintExtruder\n",
    "from t4gpd.morph.geoProcesses.STGeoProcess import STGeoProcess\n",
    "from t4gpd.morph.STPointsDensifier2 import STPointsDensifier2\n",
    "from t4gpd.pyvista.ToUnstructuredGrid import ToUnstructuredGrid\n",
    "import random"
   ]
  },
  {
   "cell_type": "code",
   "execution_count": 24,
   "id": "596ac6cb",
   "metadata": {},
   "outputs": [],
   "source": [
    "def VerticalVF(a,b):#a = y/w , b = x/w\n",
    "    f = 1/(pi*b)*(b*atan(1/b)+a*atan(1/a)-((a**2+b**2)**0.5)*atan(1/((a**2+a**2)**0.5))+0.25*log((1+b**2)*(1+a**2)/(1+b**2+a**2)*((b**2*(1+b**2+a**2)/((1+b**2)*(b**2+a**2)))**(b**2))*(a**2*(1+a**2+b**2)/((1+a**2)*(a**2+b**2)))**(a**2)))\n",
    "    return f"
   ]
  },
  {
   "cell_type": "code",
   "execution_count": 25,
   "id": "f2b08343",
   "metadata": {},
   "outputs": [],
   "source": [
    "def SurfaceNormal(self): #input is the buildingsIn3d.geometry[i],than choose the polygon of one facet\n",
    "    coord = self.exterior.coords\n",
    "    facet_p0=np.array(coord[0])\n",
    "    facet_p1=np.array(coord[1])\n",
    "    facet_p2=np.array(coord[2])\n",
    "    vec1 = facet_p1 - facet_p0\n",
    "    vec2 = facet_p2 - facet_p1\n",
    "    a = vec1[1]*vec2[2]-vec1[2]*vec2[1]\n",
    "    b = vec1[2]*vec2[0]-vec1[0]*vec2[2]\n",
    "    c = vec1[0]*vec2[1]-vec1[1]*vec2[0]\n",
    "    normal = np.array([a,b,c])\n",
    "    mod = module(normal)\n",
    "    n  = normal/mod\n",
    "    return n"
   ]
  },
  {
   "cell_type": "code",
   "execution_count": 26,
   "id": "7a3ccbce",
   "metadata": {},
   "outputs": [],
   "source": [
    "def module(vector):\n",
    "    return np.sqrt(np.dot(np.array(vector),np.array(vector)))"
   ]
  },
  {
   "cell_type": "code",
   "execution_count": 27,
   "id": "1c5be08b",
   "metadata": {},
   "outputs": [],
   "source": [
    "def RandomDir(n):#number of samples\n",
    "    vector = []\n",
    "    for i in range(n):\n",
    "        polar = 0.5*np.arccos(1-2*random.random())\n",
    "        azimuth = random.random()*pi*2\n",
    "        x = cos(polar)*sin(azimuth)\n",
    "        y = sin(polar)\n",
    "        z = cos(polar)*cos(azimuth)\n",
    "        vector.append(np.array([x,y,z]))\n",
    "    return vector"
   ]
  },
  {
   "cell_type": "code",
   "execution_count": 28,
   "id": "d8fe8346",
   "metadata": {},
   "outputs": [],
   "source": [
    "def RayPoint(point,n,norm,length):\n",
    "    ray_line = []\n",
    "    vec = RandomDir(n)\n",
    "    for i in range(len(vec)):\n",
    "        vec1 = vec[i]\n",
    "        x2 = norm[0]*vec1[1]+norm[1]*vec1[0]\n",
    "        y2 = norm[1]*vec1[1]-norm[0]*vec1[0]\n",
    "        z2 = vec1[2]\n",
    "        p2 = Point(point.x+x2*length,point.y+y2*length,point.z+z2*length)\n",
    "        line = LineString([point,p2])\n",
    "        ray_line.append(line)\n",
    "    line_geo = GeoDataFrame({'geometry':ray_line},crs='epsg:2154')\n",
    "    return line_geo"
   ]
  },
  {
   "cell_type": "code",
   "execution_count": 29,
   "id": "3a127b14",
   "metadata": {},
   "outputs": [],
   "source": [
    "def RayPoint2(point,n,norm,length):\n",
    "    ray_line = []\n",
    "    vec = RandomDir(n)\n",
    "    for i in range(len(vec)):\n",
    "        vec1 = vec[i]\n",
    "        x2 = norm[0]*vec1[1]+norm[1]*vec1[0]\n",
    "        y2 = norm[1]*vec1[1]-norm[0]*vec1[0]\n",
    "        z2 = vec1[2]\n",
    "        p2 = Point(point.x+x2*length,point.y+y2*length,point.z+z2*length)\n",
    "        ray_vec = np.array([p2.x,p2.y,p2.z]) - np.array([point.x,point.y,point.z])\n",
    "        ray_line.append(ray_vec)\n",
    "    return ray_line"
   ]
  },
  {
   "cell_type": "code",
   "execution_count": 30,
   "id": "bf119e7e",
   "metadata": {},
   "outputs": [],
   "source": [
    "def cmp(a,b,c=1e-3):\n",
    "    return abs(a-b)<c"
   ]
  },
  {
   "cell_type": "code",
   "execution_count": 31,
   "id": "39e774c8",
   "metadata": {},
   "outputs": [],
   "source": [
    "def intersection(ray,sensor,surface):\n",
    "    n = SurfaceNormal(surface)\n",
    "    coords = surface.exterior.coords\n",
    "    point = np.array(sensor.geometry)\n",
    "    vec = np.array(coords[1])-point\n",
    "    con1 = ray.dot(n)\n",
    "    con2 = vec.dot(n)\n",
    "    ratio = con2/con1\n",
    "    if con1>0:\n",
    "        return False\n",
    "    else:\n",
    "        in_point = point + ratio*ray\n",
    "        if OnSurface(surface,Point(in_point)):\n",
    "            return ratio\n",
    "        else:\n",
    "            return False  "
   ]
  },
  {
   "cell_type": "code",
   "execution_count": 32,
   "id": "ce5f40a3",
   "metadata": {},
   "outputs": [],
   "source": [
    "def OnSurface(self,point):\n",
    "    ang = 0\n",
    "    p = np.array(point)\n",
    "    coord = self.exterior.coords\n",
    "    for i in range(len(coord)-1):\n",
    "        vec1 = np.array(coord[i]) - p\n",
    "        vec2 = np.array(coord[i+1])-p\n",
    "        m1 = module(vec1)\n",
    "        m2 = module(vec2)\n",
    "        if cmp(m1*m2,0):\n",
    "            return True\n",
    "        else:\n",
    "            cost = np.dot(vec1,vec2)/(m1*m2)\n",
    "        if cost>1:\n",
    "            cost = 1\n",
    "        if cost<-1:\n",
    "            cost = -1\n",
    "        ang = ang +np.arccos(cost)\n",
    "    return cmp(ang,2*np.pi)"
   ]
  },
  {
   "cell_type": "code",
   "execution_count": 33,
   "id": "b5236c81",
   "metadata": {},
   "outputs": [],
   "source": [
    "def SelectRay(vec0,vec1,ray,method):#transform into 2d\n",
    "    if method=='horizontal':\n",
    "        v0 = np.array([vec0[0],vec0[1]])#here v0 is the left point\n",
    "        v1 = np.array([vec1[0],vec1[1]])\n",
    "        r = np.array([ray[0],ray[1]])\n",
    "    if method=='vertical':\n",
    "        v0 = np.array([vec0[1],vec0[2]])#here v0 is the taller point\n",
    "        v1 = np.array([vec1[1],vec1[2]])\n",
    "        r = np.array([ray[1],ray[2]])\n",
    "\n",
    "    x = v0[0]*r[1]-v0[1]*r[0]\n",
    "    y = v1[0]*r[1]-v1[1]*r[0]\n",
    "    if x<=0 and y>=0:\n",
    "        return True\n",
    "    else:\n",
    "        return False"
   ]
  },
  {
   "cell_type": "code",
   "execution_count": 34,
   "id": "24fb1805",
   "metadata": {},
   "outputs": [],
   "source": [
    "def CrossProduct(vec0,vec1):\n",
    "    x = vec0[1]*vec1[2]-vec0[2]*vec1[1]\n",
    "    y = vec1[0]*vec0[2]-vec0[0]*vec1[2]\n",
    "    z = vec0[0]*vec1[1]-vec1[0]*vec0[1]\n",
    "    return np.array([x,y,z])"
   ]
  },
  {
   "cell_type": "code",
   "execution_count": 37,
   "id": "3812559d",
   "metadata": {},
   "outputs": [],
   "source": [
    "def VectorAngle(vector1,vector2):#calculate the angle between two vectors\n",
    "    unit_vector1 = vector1/np.linalg.norm(vector1)\n",
    "    unit_vector2 = vector2/np.linalg.norm(vector2)\n",
    "    dot_vector = np.dot(unit_vector1,unit_vector2)\n",
    "    return np.arccos(dot_vector)"
   ]
  },
  {
   "cell_type": "code",
   "execution_count": 36,
   "id": "73d2edff",
   "metadata": {},
   "outputs": [],
   "source": [
    "def STEvenPoints(face,n,m): #row=n, column=m\n",
    "    p = face.exterior.coords\n",
    "    vec1 = np.array(p[2])-np.array(p[1])\n",
    "    vec2 = np.array(p[1])-np.array(p[0])\n",
    "    L1 = vec1/n\n",
    "    L2 = vec2/m\n",
    "    s = []\n",
    "    normal = []\n",
    "    for i in range(1,n+1):\n",
    "        for j in range(1,m+1):\n",
    "            point_1 = np.array(p[0])+L2*(j-1)+L1*(i-1)\n",
    "            point_2 = np.array(p[0])+L2*j+L1*i\n",
    "            point_c = Point((point_1+point_2)/2)\n",
    "            s.append(point_c)\n",
    "            normal.append(SurfaceNormal(face))\n",
    "    p_geodata = GeoDataFrame({'geometry':s},crs='epsg:2154')\n",
    "    p_geodata['NormalVector'] = normal\n",
    "    return p_geodata"
   ]
  },
  {
   "cell_type": "code",
   "execution_count": 38,
   "id": "99d472a1",
   "metadata": {},
   "outputs": [],
   "source": [
    "polygon1 = []\n",
    "polygon2 = []\n",
    "coords_3d_1 = np.array([[20,0,0], [0,0,0], [0,0,15], [20,0,15], [20,0,0]])\n",
    "coords_3d_2 = np.array([[0,0,0], [20,0,0], [20,15,0], [0,15,0], [0,0,0]])\n",
    "polygon1.append(Polygon(coords_3d_1))\n",
    "polygon2.append(Polygon(coords_3d_2))\n",
    "f1 = GeoDataFrame({'geometry':polygon1},crs='epsg:2154')\n",
    "f2 = GeoDataFrame({'geometry':polygon2},crs='epsg:2154')"
   ]
  },
  {
   "cell_type": "code",
   "execution_count": 39,
   "id": "8cd040d9",
   "metadata": {},
   "outputs": [],
   "source": [
    "normal1 = []\n",
    "normal2 = []\n",
    "normal1.append(SurfaceNormal(f1.geometry[0]))\n",
    "normal2.append(SurfaceNormal(f2.geometry[0]))\n",
    "f1['NormalVector'] = normal1\n",
    "f2['NormalVector'] = normal2\n",
    "f1['floor'] = 10"
   ]
  },
  {
   "cell_type": "code",
   "execution_count": 41,
   "id": "dcee4a89",
   "metadata": {},
   "outputs": [],
   "source": [
    "normal = []\n",
    "sensors = STEvenPoints(f1.geometry[0],3,4)\n",
    "for i in range(len(sensors)):\n",
    "    normal.append(normal1)"
   ]
  },
  {
   "cell_type": "code",
   "execution_count": 42,
   "id": "fd60c236",
   "metadata": {},
   "outputs": [
    {
     "data": {
      "application/vnd.jupyter.widget-view+json": {
       "model_id": "1b6f449775914b6f9ebc197516286ac4",
       "version_major": 2,
       "version_minor": 0
      },
      "text/plain": [
       "ViewInteractiveWidget(height=768, layout=Layout(height='auto', width='100%'), width=1024)"
      ]
     },
     "metadata": {},
     "output_type": "display_data"
    }
   ],
   "source": [
    "scene1 = ToUnstructuredGrid([f1,f2,sensors]).run()\n",
    "scene1.plot(point_size=10.0, render_points_as_spheres=True)"
   ]
  },
  {
   "cell_type": "code",
   "execution_count": 56,
   "id": "b48826b3",
   "metadata": {},
   "outputs": [],
   "source": [
    "import timeit\n",
    "vf = pd.DataFrame(np.zeros((10,3)))\n",
    "time = []\n",
    "nb_ray = [100,1000,5000]\n",
    "coords = f2.geometry[0].exterior.coords\n",
    "\n",
    "for i in range(len(nb_ray)):\n",
    "    start = timeit.default_timer()\n",
    "    nb_cal = []\n",
    "    for w in range(10):\n",
    "        nb=0\n",
    "        for s in range(len(sensors)):\n",
    "            p = sensors.iloc[s]\n",
    "            normal = sensors.NormalVector[s]\n",
    "            ray = RayPoint2(p.geometry,nb_ray[i],normal,20)\n",
    "            f2['nray'] = 0\n",
    "            point = np.array(p.geometry)\n",
    "            vec0 = np.array(coords[0])-point\n",
    "            vec1 = np.array(coords[1])-point\n",
    "            vec2 = np.array(coords[2])-point\n",
    "            ray_vec = ray\n",
    "            for j in range(len(ray)):\n",
    "                if SelectRay(vec2,vec1,ray[j],'vertical')==True and SelectRay(vec2,vec1,ray[j],'horizontal')==True:\n",
    "                    ray_vec.append(ray[j])\n",
    "            for a in range(len(ray_vec)):\n",
    "                ratio = []\n",
    "                value = intersection(ray_vec[a],p,f2.geometry[0])\n",
    "                if value==False:\n",
    "                    ratio.append(100)\n",
    "                else:\n",
    "                    ratio.append(value)\n",
    "                f2['ratio'] = ratio\n",
    "                mymin = min(f2.ratio)\n",
    "                if f2.ratio[0]!=100:\n",
    "                    f2.loc[0,'nray'] = f2.loc[0,'nray']+1\n",
    "            nbs = f2.nray\n",
    "            nb = nb + nbs\n",
    "        nb_cal.append(nb/(len(sensors)*nb_ray[i]))\n",
    "    vf[i] = nb_cal\n",
    "    stop = timeit.default_timer()\n",
    "    time.append(stop-start)"
   ]
  },
  {
   "cell_type": "code",
   "execution_count": 57,
   "id": "582820ed",
   "metadata": {},
   "outputs": [
    {
     "data": {
      "image/png": "[encoded data removed]",
      "text/plain": [
       "<Figure size 432x288 with 1 Axes>"
      ]
     },
     "metadata": {
      "needs_background": "light"
     },
     "output_type": "display_data"
    }
   ],
   "source": [
    "plt.plot(vf[0],label='Ray number=100')\n",
    "plt.plot(vf[1],label='Ray number=1000')\n",
    "plt.plot(vf[2],label='Ray number=5000')\n",
    "#plt.plot(vf[3],label='Ray number=10000')\n",
    "plt.legend()\n",
    "plt.savefig('test2.png')"
   ]
  },
  {
   "cell_type": "code",
   "execution_count": 62,
   "id": "1f614992",
   "metadata": {
    "collapsed": true
   },
   "outputs": [
    {
     "name": "stdout",
     "output_type": "stream",
     "text": [
      "0.059188047016467835\n",
      "-0.005277642751584813\n",
      "-0.0022067594210264637\n"
     ]
    },
    {
     "ename": "KeyError",
     "evalue": "3",
     "output_type": "error",
     "traceback": [
      "\u001b[1;31m---------------------------------------------------------------------------\u001b[0m",
      "\u001b[1;31mValueError\u001b[0m                                Traceback (most recent call last)",
      "File \u001b[1;32m~\\Miniconda3\\envs\\uenv\\lib\\site-packages\\pandas\\core\\indexes\\range.py:385\u001b[0m, in \u001b[0;36mRangeIndex.get_loc\u001b[1;34m(self, key, method, tolerance)\u001b[0m\n\u001b[0;32m    384\u001b[0m \u001b[38;5;28;01mtry\u001b[39;00m:\n\u001b[1;32m--> 385\u001b[0m     \u001b[38;5;28;01mreturn\u001b[39;00m \u001b[38;5;28;43mself\u001b[39;49m\u001b[38;5;241;43m.\u001b[39;49m\u001b[43m_range\u001b[49m\u001b[38;5;241;43m.\u001b[39;49m\u001b[43mindex\u001b[49m\u001b[43m(\u001b[49m\u001b[43mnew_key\u001b[49m\u001b[43m)\u001b[49m\n\u001b[0;32m    386\u001b[0m \u001b[38;5;28;01mexcept\u001b[39;00m \u001b[38;5;167;01mValueError\u001b[39;00m \u001b[38;5;28;01mas\u001b[39;00m err:\n",
      "\u001b[1;31mValueError\u001b[0m: 3 is not in range",
      "\nThe above exception was the direct cause of the following exception:\n",
      "\u001b[1;31mKeyError\u001b[0m                                  Traceback (most recent call last)",
      "Input \u001b[1;32mIn [62]\u001b[0m, in \u001b[0;36m<cell line: 1>\u001b[1;34m()\u001b[0m\n\u001b[0;32m      1\u001b[0m \u001b[38;5;28;01mfor\u001b[39;00m i \u001b[38;5;129;01min\u001b[39;00m \u001b[38;5;28mrange\u001b[39m(\u001b[38;5;28mlen\u001b[39m(vf)):\n\u001b[1;32m----> 2\u001b[0m     \u001b[38;5;28mprint\u001b[39m((np\u001b[38;5;241m.\u001b[39mmean(\u001b[43mvf\u001b[49m\u001b[43m[\u001b[49m\u001b[43mi\u001b[49m\u001b[43m]\u001b[49m)\u001b[38;5;241m-\u001b[39mVerticalVF(\u001b[38;5;241m3\u001b[39m\u001b[38;5;241m/\u001b[39m\u001b[38;5;241m4\u001b[39m,\u001b[38;5;241m3\u001b[39m\u001b[38;5;241m/\u001b[39m\u001b[38;5;241m4\u001b[39m))\u001b[38;5;241m/\u001b[39mVerticalVF(\u001b[38;5;241m3\u001b[39m\u001b[38;5;241m/\u001b[39m\u001b[38;5;241m4\u001b[39m,\u001b[38;5;241m3\u001b[39m\u001b[38;5;241m/\u001b[39m\u001b[38;5;241m4\u001b[39m))\n",
      "File \u001b[1;32m~\\Miniconda3\\envs\\uenv\\lib\\site-packages\\pandas\\core\\frame.py:3505\u001b[0m, in \u001b[0;36mDataFrame.__getitem__\u001b[1;34m(self, key)\u001b[0m\n\u001b[0;32m   3503\u001b[0m \u001b[38;5;28;01mif\u001b[39;00m \u001b[38;5;28mself\u001b[39m\u001b[38;5;241m.\u001b[39mcolumns\u001b[38;5;241m.\u001b[39mnlevels \u001b[38;5;241m>\u001b[39m \u001b[38;5;241m1\u001b[39m:\n\u001b[0;32m   3504\u001b[0m     \u001b[38;5;28;01mreturn\u001b[39;00m \u001b[38;5;28mself\u001b[39m\u001b[38;5;241m.\u001b[39m_getitem_multilevel(key)\n\u001b[1;32m-> 3505\u001b[0m indexer \u001b[38;5;241m=\u001b[39m \u001b[38;5;28;43mself\u001b[39;49m\u001b[38;5;241;43m.\u001b[39;49m\u001b[43mcolumns\u001b[49m\u001b[38;5;241;43m.\u001b[39;49m\u001b[43mget_loc\u001b[49m\u001b[43m(\u001b[49m\u001b[43mkey\u001b[49m\u001b[43m)\u001b[49m\n\u001b[0;32m   3506\u001b[0m \u001b[38;5;28;01mif\u001b[39;00m is_integer(indexer):\n\u001b[0;32m   3507\u001b[0m     indexer \u001b[38;5;241m=\u001b[39m [indexer]\n",
      "File \u001b[1;32m~\\Miniconda3\\envs\\uenv\\lib\\site-packages\\pandas\\core\\indexes\\range.py:387\u001b[0m, in \u001b[0;36mRangeIndex.get_loc\u001b[1;34m(self, key, method, tolerance)\u001b[0m\n\u001b[0;32m    385\u001b[0m         \u001b[38;5;28;01mreturn\u001b[39;00m \u001b[38;5;28mself\u001b[39m\u001b[38;5;241m.\u001b[39m_range\u001b[38;5;241m.\u001b[39mindex(new_key)\n\u001b[0;32m    386\u001b[0m     \u001b[38;5;28;01mexcept\u001b[39;00m \u001b[38;5;167;01mValueError\u001b[39;00m \u001b[38;5;28;01mas\u001b[39;00m err:\n\u001b[1;32m--> 387\u001b[0m         \u001b[38;5;28;01mraise\u001b[39;00m \u001b[38;5;167;01mKeyError\u001b[39;00m(key) \u001b[38;5;28;01mfrom\u001b[39;00m \u001b[38;5;21;01merr\u001b[39;00m\n\u001b[0;32m    388\u001b[0m \u001b[38;5;28mself\u001b[39m\u001b[38;5;241m.\u001b[39m_check_indexing_error(key)\n\u001b[0;32m    389\u001b[0m \u001b[38;5;28;01mraise\u001b[39;00m \u001b[38;5;167;01mKeyError\u001b[39;00m(key)\n",
      "\u001b[1;31mKeyError\u001b[0m: 3"
     ]
    }
   ],
   "source": [
    "for i in range(len(vf)):\n",
    "    print((np.mean(vf[i])-VerticalVF(3/4,3/4))/VerticalVF(3/4,3/4))"
   ]
  },
  {
   "cell_type": "code",
   "execution_count": 65,
   "id": "b986c81c",
   "metadata": {},
   "outputs": [
    {
     "data": {
      "text/plain": [
       "2.6276276276276276"
      ]
     },
     "execution_count": 65,
     "metadata": {},
     "output_type": "execute_result"
    }
   ],
   "source": [
    "525/199.8"
   ]
  },
  {
   "cell_type": "code",
   "execution_count": null,
   "id": "a39a809b",
   "metadata": {},
   "outputs": [],
   "source": []
  }
 ],
 "metadata": {
  "kernelspec": {
   "display_name": "Python 3 (ipykernel)",
   "language": "python",
   "name": "python3"
  },
  "language_info": {
   "codemirror_mode": {
    "name": "ipython",
    "version": 3
   },
   "file_extension": ".py",
   "mimetype": "text/x-python",
   "name": "python",
   "nbconvert_exporter": "python",
   "pygments_lexer": "ipython3",
   "version": "3.10.4"
  }
 },
 "nbformat": 4,
 "nbformat_minor": 5
}
