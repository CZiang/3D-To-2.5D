{
 "cells": [
  {
   "cell_type": "markdown",
   "id": "097b45aa",
   "metadata": {},
   "source": [
    "In this section, I will present you the final view factor calculator which is optimiezed from Nusselt Analogue method and Monte Carlo method."
   ]
  },
  {
   "cell_type": "code",
   "execution_count": 51,
   "id": "7eefc16d",
   "metadata": {},
   "outputs": [],
   "source": [
    "import matplotlib.pyplot as plt\n",
    "from t4gpd.io.CirReader import CirReader\n",
    "from t4gpd.pyvista.ToUnstructuredGrid import ToUnstructuredGrid\n",
    "from shapely.geometry import Polygon\n",
    "from geopandas import GeoDataFrame\n",
    "import numpy as np\n",
    "import pandas as pd\n",
    "import geopandas\n",
    "from math import *\n",
    "from numpy.random import randint\n",
    "from shapely.geometry import LineString,Point\n",
    "from t4gpd.commons.GeomLib import GeomLib\n",
    "from t4gpd.demos.GeoDataFrameDemos import GeoDataFrameDemos\n",
    "from t4gpd.morph.geoProcesses.FootprintExtruder import FootprintExtruder\n",
    "from t4gpd.morph.geoProcesses.STGeoProcess import STGeoProcess\n",
    "from t4gpd.morph.STPointsDensifier2 import STPointsDensifier2\n",
    "from t4gpd.pyvista.ToUnstructuredGrid import ToUnstructuredGrid\n",
    "import random\n",
    "from t4gpd.commons.RayCasting3Lib import RayCasting3Lib\n",
    "import timeit\n",
    "from matplotlib.gridspec import GridSpec\n",
    "from pandas import concat,merge\n",
    "from t4gpd.pyvista.commons.RayCasting3DLib import RayCasting3DLib\n",
    "from t4gpd.pyvista.geoProcesses.RayCasting3D import RayCasting3D\n",
    "from t4gpd.pyvista.STRaysToViewFactors import STRaysToViewFactors\n",
    "from t4gpd.pyvista.geoProcesses.MoveSensorsAwayFromSurface import MoveSensorsAwayFromSurface\n",
    "from t4gpd.morph.STGrid import STGrid"
   ]
  },
  {
   "cell_type": "markdown",
   "id": "e971a092",
   "metadata": {},
   "source": [
    "# General Function"
   ]
  },
  {
   "cell_type": "code",
   "execution_count": 2,
   "id": "b5cea4d4",
   "metadata": {},
   "outputs": [],
   "source": [
    "def SurfaceNormal(self): #input is the buildingsIn3d.geometry[i],than choose the polygon of one facet\n",
    "    coord = self.exterior.coords\n",
    "    facet_p0=np.array(coord[0])\n",
    "    facet_p1=np.array(coord[1])\n",
    "    facet_p2=np.array(coord[2])\n",
    "    vec1 = facet_p1 - facet_p0\n",
    "    vec2 = facet_p2 - facet_p1\n",
    "    a = vec1[1]*vec2[2]-vec1[2]*vec2[1]\n",
    "    b = vec1[2]*vec2[0]-vec1[0]*vec2[2]\n",
    "    c = vec1[0]*vec2[1]-vec1[1]*vec2[0]\n",
    "    normal = np.array([a,b,c])\n",
    "    mod = module(normal)\n",
    "    n  = normal/mod\n",
    "    return n"
   ]
  },
  {
   "cell_type": "code",
   "execution_count": 3,
   "id": "4cc7bed3",
   "metadata": {},
   "outputs": [],
   "source": [
    "def module(vector):\n",
    "    return np.sqrt(np.dot(np.array(vector),np.array(vector)))"
   ]
  },
  {
   "cell_type": "code",
   "execution_count": 4,
   "id": "07c3d2ff",
   "metadata": {},
   "outputs": [],
   "source": [
    "def VectorAngleCos(vector1,vector2):#calculate the angle between two vectors\n",
    "    unit_vector1 = vector1/np.linalg.norm(vector1)\n",
    "    unit_vector2 = vector2/np.linalg.norm(vector2)\n",
    "    dot_vector = np.dot(unit_vector1,unit_vector2)\n",
    "    return dot_vector"
   ]
  },
  {
   "cell_type": "code",
   "execution_count": 5,
   "id": "1547e9db",
   "metadata": {},
   "outputs": [],
   "source": [
    "def STEvenPoints(face,n,m): #row=n, column=m\n",
    "    p = face.exterior.coords\n",
    "    vec1 = np.array(p[2])-np.array(p[1])\n",
    "    vec2 = np.array(p[1])-np.array(p[0])\n",
    "    L1 = vec1/n\n",
    "    L2 = vec2/m\n",
    "    s = []\n",
    "    normal = []\n",
    "    for i in range(1,n+1):\n",
    "        for j in range(1,m+1):\n",
    "            point_1 = np.array(p[0])+L2*(j-1)+L1*(i-1)\n",
    "            point_2 = np.array(p[0])+L2*j+L1*i\n",
    "            point_c = Point((point_1+point_2)/2)\n",
    "            s.append(point_c)\n",
    "            normal.append(SurfaceNormal(face))\n",
    "    p_geodata = GeoDataFrame({'geometry':s},crs='epsg:2154')\n",
    "    p_geodata['NormalVector'] = normal\n",
    "    return p_geodata"
   ]
  },
  {
   "cell_type": "code",
   "execution_count": 7,
   "id": "afabd193",
   "metadata": {},
   "outputs": [],
   "source": [
    "def centroid(self): #rectangle centroid\n",
    "    coord = self.exterior.coords\n",
    "    face_p0=np.array(coord[0])\n",
    "    face_p2=np.array(coord[2])\n",
    "    face_ce=(face_p0+face_p2)/2\n",
    "    return Point(face_ce)"
   ]
  },
  {
   "cell_type": "code",
   "execution_count": 8,
   "id": "02259cfe",
   "metadata": {},
   "outputs": [],
   "source": [
    "def grid3d(self,n,m):#n rows, m columns\n",
    "    coord = self.exterior.coords\n",
    "    p0=np.array(coord[0])\n",
    "    p1=np.array(coord[1])\n",
    "    p2=np.array(coord[2])\n",
    "    p3=np.array(coord[3])\n",
    "    vec1 = (p1-p0)/m\n",
    "    vec2 = (p2-p1)/n\n",
    "    poly=[]\n",
    "    cen_p=[]\n",
    "    sur_area=[]\n",
    "    normal=[]\n",
    "    sur_d=[]\n",
    "    for i in range(n):\n",
    "        for j in range(m):\n",
    "            p0_t=Point(p0+j*vec1+i*vec2)\n",
    "            p1_t=Point(p0+(j+1)*vec1+i*vec2)\n",
    "            p2_t=Point(p0+(j+1)*vec1+(i+1)*vec2)\n",
    "            p3_t=Point(p0+j*vec1+(i+1)*vec2)\n",
    "            face_t = Polygon([p0_t,p1_t,p2_t,p3_t,p0_t])\n",
    "            poly.append(face_t)\n",
    "            cen_p.append(centroid(face_t))\n",
    "            sur_area.append(area3d(face_t))\n",
    "            normal.append(SurfaceNormal(face_t))\n",
    "            sur_d.append(Surface_diameter(face_t))\n",
    "    self_grid=GeoDataFrame({'geometry': poly},crs='epsg:2154')\n",
    "    self_grid['CentroidPoint']=cen_p\n",
    "    self_grid['area']=sur_area\n",
    "    self_grid['NormalVector']=normal\n",
    "    self_grid['diameter']=sur_d\n",
    "    return self_grid"
   ]
  },
  {
   "cell_type": "code",
   "execution_count": 9,
   "id": "99ed2f6e",
   "metadata": {},
   "outputs": [],
   "source": [
    "def Surface_diameter(surface):\n",
    "    coord = surface.exterior.coords\n",
    "    d = distance3d(Point(coord[0]),Point(coord[2]))\n",
    "    return d"
   ]
  },
  {
   "cell_type": "code",
   "execution_count": 11,
   "id": "5ff1c3f9",
   "metadata": {},
   "outputs": [],
   "source": [
    "def distance3d(point1,point2):\n",
    "    d = sqrt((point1.x-point2.x)**2 + (point1.y-point2.y)**2 + (point1.z-point2.z)**2)\n",
    "    return d"
   ]
  },
  {
   "cell_type": "code",
   "execution_count": 13,
   "id": "35b5880b",
   "metadata": {},
   "outputs": [],
   "source": [
    "#get area from 3d polygon\n",
    "def area3d(self):\n",
    "    coord = self.exterior.coords\n",
    "    d1 = distance3d(Point(coord[0]),Point(coord[1]))\n",
    "    d2 = distance3d(Point(coord[1]),Point(coord[2]))\n",
    "    return d1*d2"
   ]
  },
  {
   "cell_type": "code",
   "execution_count": 22,
   "id": "d35312b0",
   "metadata": {},
   "outputs": [],
   "source": [
    "def OnSurface(self,point):\n",
    "    ang = 0\n",
    "    p = np.array(point)\n",
    "    coord = self.exterior.coords\n",
    "    for i in range(len(coord)-1):\n",
    "        vec1 = np.array(coord[i]) - p\n",
    "        vec2 = np.array(coord[i+1])-p\n",
    "        m1 = module(vec1)\n",
    "        m2 = module(vec2)\n",
    "        if cmp(m1*m2,0):\n",
    "            return True\n",
    "        else:\n",
    "            return False"
   ]
  },
  {
   "cell_type": "code",
   "execution_count": 19,
   "id": "62ec42eb",
   "metadata": {},
   "outputs": [],
   "source": [
    "def cmp(a,b,c=1e-3):\n",
    "    return abs(a-b)<c"
   ]
  },
  {
   "cell_type": "code",
   "execution_count": 26,
   "id": "bf8a1a45",
   "metadata": {},
   "outputs": [],
   "source": [
    "def IFshareedge(f1,f2):\n",
    "    coord1 = f1.geometry.exterior.coords\n",
    "    coord2 = f2.geometry.exterior.coords\n",
    "    for i in coord1:\n",
    "        if OnSurface(f2.geometry,i):\n",
    "            return True\n",
    "    for j in coord2:\n",
    "        if OnSurface(f1.geometry,j):\n",
    "            return True\n",
    "    return False"
   ]
  },
  {
   "cell_type": "markdown",
   "id": "8469a51d",
   "metadata": {},
   "source": [
    "# Nusselt Analogue Sphere"
   ]
  },
  {
   "cell_type": "code",
   "execution_count": 16,
   "id": "52ec6723",
   "metadata": {},
   "outputs": [],
   "source": [
    "def isFiveTimeRuleOk(f1,f2):\n",
    "    return distance3d(f1.CentroidPoint,f2.CentroidPoint) >= 5*f1.diameter"
   ]
  },
  {
   "cell_type": "code",
   "execution_count": 15,
   "id": "ece54ab0",
   "metadata": {},
   "outputs": [],
   "source": [
    "#Subdivide function 2\n",
    "def Subdivide2(f1,f2): #f1 is the emitting surface, f2 is the target surface\n",
    "    if isFiveTimeRuleOk(f1,f2):\n",
    "        return [f1]\n",
    "    else:\n",
    "        d = distance3d(f1.CentroidPoint,f2.CentroidPoint)/5\n",
    "        coord1 = f1.geometry.exterior.coords\n",
    "        w1 = distance3d(Point(coord1[0]),Point(coord1[1]))\n",
    "        h1 = distance3d(Point(coord1[1]),Point(coord1[2]))\n",
    "        \n",
    "        n1 = int(h1/d)+1\n",
    "        m1 = int(w1/d)+1\n",
    "        \n",
    "        x = grid3d(f1.geometry,n1,m1)\n",
    "        return x"
   ]
  },
  {
   "cell_type": "code",
   "execution_count": 445,
   "id": "f7a02245",
   "metadata": {},
   "outputs": [],
   "source": [
    "def vf_nusselt(face1,face2): #emitting from face1 accept by face2\n",
    "    pt1 = face1.CentroidPoint\n",
    "    pt2 = face2.CentroidPoint\n",
    "    n1 = face1.NormalVector\n",
    "    n2 = face2.NormalVector\n",
    "    vec = np.array(pt2)-np.array(pt1)\n",
    "    a2 = face2.area\n",
    "    r = distance3d(pt1,pt2)\n",
    "    vf = -a2*VectorAngleCos(n1,vec)*VectorAngleCos(n2,vec)/(pi*r**2)\n",
    "    if vf>0:\n",
    "        return vf\n",
    "    else:\n",
    "        return 0"
   ]
  },
  {
   "cell_type": "markdown",
   "id": "7d0210b9",
   "metadata": {},
   "source": [
    "# Monte Carlo Ray Tracing"
   ]
  },
  {
   "cell_type": "code",
   "execution_count": 6,
   "id": "a0ea58fb",
   "metadata": {},
   "outputs": [],
   "source": [
    "def SelectRay(vec0,vec1,ray,method):#transform into 2d\n",
    "    if method=='horizontal':\n",
    "        v0 = np.array([vec0[0],vec0[1]])#here v0 is the left point\n",
    "        v1 = np.array([vec1[0],vec1[1]])\n",
    "        r = np.array([ray[0],ray[1]])\n",
    "    if method=='vertical':\n",
    "        v0 = np.array([vec0[1],vec0[2]])#here v0 is the taller point\n",
    "        v1 = np.array([vec1[1],vec1[2]])\n",
    "        r = np.array([ray[1],ray[2]])\n",
    "\n",
    "    x = v0[0]*r[1]-v0[1]*r[0]\n",
    "    y = v1[0]*r[1]-v1[1]*r[0]\n",
    "    if x<=0 and y>=0:\n",
    "        return True\n",
    "    else:\n",
    "        return False"
   ]
  },
  {
   "cell_type": "code",
   "execution_count": 12,
   "id": "39e535ca",
   "metadata": {},
   "outputs": [],
   "source": [
    "def RandomDir(n):#number of samples\n",
    "    vector = []\n",
    "    for i in range(n):\n",
    "        polar = 0.5*np.arccos(1-2*random.random())\n",
    "        azimuth = random.random()*pi*2\n",
    "        x = cos(polar)*sin(azimuth)\n",
    "        y = sin(polar)\n",
    "        z = cos(polar)*cos(azimuth)\n",
    "        vector.append(np.array([x,y,z]))\n",
    "    return vector"
   ]
  },
  {
   "cell_type": "code",
   "execution_count": 10,
   "id": "d0c86a2b",
   "metadata": {},
   "outputs": [],
   "source": [
    "def RayPoint2(point,n,norm,length):\n",
    "    ray_line = []\n",
    "    vec = RandomDir(n)\n",
    "    for i in range(len(vec)):\n",
    "        vec1 = vec[i]\n",
    "        x2 = norm[0]*vec1[1]+norm[1]*vec1[0]\n",
    "        y2 = norm[1]*vec1[1]-norm[0]*vec1[0]\n",
    "        z2 = vec1[2]\n",
    "        p2 = Point(point.x+x2*length,point.y+y2*length,point.z+z2*length)\n",
    "        ray_vec = np.array([p2.x,p2.y,p2.z]) - np.array([point.x,point.y,point.z])\n",
    "        ray_line.append(ray_vec)\n",
    "    return ray_line"
   ]
  },
  {
   "cell_type": "code",
   "execution_count": 76,
   "id": "5e8a1cae",
   "metadata": {},
   "outputs": [],
   "source": [
    "def newMonteCarlo(f1,f2,nb_ray,n,m,times):\n",
    "    g1 = grid3d(f1.geometry,n,m)\n",
    "    g2 = grid3d(f2.geometry,n,m)\n",
    "    masks = concat([g1,g2])\n",
    "    masks.reset_index(inplace=True, drop=True)\n",
    "    masks['pk'] = masks.index\n",
    "    \n",
    "    sensors = GeoDataFrame({'geometry':list(masks.CentroidPoint)},crs='epsg:2154')\n",
    "    sensors['NormalVector'] = list(masks.NormalVector)\n",
    "    sensors['pk'] = list(masks.pk)\n",
    "    op1 = MoveSensorsAwayFromSurface(sensors,normalFieldname='NormalVector',dist=1e-10)\n",
    "    sensors = STGeoProcess(op1,sensors).execute()\n",
    "    \n",
    "    viewfactor = []\n",
    "    \n",
    "    coords = f2.geometry.exterior.coords#selectray\n",
    "    \n",
    "    for w in range(times):\n",
    "        vf = []\n",
    "        #shootingDirs = RayCasting3DLib.preparePanopticRays(nb_ray)\n",
    "        ray = RayPoint2(sensors.geometry.iloc[0],nb_ray,sensors.NormalVector.iloc[0],1)\n",
    "        for i in range(int(len(sensors)/2)):\n",
    "            sensor = sensors.loc[ sensors[sensors.pk == i].index ]\n",
    "            \n",
    "            #select ray\n",
    "            point = np.array(sensor.geometry.squeeze())\n",
    "            vec0 = np.array(coords[0])-point\n",
    "            vec1 = np.array(coords[1])-point\n",
    "            vec2 = np.array(coords[2])-point\n",
    "            ray_vec = []\n",
    "            for j in range(len(ray)):\n",
    "                if SelectRay(vec2,vec0,ray[j],'vertical')==True:\n",
    "                    ray_vec.append(ray[j])\n",
    "            shootingDirs = np.asarray(ray_vec)\n",
    "            \n",
    "            #calculate viewfactor\n",
    "            op2 = RayCasting3D([masks], shootingDirs, viewpoints=sensor,\n",
    "                      normalFieldname='NormalVector', pkFieldname='pk')\n",
    "            rays = STGeoProcess(op2, sensor).execute()\n",
    "            vfSparseMatrix = STRaysToViewFactors(rays,'pk','hitGids').run()\n",
    "            vf.append(sum(vfSparseMatrix.viewfactor)*len(ray_vec)/len(ray))\n",
    "        viewfactor.append(sum(vf)/(len(sensors)/2))\n",
    "    return np.mean(viewfactor)"
   ]
  },
  {
   "cell_type": "markdown",
   "id": "1f2796ec",
   "metadata": {},
   "source": [
    "# View Factor Calculator"
   ]
  },
  {
   "cell_type": "code",
   "execution_count": 426,
   "id": "b0eb1f6b",
   "metadata": {},
   "outputs": [],
   "source": [
    "def ViewFactor(f1,f2):\n",
    "    if isFiveTimeRuleOk(f1,f2):\n",
    "        vf_nu = vf_nusselt(f1,f2)\n",
    "        return vf_nu\n",
    "    elif IFshareedge(f1,f2)==False:\n",
    "        d = GeoDataFrame(Subdivide2(f1,f2))\n",
    "        c = GeoDataFrame(Subdivide2(f2,f1))\n",
    "        vf2_nu = 0\n",
    "        for i in range(len(d)):\n",
    "            face_0 = d.iloc[i]\n",
    "            vf2 = [vf_nusselt(face_0,face_1) for face_1 in c.iloc()]\n",
    "            vf2_nu = vf2_nu + sum(vf2)/len(d)\n",
    "        return vf2_nu\n",
    "    else:\n",
    "        vf_mc = newMonteCarlo(f1,f2,10000,3,3,1)\n",
    "        return vf_mc"
   ]
  },
  {
   "cell_type": "markdown",
   "id": "664dcb5e",
   "metadata": {},
   "source": [
    "# Create Surfaces"
   ]
  },
  {
   "cell_type": "code",
   "execution_count": 20,
   "id": "73220e04",
   "metadata": {},
   "outputs": [],
   "source": [
    "def CreateFaces_share(theta): #x=w/d, y=h/d\n",
    "    polygon1 = []\n",
    "    polygon2 = []\n",
    "    coords_3d_1 = np.array([[10,0,0], [0,0,0], [0,0,10], [10,0,10], [10,0,0]])\n",
    "    coords_3d_2 = np.array([[0,0,0], [10,0,0], [10,10*sin(theta),10*cos(theta)], [0,10*sin(theta),10*cos(theta)], [0,0,0]])\n",
    "\n",
    "    polygon1.append(Polygon(coords_3d_1))\n",
    "    polygon2.append(Polygon(coords_3d_2))\n",
    "    f1 = GeoDataFrame({'geometry':polygon1},crs='epsg:2154')\n",
    "    f2 = GeoDataFrame({'geometry':polygon2},crs='epsg:2154')\n",
    "    \n",
    "    f1['area'] = area3d(f1.geometry.iloc[0])\n",
    "    f2['area'] = area3d(f2.geometry.iloc[0])\n",
    "    \n",
    "    f1['diameter'] = Surface_diameter(f1.geometry.iloc[0])\n",
    "    f2['diameter'] = Surface_diameter(f2.geometry.iloc[0])\n",
    "    \n",
    "    f1['CentroidPoint'] = centroid(f1.geometry.iloc[0])\n",
    "    f2['CentroidPoint'] = centroid(f2.geometry.iloc[0])\n",
    "    return f1,f2"
   ]
  },
  {
   "cell_type": "code",
   "execution_count": 28,
   "id": "642c3e0e",
   "metadata": {},
   "outputs": [],
   "source": [
    "def CreateFaces(x,y,method): #x=w/d, y=h/d\n",
    "    k = y/x\n",
    "    polygon1 = []\n",
    "    polygon2 = []\n",
    "    coords_3d_1 = np.array([[10,0,0], [0,0,0], [0,0,10*k], [10,0,10*k], [10,0,0]])\n",
    "    if method == 'parallel':\n",
    "        coords_3d_2 = np.array([[0,10/x,0], [10,10/x,0], [10,10/x,10*k], [0,10/x,10*k], [0,10/x,0]])\n",
    "    elif method == 'vertical':\n",
    "        coords_3d_2 = np.array([[0,0,0], [10,0,0], [10,10/x,0], [0,10/x,0], [0,0,0]])\n",
    "    else:\n",
    "        return 'Please select your method \"parallel\" or \"vertical\"?'\n",
    "    polygon1.append(Polygon(coords_3d_1))\n",
    "    polygon2.append(Polygon(coords_3d_2))\n",
    "    f1 = GeoDataFrame({'geometry':polygon1},crs='epsg:2154')\n",
    "    f2 = GeoDataFrame({'geometry':polygon2},crs='epsg:2154')\n",
    "    \n",
    "    f1['area'] = area3d(f1.geometry.iloc[0])\n",
    "    f2['area'] = area3d(f2.geometry.iloc[0])\n",
    "    \n",
    "    f1['diameter'] = Surface_diameter(f1.geometry.iloc[0])\n",
    "    f2['diameter'] = Surface_diameter(f2.geometry.iloc[0])\n",
    "    \n",
    "    f1['CentroidPoint'] = centroid(f1.geometry.iloc[0])\n",
    "    f2['CentroidPoint'] = centroid(f2.geometry.iloc[0])\n",
    "    \n",
    "    n1=[]\n",
    "    n2=[]\n",
    "    n1.append(SurfaceNormal(f1.geometry.iloc[0]))\n",
    "    n2.append(SurfaceNormal(f2.geometry.iloc[0]))\n",
    "    f1['NormalVector'] = n1\n",
    "    f2['NormalVector'] = n2\n",
    "    return f1,f2"
   ]
  },
  {
   "cell_type": "markdown",
   "id": "45a5a59b",
   "metadata": {},
   "source": [
    "# 3D mockup"
   ]
  },
  {
   "cell_type": "code",
   "execution_count": 211,
   "id": "ea426781",
   "metadata": {},
   "outputs": [],
   "source": [
    "from t4gpd.demos.GeoDataFrameDemos5 import GeoDataFrameDemos5"
   ]
  },
  {
   "cell_type": "code",
   "execution_count": 212,
   "id": "6cbd43a0",
   "metadata": {},
   "outputs": [],
   "source": [
    "gdf = GeoDataFrameDemos5.cirSceneMasque1Corr() #different mockups with cirSceneMasque1Corr and cirSceneMasque2Corr"
   ]
  },
  {
   "cell_type": "code",
   "execution_count": 213,
   "id": "814a6835",
   "metadata": {},
   "outputs": [],
   "source": [
    "#create lables\n",
    "lab=[]\n",
    "roof_x=[]\n",
    "roof_y=[]\n",
    "roof_z=[]\n",
    "for i in gdf.geometry:\n",
    "    fig = Polygon(i)\n",
    "    x, y, z=zip(*fig.exterior.coords)\n",
    "    if np.std(z)==0 and np.mean(z)==0:\n",
    "        lab.append('ground')\n",
    "    elif np.std(z)==0 and np.mean(z)!=0:\n",
    "        lab.append('roof')\n",
    "        roof_x.append(x)\n",
    "        roof_y.append(y)\n",
    "        roof_z.append(z)\n",
    "    else:\n",
    "        lab.append('floor')\n",
    "gdf['lable'] = lab\n",
    "gdf['gid'] = gdf.index"
   ]
  },
  {
   "cell_type": "code",
   "execution_count": 214,
   "id": "53fd44b2",
   "metadata": {},
   "outputs": [],
   "source": [
    "#find normal vector\n",
    "normal_vec = []\n",
    "for i in range(len(gdf)):\n",
    "    if gdf.lable[i]=='roof' or gdf.lable[i]=='ground':\n",
    "        normal_vec.append(np.array([0,0,1]))\n",
    "    else:\n",
    "        normal_vec.append(SurfaceNormal(gdf.geometry[i]))\n",
    "normal_vec\n",
    "gdf['NormalVector'] = normal_vec"
   ]
  },
  {
   "cell_type": "code",
   "execution_count": 215,
   "id": "7d9f6ac9",
   "metadata": {},
   "outputs": [],
   "source": [
    "#create 2d buildings geodataframe\n",
    "geo2d=[]\n",
    "height=[]\n",
    "for i in range(len(roof_x)):\n",
    "    p = Polygon(list(zip(roof_x[i],roof_y[i])))\n",
    "    geo2d.append(p)\n",
    "    height.append(np.mean(roof_z[i]))\n",
    "buildings = GeoDataFrame({'geometry':geo2d},crs='epsg:2154')\n",
    "buildings['HAUTEUR'] = height"
   ]
  },
  {
   "cell_type": "code",
   "execution_count": 216,
   "id": "6d63cab9",
   "metadata": {},
   "outputs": [],
   "source": [
    "#create ground with holes\n",
    "_ground = gdf.loc[gdf.lable=='ground'].geometry\n",
    "_footprint = gdf.loc[gdf.lable=='roof'].geometry\n",
    "for i in _footprint:\n",
    "    _ground = _ground.difference(i)\n",
    "gdf.loc[gdf.lable=='ground','geometry']=_ground.squeeze()"
   ]
  },
  {
   "cell_type": "code",
   "execution_count": 221,
   "id": "16d6e6d3",
   "metadata": {},
   "outputs": [],
   "source": [
    "#create ground grid\n",
    "dx = 5\n",
    "ggeo=[]\n",
    "ggeo.append(gdf.loc[gdf.lable=='ground'].geometry.iloc[0])\n",
    "ground = GeoDataFrame({'geometry':ggeo},crs='epsg:2154')\n",
    "grid = STGrid(ground, dx, dy=None, indoor=True, intoPoint=False, encode=False).run()\n",
    "grid = grid.drop(columns=['neighbors4','neighbors8','indoor','gid'])\n",
    "grid['lable'] = ['ground' for item in grid.index]\n",
    "grid['NormalVector'] = [np.array([0,0,1]) for item in grid.index]\n",
    "#grid.gid = grid.index\n",
    "for i in range(len(grid)):\n",
    "    grid.geometry[i] = GeomLib.forceZCoordinateToZ0(grid.geometry[i],z0=0)\n",
    "grid['diameter'] = [Surface_diameter(face_g) for face_g in grid.geometry]\n",
    "grid['CentroidPoint'] = [centroid(face_g) for face_g in grid.geometry]\n",
    "grid['area'] = [area3d(face_g) for face_g in grid.geometry]"
   ]
  },
  {
   "cell_type": "code",
   "execution_count": 408,
   "id": "214920a7",
   "metadata": {},
   "outputs": [],
   "source": [
    "def Addproperty(self):\n",
    "    self['NormalVector'] = [SurfaceNormal(item) for item in self.geometry]\n",
    "    self['CentroidPoint'] = [centroid(item) for item in self.geometry]\n",
    "    self['diameter'] = [Surface_diameter(item) for item in self.geometry]\n",
    "    self['area'] = [area3d(item) for item in self.geometry]\n",
    "    la = []\n",
    "    for i in self.CentroidPoint:\n",
    "        if i.z==0:\n",
    "            la.append('ground')\n",
    "        else:\n",
    "            la.append('floor')\n",
    "    self['lable'] = la\n",
    "    return self"
   ]
  },
  {
   "cell_type": "code",
   "execution_count": 218,
   "id": "9462b1a5",
   "metadata": {},
   "outputs": [],
   "source": [
    "#create floor grid\n",
    "floor_grid = GeoDataFrame(columns=['geometry','CentroidPoint','area','NormalVector','diameter'])\n",
    "for i in range(len(gdf)):\n",
    "    if gdf.lable[i]=='floor':\n",
    "        coord = gdf.geometry.iloc[i].exterior.coords\n",
    "        w = distance3d(Point(coord[0]),Point(coord[1]))\n",
    "        h = distance3d(Point(coord[1]),Point(coord[2]))\n",
    "        if w<h:\n",
    "            m = int(h/3)\n",
    "            g = grid3d(gdf.geometry.iloc[i],m,1)\n",
    "        else:\n",
    "            m = int(w/3)#height of one floor\n",
    "            g = grid3d(gdf.geometry.iloc[i],1,m)\n",
    "        floor_grid = floor_grid.append(g)\n",
    "floor_grid = floor_grid.reset_index(drop=True)\n",
    "floor_grid['lable'] = ['floor' for item in floor_grid.index]"
   ]
  },
  {
   "cell_type": "code",
   "execution_count": 402,
   "id": "f917c36d",
   "metadata": {},
   "outputs": [],
   "source": [
    "#concat both floor grids and ground grids\n",
    "allfaces = pd.concat([floor_grid,grid])\n",
    "allfaces = allfaces.reset_index(drop=True)"
   ]
  },
  {
   "cell_type": "code",
   "execution_count": 403,
   "id": "9eaa329f",
   "metadata": {},
   "outputs": [],
   "source": [
    "#Covisible facing surface\n",
    "def FaceSurface(s_surface,t_surface):\n",
    "    min_d = 1e-8\n",
    "    n1 = s_surface.NormalVector\n",
    "    n2 = t_surface.NormalVector\n",
    "    coords = t_surface.geometry.exterior.coords\n",
    "    point = np.array(s_surface.CentroidPoint)\n",
    "    p_s = s_surface.CentroidPoint\n",
    "    p_t = t_surface.CentroidPoint\n",
    "    p_t = Point(p_t.x+n2[0]*min_d,p_t.y+n2[1]*min_d,p_t.z+n2[2]*min_d)\n",
    "    \n",
    "    covisible, ray = RayCasting3Lib.areCovisibleIn3D(p_s, p_t, buildings, 'HAUTEUR')\n",
    "    if covisible:\n",
    "        for j in range(1,len(coords)):\n",
    "            vec = np.array(coords[j])-point\n",
    "            con1 = vec.dot(n1)\n",
    "            con2 = vec.dot(n2)\n",
    "            if con1>0 and con2<0:\n",
    "                return True\n",
    "    else:\n",
    "        return False"
   ]
  },
  {
   "cell_type": "code",
   "execution_count": 464,
   "id": "8165a041",
   "metadata": {},
   "outputs": [
    {
     "name": "stdout",
     "output_type": "stream",
     "text": [
      "CPU times: total: 5.67 s\n",
      "Wall time: 5.67 s\n"
     ]
    }
   ],
   "source": [
    "%%time\n",
    "#find facing and covisible surfaces from test grid\n",
    "index_test = 477\n",
    "testgrid = GeoDataFrame.copy(allfaces.loc[(allfaces.index==index_test)])\n",
    "ff=[]\n",
    "for i in range(len(allfaces)):\n",
    "    if FaceSurface(testgrid.iloc[0],allfaces.iloc[i]):\n",
    "        ff.append(allfaces.iloc[i])\n",
    "covisible_grid = GeoDataFrame(ff)\n",
    "covisible_grid = Addproperty(covisible_grid)\n",
    "covisible_grid = covisible_grid.reset_index(drop=True)\n",
    "\n",
    "#calculate view factor\n",
    "vf = [ViewFactor(testgrid.iloc[0],co_grid) for co_grid in covisible_grid.iloc]\n",
    "covisible_grid['ViewFactor'] = vf"
   ]
  },
  {
   "cell_type": "code",
   "execution_count": 469,
   "id": "34f46391",
   "metadata": {},
   "outputs": [
    {
     "data": {
      "application/vnd.jupyter.widget-view+json": {
       "model_id": "33eaeb7e0e35414e83316fb5567037d9",
       "version_major": 2,
       "version_minor": 0
      },
      "text/plain": [
       "ViewInteractiveWidget(height=768, layout=Layout(height='auto', width='100%'), width=1024)"
      ]
     },
     "metadata": {},
     "output_type": "display_data"
    }
   ],
   "source": [
    "scene1 = ToUnstructuredGrid([testgrid,covisible_grid],'ViewFactor').run()\n",
    "scene1.plot(scalars='ViewFactor',cmap='gist_earth',show_edges=True,\n",
    "\tshow_scalar_bar=True, point_size=5.0, render_points_as_spheres=True)"
   ]
  },
  {
   "cell_type": "code",
   "execution_count": null,
   "id": "3f80ef88",
   "metadata": {},
   "outputs": [],
   "source": []
  }
 ],
 "metadata": {
  "kernelspec": {
   "display_name": "Python 3 (ipykernel)",
   "language": "python",
   "name": "python3"
  },
  "language_info": {
   "codemirror_mode": {
    "name": "ipython",
    "version": 3
   },
   "file_extension": ".py",
   "mimetype": "text/x-python",
   "name": "python",
   "nbconvert_exporter": "python",
   "pygments_lexer": "ipython3",
   "version": "3.10.5"
  }
 },
 "nbformat": 4,
 "nbformat_minor": 5
}
