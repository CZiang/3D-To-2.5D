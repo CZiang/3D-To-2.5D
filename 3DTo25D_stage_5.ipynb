{
 "cells": [
  {
   "cell_type": "code",
   "execution_count": 1,
   "id": "342bbbb5",
   "metadata": {},
   "outputs": [],
   "source": [
    "import matplotlib.pyplot as plt\n",
    "from t4gpd.io.CirReader import CirReader\n",
    "from t4gpd.pyvista.ToUnstructuredGrid import ToUnstructuredGrid\n",
    "from shapely.geometry import Polygon\n",
    "from geopandas import GeoDataFrame\n",
    "import numpy as np\n",
    "import pandas as pd\n",
    "import geopandas\n",
    "from math import *\n",
    "from numpy.random import randint\n",
    "from shapely.geometry import LineString,Point\n",
    "from t4gpd.commons.GeomLib import GeomLib\n",
    "from t4gpd.demos.GeoDataFrameDemos import GeoDataFrameDemos\n",
    "from t4gpd.morph.geoProcesses.FootprintExtruder import FootprintExtruder\n",
    "from t4gpd.morph.geoProcesses.STGeoProcess import STGeoProcess\n",
    "from t4gpd.morph.STPointsDensifier2 import STPointsDensifier2\n",
    "from t4gpd.pyvista.ToUnstructuredGrid import ToUnstructuredGrid\n",
    "import random"
   ]
  },
  {
   "cell_type": "code",
   "execution_count": 2,
   "id": "f797dfde",
   "metadata": {},
   "outputs": [],
   "source": [
    "#gdf = GeoDataFrameDemos.districtRoyaleInNantesBuildings()\n",
    "gdf = CirReader(\"C:/Users/zcui/Desktop/programming/Re_ Rnion bilan GLO dans le SIG/scene_masque.cir\").run()"
   ]
  },
  {
   "cell_type": "code",
   "execution_count": 3,
   "id": "864ed62a",
   "metadata": {},
   "outputs": [],
   "source": [
    "def module(vector):\n",
    "    return np.sqrt(np.dot(np.array(vector),np.array(vector)))"
   ]
  },
  {
   "cell_type": "code",
   "execution_count": 4,
   "id": "56bd82e4",
   "metadata": {},
   "outputs": [],
   "source": [
    "def cmp(a,b,c=1e-10):\n",
    "    return abs(a-b)<c"
   ]
  },
  {
   "cell_type": "code",
   "execution_count": 5,
   "id": "47f45f37",
   "metadata": {},
   "outputs": [],
   "source": [
    "def OnSurface(self,point):\n",
    "    ang = 0\n",
    "    p = np.array(point)\n",
    "    coord = self.exterior.coords\n",
    "    for i in range(len(coord)-1):\n",
    "        vec1 = np.array(coord[i]) - p\n",
    "        vec2 = np.array(coord[i+1])-p\n",
    "        m1 = module(vec1)\n",
    "        m2 = module(vec2)\n",
    "        if cmp(m1*m2,0):\n",
    "            return True\n",
    "        else:\n",
    "            cost = np.dot(vec1,vec2)/(m1*m2)\n",
    "        ang = ang +np.arccos(cost)\n",
    "    return cmp(ang,2*np.pi)"
   ]
  },
  {
   "cell_type": "code",
   "execution_count": 6,
   "id": "b786b115",
   "metadata": {},
   "outputs": [],
   "source": [
    "def cosVectorAngle(vector1,vector2):#calculate the angle between two vectors\n",
    "    unit_vector1 = vector1/np.linalg.norm(vector1)\n",
    "    unit_vector2 = vector2/np.linalg.norm(vector2)\n",
    "    dot_vector = np.dot(unit_vector1,unit_vector2)\n",
    "    return dot_vector"
   ]
  },
  {
   "cell_type": "code",
   "execution_count": 7,
   "id": "474f1eba",
   "metadata": {},
   "outputs": [],
   "source": [
    "def SunbeamVector(altitude_angle,azimuth_angle):#get the sunbeam vector depending on the altitude and azimuth angle\n",
    "    vector_sun_x = sin(azimuth_angle)*cos(altitude_angle)\n",
    "    vector_sun_y = cos(azimuth_angle)*cos(altitude_angle)\n",
    "    vector_sun_z = sin(altitude_angle)\n",
    "    vector_sun = np.array([vector_sun_x,vector_sun_y,vector_sun_z])\n",
    "    return vector_sun"
   ]
  },
  {
   "cell_type": "code",
   "execution_count": 58,
   "id": "80abd8f0",
   "metadata": {},
   "outputs": [],
   "source": [
    "def SurfaceNormal(self): #input is the buildingsIn3d.geometry[i],than choose the polygon of one facet\n",
    "    coord = self.exterior.coords\n",
    "    facet_p0=np.array(coord[0])\n",
    "    facet_p1=np.array(coord[1])\n",
    "    facet_p2=np.array(coord[2])\n",
    "    vec1 = facet_p1 - facet_p0\n",
    "    vec2 = facet_p2 - facet_p1\n",
    "    a = vec1[1]*vec2[2]-vec1[2]*vec2[1]\n",
    "    b = vec1[2]*vec2[0]-vec1[0]*vec2[2]\n",
    "    c = vec1[0]*vec2[1]-vec1[1]*vec2[0]\n",
    "    normal = np.array([a,b,c])\n",
    "    mod = module(normal)\n",
    "    n  = normal/mod\n",
    "    return n"
   ]
  },
  {
   "cell_type": "code",
   "execution_count": 59,
   "id": "281b8798",
   "metadata": {},
   "outputs": [],
   "source": [
    "def Sunlit(sunbeam,point,buildings):\n",
    "    sun = sunbeam*100+point\n",
    "    for j in range(len(buildings)):\n",
    "        surface = buildings.geometry[j]\n",
    "        sunline = LineString([(sun[0],sun[1]),(point1[0],point1[1])])\n",
    "        p = Point(point)\n",
    "        if p.intersects(surface):\n",
    "            for i in range(2,len(surface)):\n",
    "                n = SurfaceNormal(surface[i])\n",
    "                con0 = np.dot(sunbeam,n)\n",
    "                if Point(point).intersects(surface[i]):\n",
    "                    if con0<0:\n",
    "                        return False\n",
    "                    else:\n",
    "                        continue\n",
    "        elif sunline.intersects(surface):\n",
    "            for i in range(2,len(surface)):\n",
    "                n = SurfaceNormal(surface[i])\n",
    "                coords = surface[i].exterior.coords\n",
    "                vec = np.array(coords[1])-point\n",
    "                con1 = np.dot(sunbeam,n)\n",
    "                con2 = np.dot(vec,n)\n",
    "                ratio = con2/con1\n",
    "                high_point = coords[2]\n",
    "                if con1>0:\n",
    "                    continue\n",
    "                else:\n",
    "                    in_point = point+ratio*sunbeam\n",
    "                    if OnSurface(surface[i],Point(in_point)):\n",
    "                        return False\n",
    "                    else:\n",
    "                        continue\n",
    "        else:\n",
    "            continue\n",
    "    return True          "
   ]
  },
  {
   "cell_type": "code",
   "execution_count": 67,
   "id": "6456bcd2",
   "metadata": {},
   "outputs": [],
   "source": [
    "basemap_x=[]\n",
    "basemap_y=[]\n",
    "basemap_z=[]\n",
    "sidewall_x=[]\n",
    "sidewall_y=[]\n",
    "sidewall_z=[]\n",
    "for i in range(len(gdf)):\n",
    "    f = gdf.geometry[i]\n",
    "    fig = Polygon(f)\n",
    "    x, y, z=zip(*fig.exterior.coords)\n",
    "\n",
    "    if np.std(z)==0:\n",
    "        basemap_x.append(x)\n",
    "        basemap_y.append(y)\n",
    "        basemap_z.append(z)\n",
    "    else:\n",
    "        sidewall_x.append(x)\n",
    "        sidewall_y.append(y)\n",
    "        sidewall_z.append(z)"
   ]
  },
  {
   "cell_type": "code",
   "execution_count": 12,
   "id": "22ae30c8",
   "metadata": {},
   "outputs": [],
   "source": [
    "elevation = []\n",
    "for i in range(len(basemap_z)):\n",
    "    elevation.append(np.mean(basemap_z[i]))\n",
    "df = GeoDataFrame({'HAUTEUR':elevation},crs='epsg:2154')\n",
    "df['gid'] = df.index+1"
   ]
  },
  {
   "cell_type": "code",
   "execution_count": 13,
   "id": "8e25ebe4",
   "metadata": {},
   "outputs": [],
   "source": [
    "#lable\n",
    "lable = []\n",
    "for i in range(len(df)):\n",
    "    if df.HAUTEUR[i]==0:\n",
    "        lable.append(\"Ground\")\n",
    "    else:\n",
    "        lable.append(\"Building\")\n",
    "df['Lable'] = lable"
   ]
  },
  {
   "cell_type": "code",
   "execution_count": 14,
   "id": "45805cd9",
   "metadata": {},
   "outputs": [],
   "source": [
    "#geometry\n",
    "geometry =[]\n",
    "for i in range(len(df)):\n",
    "    p = Polygon(list(zip(basemap_x[i],basemap_y[i],basemap_z[i])))\n",
    "    p2 = Polygon(list(zip(basemap_x[i],basemap_y[i])))\n",
    "    geometry.append(p)\n",
    "df['geometry'] = geometry\n",
    "\n",
    "_difference = df.geometry[0]#create ground with holes\n",
    "for i in range(1,len(df)):\n",
    "    _difference = _difference.difference(df.geometry[i])\n",
    "df.at[0,'geometry']=_difference"
   ]
  },
  {
   "cell_type": "code",
   "execution_count": 15,
   "id": "9ef34b4e",
   "metadata": {},
   "outputs": [],
   "source": [
    "#floor\n",
    "floor = []\n",
    "for i in range(len(df)):\n",
    "    n=0\n",
    "    if df.Lable[i] == 'Ground':\n",
    "        floor.append(0)\n",
    "    else:\n",
    "        for j in range(len(sidewall_x)):\n",
    "            q = Polygon(list(zip(sidewall_x[j],sidewall_y[j])))\n",
    "            if df.geometry[i].contains(q):\n",
    "                n = n+1\n",
    "        nmb = len(basemap_x[i])-1\n",
    "        floor.append(n/nmb)\n",
    "df['floor'] = floor"
   ]
  },
  {
   "cell_type": "code",
   "execution_count": 16,
   "id": "c7aab386",
   "metadata": {},
   "outputs": [],
   "source": [
    "from t4gpd.morph.geoProcesses.STGeoProcess import STGeoProcess\n",
    "from t4gpd.morph.geoProcesses.SkyViewFactor import SkyViewFactor\n",
    "from t4gpd.morph.STPointsDensifier2 import STPointsDensifier2"
   ]
  },
  {
   "cell_type": "code",
   "execution_count": 17,
   "id": "cd9d1cb1",
   "metadata": {},
   "outputs": [],
   "source": [
    "#sensors on the buildings\n",
    "df2 = GeoDataFrame.copy(df)\n",
    "df2.geometry = df.geometry.translate(355000,6689000)#I transfer the coordinate myself with constant value\n",
    "\n",
    "df_buildings = GeoDataFrame.copy(df2)#Here I create a copy value of df for puting sensors\n",
    "df_buildings.index -= 1\n",
    "df_buildings.drop(df_buildings.index[df_buildings['Lable'] == 'Ground'], inplace = True)\n",
    "sensors = STPointsDensifier2(df_buildings, curvAbsc=[0.25,0.5,0.75], pathidFieldname=None).run()\n",
    "sensors.floor = sensors.floor.astype(int)"
   ]
  },
  {
   "cell_type": "code",
   "execution_count": 18,
   "id": "6a514aef",
   "metadata": {},
   "outputs": [],
   "source": [
    "#create sensors in each floor level, input value 'sensors',output value 'sensors2'\n",
    "from t4gpd.commons.GeomLib import GeomLib\\\n",
    "\n",
    "rows = []\n",
    "for _,row in sensors.iterrows():\n",
    "    for nfloor in range(row.floor):\n",
    "        _row = row.copy()\n",
    "        _row_z = nfloor*3.0+1.5\n",
    "        _row.HAUTEUR = _row_z\n",
    "        _row.floor = nfloor\n",
    "        _row.geometry = GeomLib.forceZCoordinateToZ0(_row.geometry,_row_z)\n",
    "        rows.append(_row)\n",
    "sensors2 = GeoDataFrame(rows,crs=sensors.crs)\n",
    "sensors2.reset_index(inplace=True,drop=True)"
   ]
  },
  {
   "cell_type": "code",
   "execution_count": 66,
   "id": "ffcea91f",
   "metadata": {},
   "outputs": [
    {
     "data": {
      "image/png": "[encoded data removed]",
      "text/plain": [
       "<Figure size 892.08x654.192 with 1 Axes>"
      ]
     },
     "metadata": {
      "needs_background": "light"
     },
     "output_type": "display_data"
    }
   ],
   "source": [
    "#plot top view(basemap with sensors)\n",
    "fig, basemap = plt.subplots(figsize=(1.5 * 8.26, 1.1 * 8.26))\n",
    "basemap.set_title(f'{len(sensors2)} sensors', size=26)\n",
    "df2.plot(ax=basemap, color='lightgrey', edgecolor='dimgrey', linewidth=0.5)\n",
    "sensors2.plot(ax=basemap, color='black')\n",
    "basemap.axis('off')\n",
    "df2.apply(lambda x: basemap.annotate(\n",
    "\t\t\ttext=x.gid, xy=x.geometry.centroid.coords[0],\n",
    "\t\t\t#~ text=x.HAUTEUR, xy=x.geometry.centroid.coords[0],\n",
    "\t\t\tcolor='red', size=9, ha='center'), axis=1)\n",
    "plt.show()"
   ]
  },
  {
   "cell_type": "code",
   "execution_count": 20,
   "id": "a36da84c",
   "metadata": {},
   "outputs": [],
   "source": [
    "#direct and diffuse irradiance of each sensor(using Perez method)\n",
    "from t4gpd.energy.Perez import Perez\n",
    "from pysolar.solar import *\n",
    "from datetime import *\n",
    "from t4gpd.commons.AngleLib import AngleLib\n",
    "from t4gpd.commons.DatetimeLib import DatetimeLib"
   ]
  },
  {
   "cell_type": "code",
   "execution_count": 21,
   "id": "3c267f2c",
   "metadata": {},
   "outputs": [
    {
     "name": "stdout",
     "output_type": "stream",
     "text": [
      "SVF calculation method: Bernard et al. (2018), nRays = 64, maxRayLen = 100.0\n"
     ]
    }
   ],
   "source": [
    "#svf calculation\n",
    "from t4gpd.morph.geoProcesses.SkyViewFactor import SkyViewFactor\n",
    "\n",
    "op2 = SkyViewFactor(df_buildings,nRays=64,maxRayLen=100,\n",
    "                  elevationFieldname= 'HAUTEUR',method=2018,background=True)\n",
    "sensors2 = STGeoProcess(op2,sensors2).run()"
   ]
  },
  {
   "cell_type": "code",
   "execution_count": 22,
   "id": "0a6765c2",
   "metadata": {
    "scrolled": true
   },
   "outputs": [],
   "source": [
    "#plot sensors and buildings\n",
    "buildings = df_buildings\n",
    "\n",
    "roads = GeoDataFrame([\n",
    "    {'gid': 1, 'geometry': LineString([[-30, -10], [30, -10]])},\n",
    "    {'gid': 2, 'geometry': LineString([[-30, 10], [30, 10]])},\n",
    "    {'gid': 3, 'geometry': LineString([[-20, -20], [-20, 20]])},\n",
    "    {'gid': 4, 'geometry': LineString([[0, -20], [0, 20]])},\n",
    "    {'gid': 5, 'geometry': LineString([[20, -20], [20, 20]])}\n",
    "    ])\n",
    "\n",
    "op = FootprintExtruder(buildings, 'HAUTEUR', forceZCoordToZero=True)\n",
    "buildingsIn3d = STGeoProcess(op, buildings).run()\n",
    "\n",
    "scene1 = ToUnstructuredGrid([buildingsIn3d,sensors2], 'svf').run()"
   ]
  },
  {
   "cell_type": "code",
   "execution_count": 23,
   "id": "9255e4da",
   "metadata": {},
   "outputs": [
    {
     "data": {
      "application/vnd.jupyter.widget-view+json": {
       "model_id": "3b711b60d3124c02ab47783a7e5e7583",
       "version_major": 2,
       "version_minor": 0
      },
      "text/plain": [
       "ViewInteractiveWidget(height=768, layout=Layout(height='auto', width='100%'), width=1024)"
      ]
     },
     "metadata": {},
     "output_type": "display_data"
    }
   ],
   "source": [
    "scene1.plot(scalars='svf', cmap='gist_earth', show_edges=False,\n",
    "\tshow_scalar_bar=True, point_size=10.0, render_points_as_spheres=True)\n",
    "#scene2.plot(scalars='floor', cmap='gist_earth', show_edges=False,\n",
    "#\tshow_scalar_bar=True, point_size=5.0, render_points_as_spheres=True)"
   ]
  },
  {
   "cell_type": "code",
   "execution_count": 24,
   "id": "6948916e",
   "metadata": {},
   "outputs": [],
   "source": [
    "##### value sun_hits means during the period how many times sun hit shine on the sensors\n",
    "d =[]\n",
    "latitude = 47.16\n",
    "longitude = -1.60\n",
    "date = datetime(2020,6,21,8,10,tzinfo=timezone.utc)\n",
    "altitude_angle = AngleLib.toRadians(get_altitude(latitude,longitude,date))\n",
    "azimuth_angle = AngleLib.toRadians(get_azimuth(latitude,longitude,date))\n",
    "sunbeam = SunbeamVector(altitude_angle,azimuth_angle)\n",
    "for i in range(len(sensors2)):\n",
    "    point1 = np.array([sensors2.geometry[i].x,sensors2.geometry[i].y,sensors2.geometry[i].z])\n",
    "    ext = Sunlit(sunbeam,point1,buildingsIn3d)\n",
    "    d.append(ext)\n",
    "sensors2['Sunhit'] = d"
   ]
  },
  {
   "cell_type": "code",
   "execution_count": 25,
   "id": "5d4bda95",
   "metadata": {},
   "outputs": [],
   "source": [
    "sun_line = []\n",
    "for i in range(len(sensors2)):\n",
    "    if sensors2.Sunhit[i]==True:\n",
    "        sun_p = sensors2.geometry[i]\n",
    "        sun_p1 = Point(sun_p.x+sunbeam[0]*25,sun_p.y+sunbeam[1]*25,sun_p.z+sunbeam[2]*25)\n",
    "        sun = LineString([sun_p,sun_p1])\n",
    "        sun_line.append(sun)\n",
    "Sunline = GeoDataFrame({'geometry':sun_line},crs='epsg:2154')"
   ]
  },
  {
   "cell_type": "code",
   "execution_count": 26,
   "id": "e457c393",
   "metadata": {},
   "outputs": [
    {
     "data": {
      "application/vnd.jupyter.widget-view+json": {
       "model_id": "62c1e6d70fe34ffbbf0d8f1ef36c0cbb",
       "version_major": 2,
       "version_minor": 0
      },
      "text/plain": [
       "ViewInteractiveWidget(height=768, layout=Layout(height='auto', width='100%'), width=1024)"
      ]
     },
     "metadata": {},
     "output_type": "display_data"
    }
   ],
   "source": [
    "scene4 = ToUnstructuredGrid([buildingsIn3d,sensors2,Sunline], 'Sunhit').run()\n",
    "scene4.plot(scalars='Sunhit', cmap='gist_earth', show_edges=False,\n",
    "\tshow_scalar_bar=True, point_size=10.0, render_points_as_spheres=True)"
   ]
  },
  {
   "cell_type": "code",
   "execution_count": 68,
   "id": "e8730808",
   "metadata": {},
   "outputs": [],
   "source": [
    "#save surface normal vector\n",
    "n=[]\n",
    "for i in range(len(sensors2)):\n",
    "    #point2 = np.array([sensors2.geometry[i].x,sensors2.geometry[i].y,sensors2.geometry[i].z])\n",
    "    point2 = sensors2.geometry[i]\n",
    "    for j in range(len(buildingsIn3d)):\n",
    "        surface = buildingsIn3d.geometry[j]\n",
    "        if point2.intersects(surface):\n",
    "            for z in range(2,len(surface)):\n",
    "                if point2.intersects(surface[z]):\n",
    "                    normal = SurfaceNormal(surface[z])\n",
    "                    n.append(normal)\n",
    "sensors2['normalvector'] = n"
   ]
  },
  {
   "cell_type": "code",
   "execution_count": 28,
   "id": "a14e5d30",
   "metadata": {},
   "outputs": [],
   "source": [
    "from t4gpd.energy.Perez import Perez\n",
    "days = date.timetuple().tm_yday\n",
    "delta = 0.12 #sky's brightness (Perez et al.,1993)\n",
    "epsilon = 6.3 #sky's clearness (Perez et al.,1993)\n",
    "Dir = Perez.directSolarIrradiance(altitude_angle,days,delta,epsilon)\n",
    "Dif = Perez.diffuseSolarIrradiance(altitude_angle,days,delta)"
   ]
  },
  {
   "cell_type": "code",
   "execution_count": 31,
   "id": "ed6bf827",
   "metadata": {},
   "outputs": [],
   "source": [
    "#g_ir = sensors3.direct+diffuse#global horizontal radiation\n",
    "from math import*\n",
    "Sho = []\n",
    "for i in range(len(sensors2)):\n",
    "    if sensors2.Sunhit[i]==True:\n",
    "        G = Dir*abs(cosVectorAngle(sunbeam,sensors2.normalvector[i]))+Dif*sensors2.svf[i]\n",
    "    else:\n",
    "        G = Dif*sensors2.svf[i]\n",
    "    Sho.append(G)\n",
    "sensors2['SWRadiation']=Sho"
   ]
  },
  {
   "cell_type": "code",
   "execution_count": 32,
   "id": "8f069068",
   "metadata": {},
   "outputs": [
    {
     "data": {
      "application/vnd.jupyter.widget-view+json": {
       "model_id": "56d12fa08c754a768f85857766797aef",
       "version_major": 2,
       "version_minor": 0
      },
      "text/plain": [
       "ViewInteractiveWidget(height=768, layout=Layout(height='auto', width='100%'), width=1024)"
      ]
     },
     "metadata": {},
     "output_type": "display_data"
    }
   ],
   "source": [
    "scene5 = ToUnstructuredGrid([buildingsIn3d,sensors2], 'SWRadiation').run()\n",
    "scene5.plot(scalars='SWRadiation', cmap='gist_earth', show_edges=False,\n",
    "\tshow_scalar_bar=True, point_size=10.0, render_points_as_spheres=True)"
   ]
  },
  {
   "cell_type": "code",
   "execution_count": 33,
   "id": "f9c0b56d",
   "metadata": {},
   "outputs": [],
   "source": [
    "def RandomDir(n):#number of samples\n",
    "    vector = []\n",
    "    for i in range(n):\n",
    "        polar = random.random()*pi\n",
    "        azimuth = random.random()*pi\n",
    "        x = sin(polar)*cos(azimuth)\n",
    "        y = sin(polar)*sin(azimuth)\n",
    "        z = cos(polar)\n",
    "        vector.append(np.array([x,y,z]))\n",
    "    return vector"
   ]
  },
  {
   "cell_type": "code",
   "execution_count": 51,
   "id": "3cc276de",
   "metadata": {},
   "outputs": [],
   "source": [
    "def RayPoint(point,n,norm,length):\n",
    "    ray_line = []\n",
    "    vec = RandomDir(n)\n",
    "    for i in range(len(vec)):\n",
    "        vec1 = vec[i]\n",
    "        x2 = norm[0]*vec1[1]+norm[1]*vec1[0]\n",
    "        y2 = norm[1]*vec1[1]-norm[0]*vec1[0]\n",
    "        z2 = vec1[2]\n",
    "        p2 = Point(point.x+x2*length,point.y+y2*length,point.z+z2*length)\n",
    "        line = LineString([point,p2])\n",
    "        ray_line.append(line)\n",
    "    line_geo = GeoDataFrame({'geometry':ray_line},crs='epsg:2154')\n",
    "    return line_geo"
   ]
  },
  {
   "cell_type": "code",
   "execution_count": 64,
   "id": "b1302ed9",
   "metadata": {},
   "outputs": [
    {
     "name": "stdout",
     "output_type": "stream",
     "text": [
      "                                              geometry\n",
      "0    LINESTRING Z (355070.000 6689005.000 19.500, 3...\n",
      "1    LINESTRING Z (355070.000 6689005.000 19.500, 3...\n",
      "2    LINESTRING Z (355070.000 6689005.000 19.500, 3...\n",
      "3    LINESTRING Z (355070.000 6689005.000 19.500, 3...\n",
      "4    LINESTRING Z (355070.000 6689005.000 19.500, 3...\n",
      "..                                                 ...\n",
      "995  LINESTRING Z (355070.000 6689005.000 19.500, 3...\n",
      "996  LINESTRING Z (355070.000 6689005.000 19.500, 3...\n",
      "997  LINESTRING Z (355070.000 6689005.000 19.500, 3...\n",
      "998  LINESTRING Z (355070.000 6689005.000 19.500, 3...\n",
      "999  LINESTRING Z (355070.000 6689005.000 19.500, 3...\n",
      "\n",
      "[1000 rows x 1 columns]\n"
     ]
    }
   ],
   "source": [
    "p_test = sensors2.geometry[500]\n",
    "normal_test = sensors2.normalvector[500]\n",
    "Line = RayPoint(p_test,1000,normal_test,5)\n",
    "print(Line)"
   ]
  },
  {
   "cell_type": "code",
   "execution_count": 65,
   "id": "12415fd1",
   "metadata": {},
   "outputs": [
    {
     "data": {
      "application/vnd.jupyter.widget-view+json": {
       "model_id": "0d721b23c65842ab8f3298e353a80b27",
       "version_major": 2,
       "version_minor": 0
      },
      "text/plain": [
       "ViewInteractiveWidget(height=768, layout=Layout(height='auto', width='100%'), width=1024)"
      ]
     },
     "metadata": {},
     "output_type": "display_data"
    }
   ],
   "source": [
    "scene6 = ToUnstructuredGrid([buildingsIn3d,sensors2,Line]).run()\n",
    "scene6.plot()"
   ]
  },
  {
   "cell_type": "code",
   "execution_count": null,
   "id": "dc66c651",
   "metadata": {},
   "outputs": [],
   "source": []
  }
 ],
 "metadata": {
  "kernelspec": {
   "display_name": "Python 3 (ipykernel)",
   "language": "python",
   "name": "python3"
  },
  "language_info": {
   "codemirror_mode": {
    "name": "ipython",
    "version": 3
   },
   "file_extension": ".py",
   "mimetype": "text/x-python",
   "name": "python",
   "nbconvert_exporter": "python",
   "pygments_lexer": "ipython3",
   "version": "3.10.4"
  }
 },
 "nbformat": 4,
 "nbformat_minor": 5
}
