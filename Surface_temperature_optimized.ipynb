{
 "cells": [
  {
   "cell_type": "code",
   "execution_count": 1,
   "id": "53b3ebe2",
   "metadata": {},
   "outputs": [],
   "source": [
    "import matplotlib.pyplot as plt, pyvista\n",
    "import matplotlib.pyplot as plt\n",
    "from t4gpd.io.CirReader import CirReader\n",
    "from t4gpd.pyvista.ToUnstructuredGrid import ToUnstructuredGrid\n",
    "from geopandas import GeoDataFrame\n",
    "import numpy as np\n",
    "import pandas as pd\n",
    "import geopandas\n",
    "from math import *\n",
    "from numpy.random import randint\n",
    "from shapely.geometry import LineString,Point,Polygon\n",
    "from t4gpd.commons.GeomLib import GeomLib\n",
    "from t4gpd.demos.GeoDataFrameDemos import GeoDataFrameDemos\n",
    "from t4gpd.morph.geoProcesses.FootprintExtruder import FootprintExtruder\n",
    "from t4gpd.morph.geoProcesses.STGeoProcess import STGeoProcess\n",
    "from t4gpd.morph.STPointsDensifier2 import STPointsDensifier2\n",
    "from t4gpd.pyvista.ToUnstructuredGrid import ToUnstructuredGrid\n",
    "import random\n",
    "from shapely.ops import unary_union\n",
    "from t4gpd.commons.RayCasting3Lib import RayCasting3Lib\n",
    "from t4gpd.morph.STGrid import STGrid\n",
    "from t4gpd.morph.geoProcesses.SkyViewFactor import SkyViewFactor\n",
    "from t4gpd.morph.geoProcesses.STGeoProcess import STGeoProcess"
   ]
  },
  {
   "cell_type": "markdown",
   "id": "3157fb17",
   "metadata": {},
   "source": [
    "# Basic Function"
   ]
  },
  {
   "cell_type": "code",
   "execution_count": 2,
   "id": "72243bdc",
   "metadata": {},
   "outputs": [],
   "source": [
    "def distance3d(point1,point2):\n",
    "    d = sqrt((point1.x-point2.x)**2 + (point1.y-point2.y)**2 + (point1.z-point2.z)**2)\n",
    "    return d"
   ]
  },
  {
   "cell_type": "code",
   "execution_count": 3,
   "id": "c1cec90f",
   "metadata": {},
   "outputs": [],
   "source": [
    "def centroid(self): #rectangle centroid\n",
    "    coord = self.exterior.coords\n",
    "    face_p0=np.array(coord[0])\n",
    "    face_p2=np.array(coord[2])\n",
    "    face_ce=(face_p0+face_p2)/2\n",
    "    return Point(face_ce)"
   ]
  },
  {
   "cell_type": "code",
   "execution_count": 4,
   "id": "6a7460aa",
   "metadata": {},
   "outputs": [],
   "source": [
    "def GroundGridIn3d(grid_geo):\n",
    "    gridin3d = GeomLib.forceZCoordinateToZ0(grid_geo,z0=0)\n",
    "    return gridin3d"
   ]
  },
  {
   "cell_type": "code",
   "execution_count": 5,
   "id": "0d340ccc",
   "metadata": {},
   "outputs": [],
   "source": [
    "def SurfaceNormal(self): #input is the buildingsIn3d.geometry[i],than choose the polygon of one facet\n",
    "    coord = self.exterior.coords\n",
    "    facet_p0=np.array(coord[0])\n",
    "    facet_p1=np.array(coord[1])\n",
    "    facet_p2=np.array(coord[2])\n",
    "    vec1 = facet_p1 - facet_p0\n",
    "    vec2 = facet_p2 - facet_p1\n",
    "    a = vec1[1]*vec2[2]-vec1[2]*vec2[1]\n",
    "    b = vec1[2]*vec2[0]-vec1[0]*vec2[2]\n",
    "    c = vec1[0]*vec2[1]-vec1[1]*vec2[0]\n",
    "    normal = np.array([a,b,c])\n",
    "    mod = module(normal)\n",
    "    n  = normal/mod\n",
    "    return n"
   ]
  },
  {
   "cell_type": "code",
   "execution_count": 6,
   "id": "54d171e8",
   "metadata": {},
   "outputs": [],
   "source": [
    "def module(vector):\n",
    "    return np.sqrt(np.dot(np.array(vector),np.array(vector)))"
   ]
  },
  {
   "cell_type": "code",
   "execution_count": 7,
   "id": "8529a911",
   "metadata": {},
   "outputs": [],
   "source": [
    "def isa(face1,face2):#view factor from 1 to 2\n",
    "    n1=SurfaceNormal(face1.geometry)\n",
    "    n2=SurfaceNormal(face2.geometry)\n",
    "    a2=area3d(face2.geometry)\n",
    "    vec_R=np.array([face1.CentroidPoint.x-face2.CentroidPoint.x,face1.CentroidPoint.y-face2.CentroidPoint.y,face1.CentroidPoint.z-face2.CentroidPoint.z])\n",
    "    vf=-a2*np.dot(n1,vec_R)*np.dot(n2,vec_R)/(pi*module(vec_R)**4)\n",
    "    return vf"
   ]
  },
  {
   "cell_type": "code",
   "execution_count": 8,
   "id": "d3309cf5",
   "metadata": {},
   "outputs": [],
   "source": [
    "#grid surface3d into meshes of size n*m\n",
    "def grid3d(self,n,m):#n rows, m columns\n",
    "    coord = self.exterior.coords\n",
    "    p0=np.array(coord[0])\n",
    "    p1=np.array(coord[1])\n",
    "    p2=np.array(coord[2])\n",
    "    p3=np.array(coord[3])\n",
    "    vec1 = (p1-p0)/m\n",
    "    vec2 = (p2-p1)/n\n",
    "    poly=[]\n",
    "    cen_p=[]\n",
    "    sur_d=[]\n",
    "    for i in range(n):\n",
    "        for j in range(m):\n",
    "            p0_t=Point(p0+j*vec1+i*vec2)\n",
    "            p1_t=Point(p0+(j+1)*vec1+i*vec2)\n",
    "            p2_t=Point(p0+(j+1)*vec1+(i+1)*vec2)\n",
    "            p3_t=Point(p0+j*vec1+(i+1)*vec2)\n",
    "            face_t = Polygon([p0_t,p1_t,p2_t,p3_t,p0_t])\n",
    "            poly.append(face_t)\n",
    "            cen_p.append(centroid(face_t))\n",
    "            sur_d.append(Surface_diameter(face_t))\n",
    "    self_grid=GeoDataFrame({'geometry': poly},crs='epsg:2154')\n",
    "    self_grid['CentroidPoint']=cen_p\n",
    "    self_grid['diameter']=sur_d\n",
    "    return self_grid"
   ]
  },
  {
   "cell_type": "code",
   "execution_count": 9,
   "id": "55e6abee",
   "metadata": {},
   "outputs": [],
   "source": [
    "#Subdivide function\n",
    "def isFiveTimeRuleOk(f1,f2):\n",
    "    return distance3d(f1.CentroidPoint,f2.CentroidPoint) >= 5*f1.diameter\n",
    "\n",
    "def Subdivide(f1,f2): #f1 is the emitting surface, f2 is the target surface\n",
    "    if isFiveTimeRuleOk(f1,f2):\n",
    "        return [f1]\n",
    "    else:\n",
    "        result = []\n",
    "        f_grid = grid3d(f1.geometry,2,2)\n",
    "        for i in range(len(f_grid)):\n",
    "            if isFiveTimeRuleOk(f_grid.iloc[i],f2):\n",
    "                result.append(f_grid.iloc[i])\n",
    "            else:\n",
    "                result += Subdivide(f_grid.iloc[i],f2)\n",
    "        return result"
   ]
  },
  {
   "cell_type": "code",
   "execution_count": 10,
   "id": "493a2217",
   "metadata": {},
   "outputs": [],
   "source": [
    "#get area from 3d polygon\n",
    "def area3d(self):\n",
    "    coord = self.exterior.coords\n",
    "    d1 = distance3d(Point(coord[0]),Point(coord[1]))\n",
    "    d2 = distance3d(Point(coord[1]),Point(coord[2]))\n",
    "    return d1*d2"
   ]
  },
  {
   "cell_type": "code",
   "execution_count": 11,
   "id": "ded95b90",
   "metadata": {},
   "outputs": [],
   "source": [
    "def Surface_diameter(surface):\n",
    "    coord = surface.exterior.coords\n",
    "    d = distance3d(Point(coord[0]),Point(coord[2]))\n",
    "    return d"
   ]
  },
  {
   "cell_type": "markdown",
   "id": "7d6d4821",
   "metadata": {},
   "source": [
    "# Research Model"
   ]
  },
  {
   "cell_type": "code",
   "execution_count": 12,
   "id": "a8018534",
   "metadata": {},
   "outputs": [
    {
     "data": {
      "image/png": "[encoded data removed]",
      "text/plain": [
       "<Figure size 1040.76x713.664 with 1 Axes>"
      ]
     },
     "metadata": {
      "needs_background": "light"
     },
     "output_type": "display_data"
    }
   ],
   "source": [
    "#~ ======================================================================\n",
    "buildings = GeoDataFrameDemos.regularGridO#get area from 3d polygon\n",
    "hauteur = [20 for item in range(len(buildings))]\n",
    "buildings['HAUTEUR'] = hauteur\n",
    "\n",
    "dx = 2\n",
    "grid = STGrid(buildings, dx, dy=None, indoor=False, intoPoint=False, encode=False).run()\n",
    "grid.gid=grid.index\n",
    "\n",
    "fig, basemap = plt.subplots(figsize=(1.75 * 8.26, 1.2 * 8.26))\n",
    "buildings.plot(ax=basemap, color='black')\n",
    "grid.boundary.plot(ax=basemap, color='blue', linewidth=0.1)\n",
    "\n",
    "plt.show()\n",
    "plt.close(fig)"
   ]
  },
  {
   "cell_type": "markdown",
   "id": "433aae85",
   "metadata": {},
   "source": [
    "# 2.5D to 3D"
   ]
  },
  {
   "cell_type": "code",
   "execution_count": 13,
   "id": "eee0da95",
   "metadata": {},
   "outputs": [],
   "source": [
    "#transfer buildings and ground grid into 3d coordinates\n",
    "op = FootprintExtruder(buildings, 'HAUTEUR', forceZCoordToZero=True)\n",
    "buildingsIn3d = STGeoProcess(op, buildings).run()\n",
    "\n",
    "grid_geo = [GroundGridIn3d(item) for item in grid.geometry]\n",
    "GridIn3d = GeoDataFrame.copy(grid)\n",
    "GridIn3d.geometry=grid_geo\n",
    "\n",
    "sidewall=[]\n",
    "gid=[]\n",
    "fid=[]\n",
    "for i in range(len(buildings)):\n",
    "    base_face = GeomLib.forceZCoordinateToZ0(buildings.geometry[i],z0=0)\n",
    "    roof_face = GeomLib.forceZCoordinateToZ0(buildings.geometry[i],z0=buildings.HAUTEUR[i])\n",
    "    coordIn3d_base = base_face.exterior.coords\n",
    "    coordIn3d_roof = roof_face.exterior.coords\n",
    "    for j in range(4):\n",
    "        sidewall.append(Polygon([coordIn3d_base[j],coordIn3d_base[j+1],coordIn3d_roof[j+1],coordIn3d_roof[j],coordIn3d_base[j]]))\n",
    "        fid.append(int(j))\n",
    "        gid.append(buildings.gid[i])\n",
    "SidewallsIn3d = GeoDataFrame({'geometry':sidewall},crs='epsg:2154')\n",
    "SidewallsIn3d['gid']=gid\n",
    "SidewallsIn3d['fid']=fid"
   ]
  },
  {
   "cell_type": "code",
   "execution_count": 14,
   "id": "70367be5",
   "metadata": {},
   "outputs": [],
   "source": [
    "#save centroid points of each surface\n",
    "GridIn3d['CentroidPoint'] = [centroid(face_g) for face_g in GridIn3d.geometry]\n",
    "SidewallsIn3d['CentroidPoint'] = [centroid(face_s) for face_s in SidewallsIn3d.geometry]\n",
    "\n",
    "#get diameter of the surface\n",
    "SidewallsIn3d['diameter'] = [Surface_diameter(face_s) for face_s in SidewallsIn3d.geometry]\n",
    "GridIn3d['diameter'] = [Surface_diameter(face_g) for face_g in GridIn3d.geometry]\n",
    "\n",
    "#area of the surfaces\n",
    "SidewallsIn3d['area'] = [area3d(face_s) for face_s in SidewallsIn3d.geometry]\n",
    "GridIn3d['area'] = [area3d(face_g) for face_g in GridIn3d.geometry]\n",
    "\n",
    "GridIn3d = GridIn3d.drop(columns=['neighbors4','neighbors8','indoor'])\n",
    "GridIn3d['lable'] = ['ground' for face_g in GridIn3d.geometry]\n",
    "SidewallsIn3d['lable'] = ['wall' for face_s in SidewallsIn3d.geometry]\n",
    "\n",
    "GridIn3d['HeatCapacity']= [840 for i in GridIn3d.geometry]\n",
    "GridIn3d['MassPerUnitArea']= [2243 for i in GridIn3d.geometry]\n",
    "GridIn3d['Albedo']= [0.1 for i in GridIn3d.geometry]\n",
    "GridIn3d['Emissivity']= [0.5 for i in GridIn3d.geometry]\n",
    "\n",
    "SidewallsIn3d['HeatCapacity']= [880 for i in SidewallsIn3d.geometry]\n",
    "SidewallsIn3d['MassPerUnitArea']= [2400 for i in SidewallsIn3d.geometry]\n",
    "SidewallsIn3d['Albedo']= [0.6 for i in SidewallsIn3d.geometry]\n",
    "SidewallsIn3d['Emissivity']= [0.3 for i in SidewallsIn3d.geometry]\n",
    "\n",
    "GridIn3d['T0']= [3 for i in GridIn3d.geometry]\n",
    "SidewallsIn3d['T0']= [3 for i in SidewallsIn3d.geometry]"
   ]
  },
  {
   "cell_type": "code",
   "execution_count": 15,
   "id": "6547e298",
   "metadata": {},
   "outputs": [],
   "source": [
    "#select one wall as our study surface\n",
    "testwall0 = GeoDataFrame.copy(SidewallsIn3d.loc[(SidewallsIn3d.gid==0) & (SidewallsIn3d.fid==3)])\n",
    "testwall0 = testwall0.reset_index(drop=True)\n",
    "testwall1 = GeoDataFrame.copy(SidewallsIn3d.loc[(SidewallsIn3d.gid==1) & (SidewallsIn3d.fid==1)])\n",
    "testwall1 = testwall1.reset_index(drop=True)"
   ]
  },
  {
   "cell_type": "markdown",
   "id": "8f41cf17",
   "metadata": {},
   "source": [
    "# View Factor"
   ]
  },
  {
   "cell_type": "markdown",
   "id": "0a38dda0",
   "metadata": {},
   "source": [
    "View factor between sidewall and ground grid"
   ]
  },
  {
   "cell_type": "code",
   "execution_count": 16,
   "id": "9646bff9",
   "metadata": {},
   "outputs": [],
   "source": [
    "#Create DataFrame to save viewfactor\n",
    "namelist=[]\n",
    "for i in range(len(SidewallsIn3d)):\n",
    "    gid_name = SidewallsIn3d.loc[i,'gid']\n",
    "    fid_name = SidewallsIn3d.loc[i,'fid']\n",
    "    namelist.append(\"Sidewallsgid{gid_name}fid{fid_name}\".format(gid_name=gid_name,fid_name=fid_name))\n",
    "for j in range(len(GridIn3d)):\n",
    "    gid_name2 = GridIn3d.loc[j,'gid']\n",
    "    namelist.append(\"Gridgid{gid_name2}\".format(gid_name2=gid_name2))\n",
    "    \n",
    "ViewFactorFrame = pd.DataFrame(np.zeros((len(SidewallsIn3d)+len(GridIn3d),len(SidewallsIn3d)+len(GridIn3d))))\n",
    "ViewFactorFrame.columns = namelist\n",
    "ViewFactorFrame.index = namelist"
   ]
  },
  {
   "cell_type": "code",
   "execution_count": 17,
   "id": "b56aaac9",
   "metadata": {},
   "outputs": [],
   "source": [
    "#return the visible ground grid geodataframe\n",
    "def SelectGrid(self,grid,ran):\n",
    "    ptA = self.CentroidPoint\n",
    "    bound = ptA.buffer(ran)\n",
    "    cov_grid = []\n",
    "    cov_gid = []\n",
    "    cov_area = []\n",
    "    cov_cen = []\n",
    "    for i in range(len(grid)):\n",
    "        covisible, ray = RayCasting3Lib.areCovisibleIn3D(ptA, grid.CentroidPoint[i], buildings, 'HAUTEUR')\n",
    "        if covisible and grid.CentroidPoint[i].within(bound):\n",
    "            cov_grid.append(grid.geometry[i])\n",
    "            cov_gid.append(grid.gid[i])\n",
    "            cov_area.append(grid.area[i])\n",
    "            cov_cen.append(grid.CentroidPoint[i])\n",
    "    CovisibleGrid = GeoDataFrame({'geometry': cov_grid},crs='epsg:2154')\n",
    "    CovisibleGrid['CentroidPoint'] = cov_cen\n",
    "    CovisibleGrid['gid'] = cov_gid\n",
    "    CovisibleGrid['area'] = cov_area\n",
    "    return CovisibleGrid"
   ]
  },
  {
   "cell_type": "code",
   "execution_count": 18,
   "id": "a0e43cfc",
   "metadata": {},
   "outputs": [
    {
     "name": "stdout",
     "output_type": "stream",
     "text": [
      "CPU times: total: 2min 39s\n",
      "Wall time: 2min 39s\n"
     ]
    }
   ],
   "source": [
    "%%time\n",
    "#view factor between sidewalls and ground\n",
    "for i in range(len(SidewallsIn3d)):\n",
    "    face = SidewallsIn3d.iloc[i]\n",
    "    \n",
    "    #find Covisible ground surface\n",
    "    CovisibleGrid = SelectGrid(face,GridIn3d,40)\n",
    "    \n",
    "    #calculate view factor\n",
    "    for j in range(len(CovisibleGrid)):\n",
    "        face_grid = CovisibleGrid.iloc[j]\n",
    "        list_sub = Subdivide(face,face_grid)\n",
    "        testgeo = GeoDataFrame(list_sub)\n",
    "        area = [area3d(item) for item in testgeo.geometry]\n",
    "        testgeo['area']=area\n",
    "        vf_isa = [abs(isa(tg,face_grid)*tg.area/face.area) for tg in testgeo.iloc]\n",
    "        ViewFactorFrame.loc['Sidewallsgid{a}fid{b}'.format(a=face.gid,b=face.fid),'Gridgid{c}'.format(c=face_grid.gid)]=sum(vf_isa)\n",
    "        ViewFactorFrame.loc['Gridgid{c}'.format(c=face_grid.gid),'Sidewallsgid{a}fid{b}'.format(a=face.gid,b=face.fid)]=sum(vf_isa)*face.area/face_grid.area"
   ]
  },
  {
   "cell_type": "markdown",
   "id": "052833be",
   "metadata": {},
   "source": [
    "view factor between sidewalls"
   ]
  },
  {
   "cell_type": "code",
   "execution_count": 19,
   "id": "c801f485",
   "metadata": {},
   "outputs": [],
   "source": [
    "#Subdivide function 2\n",
    "def Subdivide2(f1,f2): #f1 is the emitting surface, f2 is the target surface\n",
    "    if isFiveTimeRuleOk(f1,f2):\n",
    "        return [f1]\n",
    "    else:\n",
    "        d = distance3d(f1.CentroidPoint,f2.CentroidPoint)/5\n",
    "        coord1 = f1.geometry.exterior.coords\n",
    "        w1 = distance3d(Point(coord1[0]),Point(coord1[1]))\n",
    "        h1 = distance3d(Point(coord1[1]),Point(coord1[2]))\n",
    "        \n",
    "        n1 = int(h1/d)+1\n",
    "        m1 = int(w1/d)+1\n",
    "        \n",
    "        return grid3d(f1.geometry,n1,m1)"
   ]
  },
  {
   "cell_type": "code",
   "execution_count": 20,
   "id": "d87a6809",
   "metadata": {},
   "outputs": [],
   "source": [
    "#problem: I have to test every point of the surface since maybe some parts of the surface are facing, some are not\n",
    "def FaceSurface(sensor,surface):\n",
    "    n1 = SurfaceNormal(surface)\n",
    "    n2 = sensor.normalvector\n",
    "    coords = surface.exterior.coords\n",
    "    point = np.array(sensor.geometry)\n",
    "    for j in range(1,len(coords)):\n",
    "        vec = np.array(coords[j])-point\n",
    "        con1 = vec.dot(n1)#/(module(vec)*module(n2))\n",
    "        con2 = vec.dot(n2)\n",
    "        if con2>0 and con1<0:\n",
    "            return True\n",
    "        else:\n",
    "            continue\n",
    "    return False"
   ]
  },
  {
   "cell_type": "code",
   "execution_count": 21,
   "id": "a3ae8033",
   "metadata": {},
   "outputs": [
    {
     "name": "stdout",
     "output_type": "stream",
     "text": [
      "CPU times: total: 891 ms\n",
      "Wall time: 894 ms\n"
     ]
    }
   ],
   "source": [
    "%%time\n",
    "#view factor between sidewalls\n",
    "d = GeoDataFrame(Subdivide2(testwall0.iloc[0],testwall1.iloc[0]))\n",
    "c = GeoDataFrame(Subdivide2(testwall1.iloc[0],testwall0.iloc[0]))\n",
    "vftest = 0\n",
    "for i in range(len(d)):\n",
    "    face_0 = d.iloc[i]\n",
    "    vf2_isa = [isa(face_0,face_1) for face_1 in c.iloc]\n",
    "    vftest = vftest + sum(vf2_isa)/len(d)\n",
    "\n",
    "ViewFactorFrame.loc['Sidewallsgid{a}fid{b}'.format(a=0,b=3),'Sidewallsgid{c}fid{d}'.format(c=1,d=1)]=vftest\n",
    "ViewFactorFrame.loc['Sidewallsgid{a}fid{b}'.format(a=1,b=1),'Sidewallsgid{c}fid{d}'.format(c=0,d=3)]=vftest"
   ]
  },
  {
   "cell_type": "markdown",
   "id": "93aa3849",
   "metadata": {},
   "source": [
    "# Shortwave Radiation"
   ]
  },
  {
   "cell_type": "code",
   "execution_count": 22,
   "id": "c8be3c17",
   "metadata": {},
   "outputs": [],
   "source": [
    "#direct and diffuse irradiance of each sensor(using Perez method)\n",
    "from t4gpd.energy.Perez import Perez\n",
    "from pysolar.solar import *\n",
    "from datetime import *\n",
    "from t4gpd.commons.AngleLib import AngleLib\n",
    "from t4gpd.commons.DatetimeLib import DatetimeLib"
   ]
  },
  {
   "cell_type": "code",
   "execution_count": 23,
   "id": "eb932552",
   "metadata": {},
   "outputs": [],
   "source": [
    "def SunbeamVector(altitude_angle,azimuth_angle):#get the sunbeam vector depending on the altitude and azimuth angle\n",
    "    vector_sun_x = sin(azimuth_angle)*cos(altitude_angle)\n",
    "    vector_sun_y = cos(azimuth_angle)*cos(altitude_angle)\n",
    "    vector_sun_z = sin(altitude_angle)\n",
    "    vector_sun = np.array([vector_sun_x,vector_sun_y,vector_sun_z])\n",
    "    return vector_sun"
   ]
  },
  {
   "cell_type": "code",
   "execution_count": 24,
   "id": "efc19c06",
   "metadata": {},
   "outputs": [],
   "source": [
    "#create sensors depends on nm\n",
    "def STEvenPoints(face,n,m): #row=n, column=m\n",
    "    p = face.exterior.coords\n",
    "    vec1 = np.array(p[2])-np.array(p[1])\n",
    "    vec2 = np.array(p[1])-np.array(p[0])\n",
    "    L1 = vec1/n\n",
    "    L2 = vec2/m\n",
    "    s = []\n",
    "    normal = []\n",
    "    for i in range(1,n+1):\n",
    "        for j in range(1,m+1):\n",
    "            point_1 = np.array(p[0])+L2*(j-1)+L1*(i-1)\n",
    "            point_2 = np.array(p[0])+L2*j+L1*i\n",
    "            point_c = Point((point_1+point_2)/2)\n",
    "            s.append(point_c)\n",
    "            normal.append(SurfaceNormal(face))\n",
    "    p_geodata = GeoDataFrame({'geometry':s},crs='epsg:2154')\n",
    "    p_geodata['NormalVector'] = normal\n",
    "    return p_geodata"
   ]
  },
  {
   "cell_type": "code",
   "execution_count": 25,
   "id": "4dd810c4",
   "metadata": {},
   "outputs": [],
   "source": [
    "#if it is under sunlit or not\n",
    "def Sunlit2(sunbeam,point,buildings,normal):\n",
    "    if np.dot(sunbeam,normal)<0:\n",
    "        return False\n",
    "    else:\n",
    "        p = np.array([point.x,point.y,point.z])\n",
    "        sun = sunbeam*100+p\n",
    "        covisible, ray = RayCasting3Lib.areCovisibleIn3D(point, Point(sun), buildings, 'HAUTEUR')\n",
    "        return covisible"
   ]
  },
  {
   "cell_type": "code",
   "execution_count": 26,
   "id": "8821b68e",
   "metadata": {},
   "outputs": [],
   "source": [
    "def cosVectorAngle(vector1,vector2):#calculate the angle between two vectors\n",
    "    unit_vector1 = vector1/np.linalg.norm(vector1)\n",
    "    unit_vector2 = vector2/np.linalg.norm(vector2)\n",
    "    dot_vector = np.dot(unit_vector1,unit_vector2)\n",
    "    return dot_vector"
   ]
  },
  {
   "cell_type": "markdown",
   "id": "daf0745f",
   "metadata": {},
   "source": [
    "# Longwave Radiation"
   ]
  },
  {
   "cell_type": "code",
   "execution_count": 28,
   "id": "a8a63807",
   "metadata": {},
   "outputs": [],
   "source": [
    "#rh is the relativve humidity(%),ta is the air temperature\n",
    "def VaporPressure(ta,rh):\n",
    "    vp = rh*6.1121*exp((18.678-ta/234.4)*ta/(257.14+ta))\n",
    "    return vp"
   ]
  },
  {
   "cell_type": "code",
   "execution_count": 29,
   "id": "8121adfa",
   "metadata": {},
   "outputs": [],
   "source": [
    "#Atmosphere longwave radiation,we set N(degree of cloudiness)=8,all air temperature unite is ℃,rh is the relativve humidity(%),\n",
    "def AtmoLongRadiation(ta,N,rh):\n",
    "    p = VaporPressure(ta,rh)\n",
    "    #ta is the air temperature; N is the degree of cloudiness; p is the vapor pressure(hPa)\n",
    "    con = 5.67e-8#Stefan-Boltzmann constant\n",
    "    LR = con*(ta+273.15)**4*(0.82-0.25*10**(-0.0945*p))*(1+0.21*(N/8)**2.5)\n",
    "    return LR"
   ]
  },
  {
   "cell_type": "code",
   "execution_count": 30,
   "id": "49093405",
   "metadata": {},
   "outputs": [],
   "source": [
    "#get mean sky view factor for surface\n",
    "def svf(surface,n,m,buildings):\n",
    "    sensors = STEvenPoints(surface.geometry.iloc[0],n,m)\n",
    "    op = SkyViewFactor(buildings,nRays=64,maxRayLen=100,elevationFieldname='HAUTEUR',method=2018,background=True)\n",
    "    sensors = STGeoProcess(op,sensors).run()\n",
    "    svf = np.mean(sensors.svf)\n",
    "    return svf"
   ]
  },
  {
   "cell_type": "code",
   "execution_count": 31,
   "id": "f26dd4bd",
   "metadata": {},
   "outputs": [],
   "source": [
    "def AbsRadiation(surface,n,m,latitude,longitude,date,buildings,delta,epsilon,ta,N,rh):\n",
    "    con = 5.67e-8\n",
    "    sensors = STEvenPoints(surface.geometry.iloc[0],n,m)\n",
    "    altitude_angle = AngleLib.toRadians(get_altitude(latitude,longitude,date))\n",
    "    azimuth_angle = AngleLib.toRadians(get_azimuth(latitude,longitude,date))\n",
    "    sunbeam = SunbeamVector(altitude_angle,azimuth_angle)\n",
    "    sunhit = [Sunlit2(sunbeam,sensors.geometry[i],buildings,sensors.NormalVector[i]) for i in range(len(sensors))]\n",
    "    sensors['Sunhit'] = sunhit\n",
    "    \n",
    "    days = date.timetuple().tm_yday\n",
    "    Dir = Perez.directSolarIrradiance(altitude_angle,days,delta,epsilon)\n",
    "    Dif = Perez.diffuseSolarIrradiance(altitude_angle,days,delta)\n",
    "    Atm = AtmoLongRadiation(ta,N,rh)\n",
    "    \n",
    "    #direct solar radiation\n",
    "    Dir1=[]\n",
    "    area_surface = area3d(surface.geometry.iloc[0])\n",
    "    area_grid = area_surface/(n*m)\n",
    "    for i in range(len(sensors)):\n",
    "        if sensors.Sunhit[i]==True:\n",
    "            Dir1.append(Dir*abs(cosVectorAngle(sunbeam,sensors.NormalVector[i]))*area_grid*surface.Albedo.iloc[0]/area_surface)#depends on size of cells\n",
    "    DirectSolarRadiation = sum(Dir1)\n",
    "    \n",
    "    #diffuse solar radiation and longwave atmosphere radiation\n",
    "    DiffuseRadiation= (Dif*surface.Albedo.iloc[0]+Atm*(1-surface.Emissivity.iloc[0]))*surface.svf.iloc[0]\n",
    "    \n",
    "    #emitting radiation\n",
    "    e=0.5*surface.Emissivity.iloc[0]*con*(surface.T0.iloc[0]+273.15)**4\n",
    "    \n",
    "    Radiation = DiffuseRadiation+DirectSolarRadiation-e\n",
    "    return Radiation"
   ]
  },
  {
   "cell_type": "markdown",
   "id": "66e04fa6",
   "metadata": {},
   "source": [
    "# Convection"
   ]
  },
  {
   "cell_type": "markdown",
   "id": "f5cec4c0",
   "metadata": {},
   "source": [
    "Convection depends on the wind speed. Since we cannot simulate the wind speed under the city canopy, we shall give a constant value.The convection coefficient h is estimated as h = 4*uair + 4. Wind speed is according to the weather data at each time step."
   ]
  },
  {
   "cell_type": "code",
   "execution_count": 32,
   "id": "6507aa0c",
   "metadata": {},
   "outputs": [],
   "source": [
    "def CovectionCoefficient(uair):\n",
    "    return 4*uair+4"
   ]
  },
  {
   "cell_type": "code",
   "execution_count": 33,
   "id": "cffc5bbb",
   "metadata": {},
   "outputs": [],
   "source": [
    "#air temperature,wind speed,surface temperature\n",
    "def Convection(ta,uair,ts):\n",
    "    h = CovectionCoefficient(uair)\n",
    "    qv = h*(ta-ts)\n",
    "    return qv"
   ]
  },
  {
   "cell_type": "markdown",
   "id": "7735ec4c",
   "metadata": {},
   "source": [
    "# Final test"
   ]
  },
  {
   "cell_type": "code",
   "execution_count": 34,
   "id": "5f0da1b8",
   "metadata": {},
   "outputs": [],
   "source": [
    "#variation of surface temperature\n",
    "def DeltaT(surface,n,m,allfaces,latitude,longitude,date,buildings,delta,epsilon,ta,N,rh,uair,ViewFactorFrame):\n",
    "    thickness=0.1\n",
    "    density = 2076\n",
    "    h=surface.HeatCapacity.squeeze() # surface.HeatCapacity.squeeze()\n",
    "    Q_abs = AbsRadiation(surface,n,m,latitude,longitude,date,buildings,delta,epsilon,ta,N,rh)\n",
    "    Q_v = Convection(ta,uair,surface.T0.squeeze())\n",
    "    Q_s = SurfaceLongwave(surface,allfaces,ViewFactorFrame)\n",
    "    delta_t = (Q_abs+Q_v+Q_s)/(thickness*density*h) \n",
    "    return delta_t"
   ]
  },
  {
   "cell_type": "code",
   "execution_count": 35,
   "id": "0a9fd875",
   "metadata": {},
   "outputs": [],
   "source": [
    "#longwave radiation emitting from other surfaces and accepted by source surface\n",
    "def SurfaceLongwave(surface,allfaces,ViewFactorFrame):\n",
    "    longwave = []\n",
    "    area_s = area3d(surface.geometry.squeeze())\n",
    "    if surface.lable.squeeze()=='wall':\n",
    "        gid = surface.gid.squeeze()*4\n",
    "        fid = surface.fid.squeeze()\n",
    "    else:\n",
    "        gid = surface.gid.squeeze()\n",
    "        fid = 8\n",
    "    for i in range(len(allfaces)):\n",
    "        vf_i = ViewFactorFrame.iloc[i,int(gid+fid)]\n",
    "        if vf_i==0:\n",
    "            longwave.append(0)\n",
    "        else:\n",
    "            e=0.5*allfaces.Emissivity.iloc[i]*con*(allfaces.T0.iloc[i]+273.15)**4\n",
    "            longwave.append(e*(1-surface.Emissivity.squeeze())*vf_i*area3d(allfaces.geometry.iloc[i])/area_s)\n",
    "    return sum(longwave)"
   ]
  },
  {
   "cell_type": "code",
   "execution_count": 48,
   "id": "0aeb67bf",
   "metadata": {},
   "outputs": [],
   "source": [
    "#output the surface temperature at set date\n",
    "def SurfaceTemperature(date,allfaces,latitude,longitude,buildings,delta,epsilon,ta,N,rh,uair,ViewFactorFrame):\n",
    "    hour = date.hour\n",
    "    minute = date.minute\n",
    "    num = int(((hour-8)*60+minute)/30) #we set 8 am sunrise, num is number of loop\n",
    "    rem = ((hour-8)*60+minute)%30 #rem is the remainder\n",
    "    allfaces['T0']= [3 for i in allfaces.geometry] #initial value\n",
    "    date = date.replace(hour=8, minute=0)\n",
    "    x = 0\n",
    "    while x<num:\n",
    "        deltt = []\n",
    "        T = []\n",
    "        for i in range(len(allfaces)):\n",
    "            surface = GeoDataFrame.copy(allfaces.loc[(allfaces.index==i)])\n",
    "            if surface.lable.squeeze()=='ground':\n",
    "                n = 1\n",
    "                m = 1\n",
    "            else:\n",
    "                n = 10\n",
    "                m = 10\n",
    "            dt = DeltaT(surface,n,m,allfaces,latitude,longitude,date,buildings,delta,epsilon,ta,N,rh,uair,ViewFactorFrame)\n",
    "            deltt.append(dt)\n",
    "            T.append(surface.T0.squeeze()+dt*1800)\n",
    "        date = date+timedelta(minutes = 30)\n",
    "        allfaces.T0 = T\n",
    "        x = x + 1\n",
    "    dt_min = [item*rem for item in deltt]\n",
    "    allfaces.T0 = [t+dt for t,dt in zip(T,dt_min)]\n",
    "    return allfaces"
   ]
  },
  {
   "cell_type": "code",
   "execution_count": 65,
   "id": "a00371cf",
   "metadata": {
    "collapsed": true
   },
   "outputs": [
    {
     "name": "stdout",
     "output_type": "stream",
     "text": [
      "SVF calculation method: Bernard et al. (2018), nRays = 64, maxRayLen = 100.0\n",
      "SVF calculation method: Bernard et al. (2018), nRays = 64, maxRayLen = 100.0\n",
      "SVF calculation method: Bernard et al. (2018), nRays = 64, maxRayLen = 100.0\n",
      "SVF calculation method: Bernard et al. (2018), nRays = 64, maxRayLen = 100.0\n",
      "SVF calculation method: Bernard et al. (2018), nRays = 64, maxRayLen = 100.0\n",
      "SVF calculation method: Bernard et al. (2018), nRays = 64, maxRayLen = 100.0\n",
      "SVF calculation method: Bernard et al. (2018), nRays = 64, maxRayLen = 100.0\n",
      "SVF calculation method: Bernard et al. (2018), nRays = 64, maxRayLen = 100.0\n",
      "SVF calculation method: Bernard et al. (2018), nRays = 64, maxRayLen = 100.0\n",
      "SVF calculation method: Bernard et al. (2018), nRays = 64, maxRayLen = 100.0\n",
      "SVF calculation method: Bernard et al. (2018), nRays = 64, maxRayLen = 100.0\n",
      "SVF calculation method: Bernard et al. (2018), nRays = 64, maxRayLen = 100.0\n",
      "SVF calculation method: Bernard et al. (2018), nRays = 64, maxRayLen = 100.0\n",
      "SVF calculation method: Bernard et al. (2018), nRays = 64, maxRayLen = 100.0\n",
      "SVF calculation method: Bernard et al. (2018), nRays = 64, maxRayLen = 100.0\n",
      "SVF calculation method: Bernard et al. (2018), nRays = 64, maxRayLen = 100.0\n",
      "SVF calculation method: Bernard et al. (2018), nRays = 64, maxRayLen = 100.0\n",
      "SVF calculation method: Bernard et al. (2018), nRays = 64, maxRayLen = 100.0\n",
      "SVF calculation method: Bernard et al. (2018), nRays = 64, maxRayLen = 100.0\n",
      "SVF calculation method: Bernard et al. (2018), nRays = 64, maxRayLen = 100.0\n",
      "SVF calculation method: Bernard et al. (2018), nRays = 64, maxRayLen = 100.0\n",
      "SVF calculation method: Bernard et al. (2018), nRays = 64, maxRayLen = 100.0\n",
      "SVF calculation method: Bernard et al. (2018), nRays = 64, maxRayLen = 100.0\n",
      "SVF calculation method: Bernard et al. (2018), nRays = 64, maxRayLen = 100.0\n",
      "SVF calculation method: Bernard et al. (2018), nRays = 64, maxRayLen = 100.0\n",
      "SVF calculation method: Bernard et al. (2018), nRays = 64, maxRayLen = 100.0\n",
      "SVF calculation method: Bernard et al. (2018), nRays = 64, maxRayLen = 100.0\n",
      "SVF calculation method: Bernard et al. (2018), nRays = 64, maxRayLen = 100.0\n",
      "SVF calculation method: Bernard et al. (2018), nRays = 64, maxRayLen = 100.0\n",
      "SVF calculation method: Bernard et al. (2018), nRays = 64, maxRayLen = 100.0\n",
      "SVF calculation method: Bernard et al. (2018), nRays = 64, maxRayLen = 100.0\n",
      "SVF calculation method: Bernard et al. (2018), nRays = 64, maxRayLen = 100.0\n",
      "SVF calculation method: Bernard et al. (2018), nRays = 64, maxRayLen = 100.0\n",
      "SVF calculation method: Bernard et al. (2018), nRays = 64, maxRayLen = 100.0\n",
      "SVF calculation method: Bernard et al. (2018), nRays = 64, maxRayLen = 100.0\n",
      "SVF calculation method: Bernard et al. (2018), nRays = 64, maxRayLen = 100.0\n",
      "SVF calculation method: Bernard et al. (2018), nRays = 64, maxRayLen = 100.0\n",
      "SVF calculation method: Bernard et al. (2018), nRays = 64, maxRayLen = 100.0\n",
      "SVF calculation method: Bernard et al. (2018), nRays = 64, maxRayLen = 100.0\n",
      "SVF calculation method: Bernard et al. (2018), nRays = 64, maxRayLen = 100.0\n",
      "SVF calculation method: Bernard et al. (2018), nRays = 64, maxRayLen = 100.0\n",
      "SVF calculation method: Bernard et al. (2018), nRays = 64, maxRayLen = 100.0\n",
      "SVF calculation method: Bernard et al. (2018), nRays = 64, maxRayLen = 100.0\n",
      "SVF calculation method: Bernard et al. (2018), nRays = 64, maxRayLen = 100.0\n",
      "SVF calculation method: Bernard et al. (2018), nRays = 64, maxRayLen = 100.0\n",
      "SVF calculation method: Bernard et al. (2018), nRays = 64, maxRayLen = 100.0\n",
      "SVF calculation method: Bernard et al. (2018), nRays = 64, maxRayLen = 100.0\n",
      "SVF calculation method: Bernard et al. (2018), nRays = 64, maxRayLen = 100.0\n",
      "SVF calculation method: Bernard et al. (2018), nRays = 64, maxRayLen = 100.0\n",
      "SVF calculation method: Bernard et al. (2018), nRays = 64, maxRayLen = 100.0\n",
      "SVF calculation method: Bernard et al. (2018), nRays = 64, maxRayLen = 100.0\n",
      "SVF calculation method: Bernard et al. (2018), nRays = 64, maxRayLen = 100.0\n",
      "SVF calculation method: Bernard et al. (2018), nRays = 64, maxRayLen = 100.0\n",
      "SVF calculation method: Bernard et al. (2018), nRays = 64, maxRayLen = 100.0\n",
      "SVF calculation method: Bernard et al. (2018), nRays = 64, maxRayLen = 100.0\n",
      "SVF calculation method: Bernard et al. (2018), nRays = 64, maxRayLen = 100.0\n",
      "SVF calculation method: Bernard et al. (2018), nRays = 64, maxRayLen = 100.0\n",
      "SVF calculation method: Bernard et al. (2018), nRays = 64, maxRayLen = 100.0\n",
      "SVF calculation method: Bernard et al. (2018), nRays = 64, maxRayLen = 100.0\n",
      "SVF calculation method: Bernard et al. (2018), nRays = 64, maxRayLen = 100.0\n",
      "SVF calculation method: Bernard et al. (2018), nRays = 64, maxRayLen = 100.0\n",
      "SVF calculation method: Bernard et al. (2018), nRays = 64, maxRayLen = 100.0\n",
      "SVF calculation method: Bernard et al. (2018), nRays = 64, maxRayLen = 100.0\n",
      "SVF calculation method: Bernard et al. (2018), nRays = 64, maxRayLen = 100.0\n",
      "SVF calculation method: Bernard et al. (2018), nRays = 64, maxRayLen = 100.0\n",
      "SVF calculation method: Bernard et al. (2018), nRays = 64, maxRayLen = 100.0\n",
      "SVF calculation method: Bernard et al. (2018), nRays = 64, maxRayLen = 100.0\n",
      "SVF calculation method: Bernard et al. (2018), nRays = 64, maxRayLen = 100.0\n",
      "SVF calculation method: Bernard et al. (2018), nRays = 64, maxRayLen = 100.0\n",
      "SVF calculation method: Bernard et al. (2018), nRays = 64, maxRayLen = 100.0\n",
      "SVF calculation method: Bernard et al. (2018), nRays = 64, maxRayLen = 100.0\n",
      "SVF calculation method: Bernard et al. (2018), nRays = 64, maxRayLen = 100.0\n",
      "SVF calculation method: Bernard et al. (2018), nRays = 64, maxRayLen = 100.0\n",
      "SVF calculation method: Bernard et al. (2018), nRays = 64, maxRayLen = 100.0\n",
      "SVF calculation method: Bernard et al. (2018), nRays = 64, maxRayLen = 100.0\n",
      "SVF calculation method: Bernard et al. (2018), nRays = 64, maxRayLen = 100.0\n",
      "SVF calculation method: Bernard et al. (2018), nRays = 64, maxRayLen = 100.0\n",
      "SVF calculation method: Bernard et al. (2018), nRays = 64, maxRayLen = 100.0\n",
      "SVF calculation method: Bernard et al. (2018), nRays = 64, maxRayLen = 100.0\n",
      "SVF calculation method: Bernard et al. (2018), nRays = 64, maxRayLen = 100.0\n",
      "SVF calculation method: Bernard et al. (2018), nRays = 64, maxRayLen = 100.0\n",
      "SVF calculation method: Bernard et al. (2018), nRays = 64, maxRayLen = 100.0\n",
      "SVF calculation method: Bernard et al. (2018), nRays = 64, maxRayLen = 100.0\n",
      "SVF calculation method: Bernard et al. (2018), nRays = 64, maxRayLen = 100.0\n",
      "SVF calculation method: Bernard et al. (2018), nRays = 64, maxRayLen = 100.0\n",
      "SVF calculation method: Bernard et al. (2018), nRays = 64, maxRayLen = 100.0\n",
      "SVF calculation method: Bernard et al. (2018), nRays = 64, maxRayLen = 100.0\n",
      "SVF calculation method: Bernard et al. (2018), nRays = 64, maxRayLen = 100.0\n",
      "SVF calculation method: Bernard et al. (2018), nRays = 64, maxRayLen = 100.0\n",
      "SVF calculation method: Bernard et al. (2018), nRays = 64, maxRayLen = 100.0\n",
      "SVF calculation method: Bernard et al. (2018), nRays = 64, maxRayLen = 100.0\n",
      "SVF calculation method: Bernard et al. (2018), nRays = 64, maxRayLen = 100.0\n",
      "SVF calculation method: Bernard et al. (2018), nRays = 64, maxRayLen = 100.0\n",
      "SVF calculation method: Bernard et al. (2018), nRays = 64, maxRayLen = 100.0\n",
      "SVF calculation method: Bernard et al. (2018), nRays = 64, maxRayLen = 100.0\n",
      "SVF calculation method: Bernard et al. (2018), nRays = 64, maxRayLen = 100.0\n",
      "SVF calculation method: Bernard et al. (2018), nRays = 64, maxRayLen = 100.0\n",
      "SVF calculation method: Bernard et al. (2018), nRays = 64, maxRayLen = 100.0\n",
      "SVF calculation method: Bernard et al. (2018), nRays = 64, maxRayLen = 100.0\n",
      "SVF calculation method: Bernard et al. (2018), nRays = 64, maxRayLen = 100.0\n",
      "SVF calculation method: Bernard et al. (2018), nRays = 64, maxRayLen = 100.0\n",
      "SVF calculation method: Bernard et al. (2018), nRays = 64, maxRayLen = 100.0\n",
      "SVF calculation method: Bernard et al. (2018), nRays = 64, maxRayLen = 100.0\n",
      "SVF calculation method: Bernard et al. (2018), nRays = 64, maxRayLen = 100.0\n",
      "SVF calculation method: Bernard et al. (2018), nRays = 64, maxRayLen = 100.0\n",
      "SVF calculation method: Bernard et al. (2018), nRays = 64, maxRayLen = 100.0\n",
      "SVF calculation method: Bernard et al. (2018), nRays = 64, maxRayLen = 100.0\n",
      "SVF calculation method: Bernard et al. (2018), nRays = 64, maxRayLen = 100.0\n",
      "CPU times: total: 44.6 s\n",
      "Wall time: 44.7 s\n"
     ]
    }
   ],
   "source": [
    "%%time\n",
    "#First we set our initial value\n",
    "t_va = 1 / 3600 #temperature variation threhold\n",
    "ta = 12 #air temperature\n",
    "uair = 6 #wind speed\n",
    "rh = 0.4 #relative humidity\n",
    "con = 5.67e-8 #Stefan-Boltzmann constant\n",
    "N = 8 #cloudiness\n",
    "delta = 0.12 #sky's brightness (Perez et al.,1993)\n",
    "epsilon = 6.3 #sky's clearness (Perez et al.,1993)\n",
    "latitude = 47.16\n",
    "longitude = -1.60\n",
    "\n",
    "allfaces = pd.concat([SidewallsIn3d,GridIn3d])\n",
    "allfaces['T0'] = [3 for i in allfaces.geometry]\n",
    "allfaces = allfaces.reset_index(drop=True)\n",
    "skyviewfactor = []\n",
    "for i in range(len(allfaces)):\n",
    "    surface = GeoDataFrame.copy(allfaces.loc[(allfaces.index==i)])\n",
    "    if surface.lable.squeeze()=='ground':\n",
    "        n = 1\n",
    "        m = 1\n",
    "    else:\n",
    "        n = 10\n",
    "        m = 10\n",
    "    skyviewfactor.append(svf(surface,n,m,buildings))\n",
    "allfaces['svf'] = skyviewfactor"
   ]
  },
  {
   "cell_type": "code",
   "execution_count": 70,
   "id": "f170b5cd",
   "metadata": {},
   "outputs": [
    {
     "name": "stdout",
     "output_type": "stream",
     "text": [
      "CPU times: total: 8.5 s\n",
      "Wall time: 8.5 s\n"
     ]
    }
   ],
   "source": [
    "%%time\n",
    "\n",
    "date = datetime(2020,6,21,10,30,tzinfo=timezone.utc)\n",
    "allfaces = SurfaceTemperature(date,allfaces,latitude,longitude,buildings,delta,epsilon,ta,N,rh,uair,ViewFactorFrame)"
   ]
  },
  {
   "cell_type": "markdown",
   "id": "e461e607",
   "metadata": {},
   "source": [
    "# Result"
   ]
  },
  {
   "cell_type": "code",
   "execution_count": 71,
   "id": "ad9ba762",
   "metadata": {
    "collapsed": true
   },
   "outputs": [
    {
     "data": {
      "application/vnd.jupyter.widget-view+json": {
       "model_id": "6571b9ff22a34968b0b46ec0fc7169f4",
       "version_major": 2,
       "version_minor": 0
      },
      "text/plain": [
       "ViewInteractiveWidget(height=768, layout=Layout(height='auto', width='100%'), width=1024)"
      ]
     },
     "metadata": {},
     "output_type": "display_data"
    }
   ],
   "source": [
    "scene1 = ToUnstructuredGrid([allfaces],'T0').run()\n",
    "scene1.plot(scalars='T0',cmap='gist_earth',show_edges=False,\n",
    "\tshow_scalar_bar=True, point_size=5.0, render_points_as_spheres=True)"
   ]
  },
  {
   "cell_type": "markdown",
   "id": "5e942799",
   "metadata": {},
   "source": [
    "# Reflected radiation"
   ]
  },
  {
   "cell_type": "code",
   "execution_count": 85,
   "id": "b551051a",
   "metadata": {},
   "outputs": [],
   "source": [
    "def SymmetyVector(v1,n1):\n",
    "    v2 = 2*np.dot(v1,n1)*n1/module(n1)**2-v1\n",
    "    return v2"
   ]
  },
  {
   "cell_type": "code",
   "execution_count": null,
   "id": "337a6519",
   "metadata": {},
   "outputs": [],
   "source": []
  }
 ],
 "metadata": {
  "kernelspec": {
   "display_name": "Python 3 (ipykernel)",
   "language": "python",
   "name": "python3"
  },
  "language_info": {
   "codemirror_mode": {
    "name": "ipython",
    "version": 3
   },
   "file_extension": ".py",
   "mimetype": "text/x-python",
   "name": "python",
   "nbconvert_exporter": "python",
   "pygments_lexer": "ipython3",
   "version": "3.10.5"
  }
 },
 "nbformat": 4,
 "nbformat_minor": 5
}
