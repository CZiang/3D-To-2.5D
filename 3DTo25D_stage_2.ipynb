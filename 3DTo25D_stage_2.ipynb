{
 "cells": [
  {
   "cell_type": "code",
   "execution_count": 66,
   "id": "342bbbb5",
   "metadata": {},
   "outputs": [],
   "source": [
    "import matplotlib.pyplot as plt\n",
    "from t4gpd.io.CirReader import CirReader\n",
    "from t4gpd.pyvista.ToUnstructuredGrid import ToUnstructuredGrid\n",
    "from shapely.geometry import Polygon\n",
    "from geopandas import GeoDataFrame\n",
    "import numpy as np\n",
    "import pandas as pd\n",
    "import geopandas"
   ]
  },
  {
   "cell_type": "code",
   "execution_count": 67,
   "id": "f797dfde",
   "metadata": {},
   "outputs": [],
   "source": [
    "gdf = CirReader(\"C:/Users/zcui/Desktop/programming/Re_ Rnion bilan GLO dans le SIG/scene_masque.cir\").run()"
   ]
  },
  {
   "cell_type": "code",
   "execution_count": 140,
   "id": "74328fc8",
   "metadata": {},
   "outputs": [
    {
     "data": {
      "application/vnd.jupyter.widget-view+json": {
       "model_id": "83c2169519cd4fcab900a0374ef29463",
       "version_major": 2,
       "version_minor": 0
      },
      "text/plain": [
       "ViewInteractiveWidget(height=768, layout=Layout(height='auto', width='100%'), width=1024)"
      ]
     },
     "metadata": {},
     "output_type": "display_data"
    }
   ],
   "source": [
    "gdf3d = ToUnstructuredGrid(gdf).run()\n",
    "gdf3d.plot()"
   ]
  },
  {
   "cell_type": "code",
   "execution_count": 68,
   "id": "6456bcd2",
   "metadata": {},
   "outputs": [],
   "source": [
    "basemap_x=[]\n",
    "basemap_y=[]\n",
    "basemap_z=[]\n",
    "sidewall_x=[]\n",
    "sidewall_y=[]\n",
    "sidewall_z=[]\n",
    "for i in range(len(gdf)):\n",
    "    f = gdf.geometry[i]\n",
    "    fig = Polygon(f)\n",
    "    x, y, z=zip(*fig.exterior.coords)\n",
    "    #if sum(z)==0:\n",
    "    \n",
    "    if np.std(z)==0:\n",
    "        basemap_x.append(x)\n",
    "        basemap_y.append(y)\n",
    "        basemap_z.append(z)\n",
    "    else:\n",
    "        sidewall_x.append(x)\n",
    "        sidewall_y.append(y)\n",
    "        sidewall_z.append(z)"
   ]
  },
  {
   "cell_type": "code",
   "execution_count": 69,
   "id": "22ae30c8",
   "metadata": {},
   "outputs": [],
   "source": [
    "elevation = []\n",
    "for i in range(len(basemap_z)):\n",
    "    elevation.append(np.mean(basemap_z[i]))\n",
    "df = GeoDataFrame({'HAUTEUR':elevation})\n",
    "df['gid'] = df.index+1"
   ]
  },
  {
   "cell_type": "code",
   "execution_count": 70,
   "id": "8e25ebe4",
   "metadata": {},
   "outputs": [],
   "source": [
    "#lable\n",
    "lable = []\n",
    "for i in range(len(df)):\n",
    "    if df.HAUTEUR[i]==0:\n",
    "        lable.append(\"Ground\")\n",
    "    else:\n",
    "        lable.append(\"Building\")\n",
    "df['Lable'] = lable"
   ]
  },
  {
   "cell_type": "code",
   "execution_count": 71,
   "id": "45805cd9",
   "metadata": {},
   "outputs": [],
   "source": [
    "#geometry\n",
    "#geometry\n",
    "geometry =[]\n",
    "for i in range(len(df)):\n",
    "    p = Polygon(list(zip(basemap_x[i],basemap_y[i])))\n",
    "    geometry.append(p)\n",
    "df['geometry'] = geometry\n",
    "\n",
    "_difference = df.geometry[0]#create ground with holes\n",
    "for i in range(1,len(df)):\n",
    "    _difference = _difference.difference(df.geometry[i])\n",
    "df.at[0,'geometry']=_difference"
   ]
  },
  {
   "cell_type": "code",
   "execution_count": 72,
   "id": "9ef34b4e",
   "metadata": {},
   "outputs": [
    {
     "data": {
      "text/html": [
       "<div>\n",
       "<style scoped>\n",
       "    .dataframe tbody tr th:only-of-type {\n",
       "        vertical-align: middle;\n",
       "    }\n",
       "\n",
       "    .dataframe tbody tr th {\n",
       "        vertical-align: top;\n",
       "    }\n",
       "\n",
       "    .dataframe thead th {\n",
       "        text-align: right;\n",
       "    }\n",
       "</style>\n",
       "<table border=\"1\" class=\"dataframe\">\n",
       "  <thead>\n",
       "    <tr style=\"text-align: right;\">\n",
       "      <th></th>\n",
       "      <th>HAUTEUR</th>\n",
       "      <th>gid</th>\n",
       "      <th>Lable</th>\n",
       "      <th>geometry</th>\n",
       "      <th>floor</th>\n",
       "    </tr>\n",
       "  </thead>\n",
       "  <tbody>\n",
       "    <tr>\n",
       "      <th>0</th>\n",
       "      <td>0.0</td>\n",
       "      <td>1</td>\n",
       "      <td>Ground</td>\n",
       "      <td>POLYGON ((-30.000 120.000, 120.000 120.000, 12...</td>\n",
       "      <td>0.0</td>\n",
       "    </tr>\n",
       "    <tr>\n",
       "      <th>1</th>\n",
       "      <td>18.0</td>\n",
       "      <td>2</td>\n",
       "      <td>Building</td>\n",
       "      <td>POLYGON ((70.000 50.000, 70.000 70.000, 50.000...</td>\n",
       "      <td>6.0</td>\n",
       "    </tr>\n",
       "    <tr>\n",
       "      <th>2</th>\n",
       "      <td>18.0</td>\n",
       "      <td>3</td>\n",
       "      <td>Building</td>\n",
       "      <td>POLYGON ((25.000 0.000, 25.000 20.000, 5.000 2...</td>\n",
       "      <td>6.0</td>\n",
       "    </tr>\n",
       "    <tr>\n",
       "      <th>3</th>\n",
       "      <td>30.0</td>\n",
       "      <td>4</td>\n",
       "      <td>Building</td>\n",
       "      <td>POLYGON ((20.000 65.000, 40.000 65.000, 40.000...</td>\n",
       "      <td>10.0</td>\n",
       "    </tr>\n",
       "    <tr>\n",
       "      <th>4</th>\n",
       "      <td>30.0</td>\n",
       "      <td>5</td>\n",
       "      <td>Building</td>\n",
       "      <td>POLYGON ((95.000 70.000, 95.000 90.000, 75.000...</td>\n",
       "      <td>10.0</td>\n",
       "    </tr>\n",
       "    <tr>\n",
       "      <th>5</th>\n",
       "      <td>30.0</td>\n",
       "      <td>6</td>\n",
       "      <td>Building</td>\n",
       "      <td>POLYGON ((65.000 5.000, 65.000 25.000, 85.000 ...</td>\n",
       "      <td>10.0</td>\n",
       "    </tr>\n",
       "    <tr>\n",
       "      <th>6</th>\n",
       "      <td>36.0</td>\n",
       "      <td>7</td>\n",
       "      <td>Building</td>\n",
       "      <td>POLYGON ((60.000 80.000, 60.000 100.000, 40.00...</td>\n",
       "      <td>12.0</td>\n",
       "    </tr>\n",
       "    <tr>\n",
       "      <th>7</th>\n",
       "      <td>42.0</td>\n",
       "      <td>8</td>\n",
       "      <td>Building</td>\n",
       "      <td>POLYGON ((100.000 60.000, 100.000 40.000, 80.0...</td>\n",
       "      <td>14.0</td>\n",
       "    </tr>\n",
       "    <tr>\n",
       "      <th>8</th>\n",
       "      <td>42.0</td>\n",
       "      <td>9</td>\n",
       "      <td>Building</td>\n",
       "      <td>POLYGON ((20.000 75.000, 20.000 95.000, 0.000 ...</td>\n",
       "      <td>14.0</td>\n",
       "    </tr>\n",
       "    <tr>\n",
       "      <th>9</th>\n",
       "      <td>24.0</td>\n",
       "      <td>10</td>\n",
       "      <td>Building</td>\n",
       "      <td>POLYGON ((35.000 40.000, 35.000 20.000, 55.000...</td>\n",
       "      <td>8.0</td>\n",
       "    </tr>\n",
       "  </tbody>\n",
       "</table>\n",
       "</div>"
      ],
      "text/plain": [
       "   HAUTEUR  gid     Lable                                           geometry  \\\n",
       "0      0.0    1    Ground  POLYGON ((-30.000 120.000, 120.000 120.000, 12...   \n",
       "1     18.0    2  Building  POLYGON ((70.000 50.000, 70.000 70.000, 50.000...   \n",
       "2     18.0    3  Building  POLYGON ((25.000 0.000, 25.000 20.000, 5.000 2...   \n",
       "3     30.0    4  Building  POLYGON ((20.000 65.000, 40.000 65.000, 40.000...   \n",
       "4     30.0    5  Building  POLYGON ((95.000 70.000, 95.000 90.000, 75.000...   \n",
       "5     30.0    6  Building  POLYGON ((65.000 5.000, 65.000 25.000, 85.000 ...   \n",
       "6     36.0    7  Building  POLYGON ((60.000 80.000, 60.000 100.000, 40.00...   \n",
       "7     42.0    8  Building  POLYGON ((100.000 60.000, 100.000 40.000, 80.0...   \n",
       "8     42.0    9  Building  POLYGON ((20.000 75.000, 20.000 95.000, 0.000 ...   \n",
       "9     24.0   10  Building  POLYGON ((35.000 40.000, 35.000 20.000, 55.000...   \n",
       "\n",
       "   floor  \n",
       "0    0.0  \n",
       "1    6.0  \n",
       "2    6.0  \n",
       "3   10.0  \n",
       "4   10.0  \n",
       "5   10.0  \n",
       "6   12.0  \n",
       "7   14.0  \n",
       "8   14.0  \n",
       "9    8.0  "
      ]
     },
     "execution_count": 72,
     "metadata": {},
     "output_type": "execute_result"
    }
   ],
   "source": [
    "#floor\n",
    "floor = []\n",
    "for i in range(len(df)):\n",
    "    n=0\n",
    "    if df.Lable[i] == 'Ground':\n",
    "        floor.append(0)\n",
    "    else:\n",
    "        for j in range(len(sidewall_x)):\n",
    "            q = Polygon(list(zip(sidewall_x[j],sidewall_y[j])))\n",
    "            if df.geometry[i].contains(q):\n",
    "                n = n+1\n",
    "        nmb = len(basemap_x[i])-1\n",
    "        floor.append(n/nmb)\n",
    "df['floor'] = floor\n",
    "df"
   ]
  },
  {
   "cell_type": "code",
   "execution_count": 73,
   "id": "c7aab386",
   "metadata": {},
   "outputs": [],
   "source": [
    "from t4gpd.morph.geoProcesses.STGeoProcess import STGeoProcess\n",
    "from t4gpd.morph.geoProcesses.SkyViewFactor import SkyViewFactor\n",
    "from t4gpd.morph.STPointsDensifier2 import STPointsDensifier2"
   ]
  },
  {
   "cell_type": "code",
   "execution_count": 137,
   "id": "cd9d1cb1",
   "metadata": {},
   "outputs": [],
   "source": [
    "#sensors on the buildings\n",
    "df_buildings = GeoDataFrame.copy(df)#Here I create a copy value of df for puting sensors\n",
    "df_buildings.drop(df_buildings.index[df_buildings['Lable'] == 'Ground'], inplace = True)\n",
    "sensors = STPointsDensifier2(df_buildings, curvAbsc=[0.25,0.5,0.75], pathidFieldname=None).run()\n",
    "sensors.floor = sensors.floor.astype(int)"
   ]
  },
  {
   "cell_type": "code",
   "execution_count": 143,
   "id": "6a514aef",
   "metadata": {},
   "outputs": [
    {
     "data": {
      "text/plain": [
       "geopandas.geodataframe.GeoDataFrame"
      ]
     },
     "execution_count": 143,
     "metadata": {},
     "output_type": "execute_result"
    }
   ],
   "source": [
    "#create sensors in each floor level\n",
    "from t4gpd.commons.GeomLib import GeomLib\\\n",
    "\n",
    "rows = []\n",
    "for _,row in sensors.iterrows():\n",
    "    for nfloor in range(row.floor):\n",
    "        _row = row.copy()\n",
    "        _row.geometry = GeomLib.forceZCoordinateToZ0(_row.geometry,nfloor*3.0+1.5)\n",
    "        rows.append(_row)\n",
    "sensors2 = GeoDataFrame(rows,crs=sensors.crs)\n",
    "type(sensors2)"
   ]
  },
  {
   "cell_type": "code",
   "execution_count": 146,
   "id": "ffcea91f",
   "metadata": {},
   "outputs": [
    {
     "data": {
      "image/png": "[encoded data removed]",
      "text/plain": [
       "<Figure size 892.08x654.192 with 1 Axes>"
      ]
     },
     "metadata": {
      "needs_background": "light"
     },
     "output_type": "display_data"
    }
   ],
   "source": [
    "#plot\n",
    "fig, basemap = plt.subplots(figsize=(1.5 * 8.26, 1.1 * 8.26))\n",
    "basemap.set_title(f'{len(sensors)} sensors', size=26)\n",
    "df.plot(ax=basemap, color='lightgrey', edgecolor='dimgrey', linewidth=0.5)\n",
    "sensors2.plot(ax=basemap, color='black')\n",
    "basemap.axis('off')\n",
    "plt.show()"
   ]
  }
 ],
 "metadata": {
  "kernelspec": {
   "display_name": "Python 3 (ipykernel)",
   "language": "python",
   "name": "python3"
  },
  "language_info": {
   "codemirror_mode": {
    "name": "ipython",
    "version": 3
   },
   "file_extension": ".py",
   "mimetype": "text/x-python",
   "name": "python",
   "nbconvert_exporter": "python",
   "pygments_lexer": "ipython3",
   "version": "3.10.4"
  }
 },
 "nbformat": 4,
 "nbformat_minor": 5
}
